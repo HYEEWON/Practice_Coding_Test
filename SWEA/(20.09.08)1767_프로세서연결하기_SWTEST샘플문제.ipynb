{
 "cells": [
  {
   "cell_type": "markdown",
   "metadata": {},
   "source": [
    "## 백 트랙킹"
   ]
  },
  {
   "cell_type": "code",
   "execution_count": 1,
   "metadata": {},
   "outputs": [],
   "source": [
    "import sys"
   ]
  },
  {
   "cell_type": "code",
   "execution_count": 7,
   "metadata": {},
   "outputs": [
    {
     "name": "stdout",
     "output_type": "stream",
     "text": [
      "#1 12\n",
      "#2 10\n",
      "#3 24\n"
     ]
    }
   ],
   "source": [
    "from collections import deque\n",
    "# 큐를 사용했으나 dfs 특성상 pop을 하지 못해 배열과 같은 효과 발생..\n",
    "f = open(\"sample_input.txt\", \"r\")\n",
    "#T = int(input())\n",
    "T = int(f.readline())\n",
    "\n",
    "dx = [-1, 1, 0, 0]\n",
    "dy = [0, 0, 1, -1]\n",
    "\n",
    "\n",
    "def dfs(core_idx, line_len, core_num):\n",
    "    global min_line, max_core\n",
    "    if core_idx == len(core): #모든 코어 연결 성공\n",
    "        if core_num > max_core:\n",
    "            max_core = core_num\n",
    "            min_line = line_len\n",
    "        elif core_num == max_core:\n",
    "            if min_line > line_len:\n",
    "                min_line = line_len\n",
    "        return\n",
    "      \n",
    "    y, x = core[core_idx]\n",
    "    mem_visit = [[0 for i in range(N)] for j in range(N)]\n",
    "    for n in range(N):\n",
    "        for m in range(N):\n",
    "            mem_visit[n][m] = visit[n][m]\n",
    "\n",
    "    for i in range(4):\n",
    "        nx = x + dx[i]\n",
    "        ny = y + dy[i]\n",
    "        tmp_len = 0\n",
    "        line_success = True\n",
    "        while True:\n",
    "            if ny < 0 or nx < 0 or ny > N-1 or nx > N-1: #벽까지 연결\n",
    "                break\n",
    "            if visit[ny][nx] == 1 or visit[ny][nx] == 2: #core 이거나 전선 #더이상 연결 불가\n",
    "                line_success = False\n",
    "                break \n",
    "            # 벽까지 연결될 수 있는지 검사 #i가 변하지 않으므로 한방향으로 증가\n",
    "            visit[ny][nx] = 2\n",
    "            nx += dx[i]\n",
    "            ny += dy[i]\n",
    "            tmp_len += 1\n",
    "        if line_success:\n",
    "            dfs(core_idx+1, line_len+tmp_len, core_num+1)\n",
    "        for n in range(N):\n",
    "            for m in range(N):\n",
    "                visit[n][m] = mem_visit[n][m]\n",
    "    # core에서 연결 불가\n",
    "    dfs(core_idx+1, line_len, core_num)\n",
    "            \n",
    "    \n",
    "for test_case in range(1, T + 1):\n",
    "    #N = int(input())\n",
    "    N = int(f.readline())\n",
    "    board = []\n",
    "    visit = [[0 for i in range(N)] for j in range(N)]\n",
    "    \n",
    "    for n in range(N):\n",
    "        line = list(map(int, f.readline().split()))\n",
    "        #line = list(map(int, input().split()))\n",
    "        board.append(line)\n",
    "        \n",
    "    core = deque([])\n",
    "    core_idx = 0 #core 인덱스\n",
    "    line_len = 0 #전선 수\n",
    "    core_num = 0 #사용 core 수\n",
    "    for y in range(N):\n",
    "        for x in range(N):    \n",
    "            if board[y][x] == 1:\n",
    "                visit[y][x] = 1\n",
    "                if 1<=y<N-1 and 1<=x<N-1:\n",
    "                    core.append([y, x]) #y: 세로, x: 가로\n",
    "                else:\n",
    "                    core_num += 1\n",
    "                \n",
    "    min_line = 150\n",
    "    max_core = 0\n",
    "    dfs(core_idx, line_len, core_num) \n",
    "    print('#'+str(test_case)+' '+str(min_line))                   \n",
    "#f.close()"
   ]
  },
  {
   "cell_type": "code",
   "execution_count": null,
   "metadata": {},
   "outputs": [],
   "source": []
  }
 ],
 "metadata": {
  "kernelspec": {
   "display_name": "py1",
   "language": "python",
   "name": "py1"
  },
  "language_info": {
   "codemirror_mode": {
    "name": "ipython",
    "version": 3
   },
   "file_extension": ".py",
   "mimetype": "text/x-python",
   "name": "python",
   "nbconvert_exporter": "python",
   "pygments_lexer": "ipython3",
   "version": "3.6.10"
  }
 },
 "nbformat": 4,
 "nbformat_minor": 2
}

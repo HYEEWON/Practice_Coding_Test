{
 "cells": [
  {
   "cell_type": "markdown",
   "metadata": {},
   "source": [
    "## 완전탐색, 백트랙킹\n",
    "처음에는 땅 깎는 것을 고려하지 않고 BFS로 풀다가 시간버림<br>\n",
    "그래도 문제 읽으면 어떻게 풀어야 되는지 방법이 생각은 남\n",
    "https://swexpertacademy.com/main/code/problem/problemDetail.do?contestProbId=AV5PoOKKAPIDFAUq"
   ]
  },
  {
   "cell_type": "code",
   "execution_count": 1,
   "metadata": {},
   "outputs": [
    {
     "name": "stdout",
     "output_type": "stream",
     "text": [
      "#1 6\n",
      "#2 1\n",
      "#3 6\n",
      "#4 5\n",
      "#5 5\n",
      "#6 7\n",
      "#7 9\n",
      "#8 11\n",
      "#9 8\n",
      "#10 13\n"
     ]
    }
   ],
   "source": [
    "from collections import deque\n",
    "\n",
    "f = open(\"sample_input.txt\", \"r\")\n",
    "#T = int(input())\n",
    "T = int(f.readline())\n",
    "\n",
    "dx = [-1, 1, 0, 0]\n",
    "dy = [0, 0, 1, -1]\n",
    "\n",
    "for t in range(1, T+1, 1):\n",
    "    cnt = 0\n",
    "    N, K = map(int, f.readline().split())\n",
    "    #N, K = int(input().split())\n",
    "    board = []\n",
    "    max_board = 0\n",
    "    for n in range(N):\n",
    "        #line = list(map(int, input().split()))\n",
    "        line = list(map(int, f.readline().split()))\n",
    "        if max(line) > max_board:\n",
    "            max_board = max(line)\n",
    "        board.append(line)\n",
    "    #print(max_board)\n",
    "    \n",
    "    for i in range(len(board)):\n",
    "        for j in range(len(board)):\n",
    "            visit = [[0 for i in range(len(board))] for j in range(len(board))]\n",
    "            q = deque([])\n",
    "            if board[i][j] == max_board:\n",
    "                v = [i, j, 0]\n",
    "                q.append(v)\n",
    "                while q:\n",
    "                    y, x, cnt = q.popleft()\n",
    "                    for k in range(4):\n",
    "                        nx = dx[k] + x\n",
    "                        ny = dy[k] + y\n",
    "                        if nx < 0 or ny < 0 or nx > len(board) -1 or ny > len(board) -1:\n",
    "                            continue\n",
    "                        if visit[ny][nx] == 0 and board[ny][nx] < board[i][j]:\n",
    "                            q.append([ny, nx, cnt+1])\n",
    "                            visit[ny][nx] = 1\n",
    "                        elif visit[ny][nx] == 0 and board[ny][nx] >= board[i][j]:\n",
    "                            board[ny][nx] \n",
    "    print('#'+str(t)+' '+str(cnt))"
   ]
  },
  {
   "cell_type": "code",
   "execution_count": 52,
   "metadata": {},
   "outputs": [
    {
     "name": "stdout",
     "output_type": "stream",
     "text": [
      "#1 6\n",
      "#2 3\n",
      "#3 7\n",
      "#4 4\n",
      "#5 2\n",
      "#6 12\n",
      "#7 6\n",
      "#8 7\n",
      "#9 10\n",
      "#10 19\n"
     ]
    }
   ],
   "source": [
    "#from collections import deque\n",
    "\n",
    "f = open(\"sample_input.txt\", \"r\")\n",
    "#T = int(input())\n",
    "T = int(f.readline())\n",
    "\n",
    "dx = [-1, 1, 0, 0] #좌, 우\n",
    "dy = [0, 0, 1, -1] #하, 상\n",
    "\n",
    "\n",
    "def dfs(y, x, cnt, chg):\n",
    "    global ans\n",
    "    ans = max(ans, cnt)\n",
    "    for k in range(4):\n",
    "        nx = dx[k] + x\n",
    "        ny = dy[k] + y\n",
    "        if nx < 0 or ny < 0 or nx > len(board) -1 or ny > len(board) -1 or visit[ny][nx]:\n",
    "            continue\n",
    "            \n",
    "        if board[ny][nx] < board[y][x]:\n",
    "            visit[ny][nx] = 1\n",
    "            dfs(ny, nx, cnt+1, chg)\n",
    "            visit[ny][nx] = 0\n",
    "        elif board[ny][nx] >= board[y][x] and chg == False:\n",
    "            tmp = board[ny][nx]\n",
    "            for i in range(1, K+1, 1):\n",
    "                board[ny][nx] = board[ny][nx] - 1\n",
    "                if board[ny][nx] < board[y][x]:\n",
    "                    visit[ny][nx] = 1\n",
    "                    chg = True\n",
    "                    dfs(ny, nx, cnt+1, chg)\n",
    "                    chg = False\n",
    "                    visit[ny][nx] = 0\n",
    "            board[ny][nx] = tmp\n",
    "                \n",
    "            \n",
    "                            \n",
    "                            \n",
    "for t in range(1, T+1, 1):\n",
    "    N, K = map(int, f.readline().split())\n",
    "    #N, K = map(int, input().split())\n",
    "    board = []\n",
    "    ans = 0\n",
    "    max_board = 0 #보드의 최대값\n",
    "    for n in range(N):\n",
    "        #line = list(map(int, input().split()))\n",
    "        line = list(map(int, f.readline().split()))\n",
    "        max_board = max(max_board, max(line))\n",
    "        board.append(line)\n",
    "    #print(max_board)\n",
    "    for i in range(len(board)):\n",
    "        for j in range(len(board)):\n",
    "            visit = [[0 for a in range(len(board))] for b in range(len(board))]\n",
    "            if board[i][j] == max_board:\n",
    "                visit[i][j] = 1\n",
    "                dfs(i, j, 1, False)\n",
    "    print('#'+str(t)+' '+str(ans))"
   ]
  }
 ],
 "metadata": {
  "kernelspec": {
   "display_name": "py1",
   "language": "python",
   "name": "py1"
  },
  "language_info": {
   "codemirror_mode": {
    "name": "ipython",
    "version": 3
   },
   "file_extension": ".py",
   "mimetype": "text/x-python",
   "name": "python",
   "nbconvert_exporter": "python",
   "pygments_lexer": "ipython3",
   "version": "3.6.10"
  }
 },
 "nbformat": 4,
 "nbformat_minor": 2
}

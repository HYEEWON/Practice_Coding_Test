{
 "cells": [
  {
   "cell_type": "markdown",
   "metadata": {},
   "source": [
    "## 브루트 포스(완전 탐색)\n",
    "순열, 중복 순열 사용"
   ]
  },
  {
   "cell_type": "markdown",
   "metadata": {},
   "source": [
    "1. 1번 테스트 후 복구 반복 + 필름 전체 수정 후 확인 -> 시간초과\n",
    "2. 1번 테스트 후 복구 반복 + 필름 1줄씩 확인 -> 시간초과 감소\n",
    "3. 1번 바꿀 때 모두 테스트 후 복구(필름의 변경과 복구 시간 감소) + 필름 1줄씩 확인 -> PASS"
   ]
  },
  {
   "cell_type": "code",
   "execution_count": 1,
   "metadata": {},
   "outputs": [],
   "source": [
    "from itertools import combinations, permutations\n",
    "from itertools import product"
   ]
  },
  {
   "cell_type": "code",
   "execution_count": 6,
   "metadata": {},
   "outputs": [
    {
     "name": "stdout",
     "output_type": "stream",
     "text": [
      "#1 2\n",
      "#2 0\n",
      "#3 4\n",
      "#4 2\n",
      "#5 2\n",
      "#6 0\n",
      "#7 3\n",
      "#8 2\n",
      "#9 3\n",
      "#10 4\n"
     ]
    }
   ],
   "source": [
    "# 47/50 # 시간초과 발생\n",
    "\n",
    "f = open(\"sample_input.txt\", \"r\")\n",
    "#T = int(input())\n",
    "T = int(f.readline())\n",
    "\n",
    "def check(D, W, K):\n",
    "    flag = [False for i in range(W)]\n",
    "    cnt = [[1 for a in range(W)] for b in range(D)]\n",
    "    for i in range(1, D):\n",
    "            for j in range(W):\n",
    "                if board[i][j] == board[i-1][j]:\n",
    "                    cnt[i][j] = cnt[i-1][j]+1\n",
    "                if cnt[i][j] >= K:\n",
    "                    flag[j] = True\n",
    "    if flag.count(False) > 0:\n",
    "        return False\n",
    "    return True\n",
    "    \n",
    "for t in range(1, T+1):\n",
    "    D, W, K = map(int, f.readline().split()) #두께, 가로, 합격기준\n",
    "    board = []\n",
    "    for i in range(D):\n",
    "        line = list(map(int, f.readline().split()))\n",
    "        board.append(line)\n",
    "        \n",
    "    ans = 0\n",
    "    for i in range(D):\n",
    "        #print(t, i)\n",
    "        chg = list(combinations([n for n in range(D)], i)) \n",
    "        ab = list(product([0, 1], repeat = i))\n",
    "        select = list(product(chg, ab))\n",
    "        \n",
    "        for s in select:\n",
    "            tmp = [[0 for a in range(W)] for b in range(D)]\n",
    "            chk = False\n",
    "            for idx in range(i):\n",
    "                tmp[s[0][idx]] = board[s[0][idx]]\n",
    "                board[s[0][idx]] = [s[1][idx] for _ in range(W)]\n",
    "            chk = check(D, W, K)\n",
    "            for idx in range(i):\n",
    "                board[s[0][idx]] = tmp[s[0][idx]]\n",
    "            \n",
    "            if chk == True:\n",
    "                print('#'+str(t)+' '+str(i))\n",
    "                break\n",
    "        if chk == True:\n",
    "            break"
   ]
  },
  {
   "cell_type": "code",
   "execution_count": 12,
   "metadata": {},
   "outputs": [
    {
     "name": "stdout",
     "output_type": "stream",
     "text": [
      "#1 2\n",
      "#2 0\n",
      "#3 4\n",
      "#4 2\n",
      "#5 2\n",
      "#6 0\n",
      "#7 3\n",
      "#8 2\n",
      "#9 3\n",
      "#10 4\n"
     ]
    }
   ],
   "source": [
    "# 49/50 # 시간초과 발생\n",
    "\n",
    "f = open(\"sample_input.txt\", \"r\")\n",
    "#T = int(input())\n",
    "T = int(f.readline())\n",
    "\n",
    "def check(D, W, K):\n",
    "    for j in range(W):\n",
    "        col = False\n",
    "        for i in range(D-K+1):\n",
    "            flag = True\n",
    "            for k in range(i+1, i+K, 1):\n",
    "                if board[i][j] != board[k][j]:\n",
    "                    flag = False\n",
    "                    break\n",
    "            if flag:\n",
    "                col = True\n",
    "                break\n",
    "        if col == False:\n",
    "            return False\n",
    "    return True\n",
    "        \n",
    "for t in range(1, T+1):\n",
    "    D, W, K = map(int, f.readline().split()) #두께, 가로, 합격기준\n",
    "    board = []\n",
    "    for i in range(D):\n",
    "        line = list(map(int, f.readline().split()))\n",
    "        board.append(line)\n",
    "        \n",
    "    ans = 0\n",
    "    for i in range(D):\n",
    "        chg = list(combinations([n for n in range(D)], i)) \n",
    "        ab = list(product([0, 1], repeat = i))\n",
    "        select = list(product(chg, ab))\n",
    "\n",
    "        for s in select:\n",
    "            tmp = [[0 for a in range(W)] for b in range(D)]\n",
    "            chk = False\n",
    "            for idx in range(i):\n",
    "                tmp[s[0][idx]] = board[s[0][idx]]\n",
    "                board[s[0][idx]] = [s[1][idx] for _ in range(W)]\n",
    "\n",
    "            chk = check(D, W, K)\n",
    "            for idx in range(i):\n",
    "                board[s[0][idx]] = tmp[s[0][idx]]\n",
    "            \n",
    "            if chk == True:\n",
    "                print('#'+str(t)+' '+str(i))\n",
    "                break\n",
    "        if chk == True:\n",
    "            break"
   ]
  },
  {
   "cell_type": "code",
   "execution_count": 12,
   "metadata": {},
   "outputs": [
    {
     "name": "stdout",
     "output_type": "stream",
     "text": [
      "#1 2\n",
      "#2 0\n",
      "#3 4\n",
      "#4 2\n",
      "#5 2\n",
      "#6 0\n",
      "#7 3\n",
      "#8 2\n",
      "#9 3\n",
      "#10 4\n"
     ]
    }
   ],
   "source": [
    "# 50/50\n",
    "# PASS\n",
    "from itertools import combinations, permutations\n",
    "from itertools import product\n",
    "\n",
    "f = open(\"sample_input.txt\", \"r\")\n",
    "T = int(f.readline())\n",
    "\n",
    "def check(D, W, K):\n",
    "    for j in range(W):\n",
    "        col = False\n",
    "        for i in range(D-K+1):\n",
    "            flag = True\n",
    "            for k in range(i+1, i+K, 1):\n",
    "                if board[i][j] != board[k][j]:\n",
    "                    flag = False\n",
    "                    break\n",
    "            if flag:\n",
    "                col = True\n",
    "                break\n",
    "        if col == False:\n",
    "            return False\n",
    "    return True\n",
    "        \n",
    "for t in range(1, T+1):\n",
    "    D, W, K = map(int, f.readline().split()) #두께, 가로, 합격기준\n",
    "    board = []\n",
    "    for i in range(D):\n",
    "        line = list(map(int, f.readline().split()))\n",
    "        board.append(line)\n",
    "        \n",
    "    for i in range(K+1): #답은 K를 초과하지 않음\n",
    "        chg = list(combinations([n for n in range(D)], i)) \n",
    "        ab = list(product([0, 1], repeat = i))\n",
    "        tmp = [[0 for a in range(W)] for b in range(D)]\n",
    "        for c in chg:\n",
    "            for j in range(len(c)):\n",
    "                tmp[c[j]] = board[c[j]]\n",
    "            chk = False\n",
    "            for idx in ab:\n",
    "                for j in range(len(c)):\n",
    "                    board[c[j]] = [idx[j] for _ in range(W)]\n",
    "                chk = check(D, W, K)\n",
    "                if chk == True:\n",
    "                    print('#'+str(t)+' '+str(i))\n",
    "                    break\n",
    "                \n",
    "            if chk == False:\n",
    "                for j in range(len(c)):\n",
    "                    board[c[j]] = tmp[c[j]]\n",
    "            else:\n",
    "                break\n",
    "        if chk == True:\n",
    "            break"
   ]
  },
  {
   "cell_type": "code",
   "execution_count": null,
   "metadata": {},
   "outputs": [],
   "source": []
  }
 ],
 "metadata": {
  "kernelspec": {
   "display_name": "py1",
   "language": "python",
   "name": "py1"
  },
  "language_info": {
   "codemirror_mode": {
    "name": "ipython",
    "version": 3
   },
   "file_extension": ".py",
   "mimetype": "text/x-python",
   "name": "python",
   "nbconvert_exporter": "python",
   "pygments_lexer": "ipython3",
   "version": "3.6.10"
  }
 },
 "nbformat": 4,
 "nbformat_minor": 2
}

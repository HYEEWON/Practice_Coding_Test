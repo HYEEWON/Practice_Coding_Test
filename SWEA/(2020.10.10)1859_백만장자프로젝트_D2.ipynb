{
 "cells": [
  {
   "cell_type": "code",
   "execution_count": 21,
   "metadata": {},
   "outputs": [
    {
     "name": "stdout",
     "output_type": "stream",
     "text": [
      "0\n"
     ]
    }
   ],
   "source": [
    "T = int(input())\n",
    "for t in range(1, T+1):\n",
    "    N = int(input())\n",
    "    price = list(map(int, input().split()))\n",
    "    \n",
    "    max_price = price[-1]\n",
    "    money = 0\n",
    "    for i in range(N-2, -1, -1):\n",
    "        if max_price > price[i]:\n",
    "            money += max_price - price[i]\n",
    "        else:\n",
    "            max_price = price[i]\n",
    "    print('#'+str(t)+' '+ str(money))"
   ]
  }
 ],
 "metadata": {
  "kernelspec": {
   "display_name": "py1",
   "language": "python",
   "name": "py1"
  },
  "language_info": {
   "codemirror_mode": {
    "name": "ipython",
    "version": 3
   },
   "file_extension": ".py",
   "mimetype": "text/x-python",
   "name": "python",
   "nbconvert_exporter": "python",
   "pygments_lexer": "ipython3",
   "version": "3.6.10"
  }
 },
 "nbformat": 4,
 "nbformat_minor": 2
}

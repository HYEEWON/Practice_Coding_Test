{
 "cells": [
  {
   "cell_type": "code",
   "execution_count": 2,
   "metadata": {},
   "outputs": [
    {
     "name": "stdout",
     "output_type": "stream",
     "text": [
      "1\n",
      "6\n",
      "011001\n",
      "010100\n",
      "010011\n",
      "101001\n",
      "010101\n",
      "111010\n",
      "#1 2\n"
     ]
    }
   ],
   "source": [
    "from collections import deque\n",
    "\n",
    "def bfs(y, x):\n",
    "    q = deque([[y, x]])\n",
    "    visit[y][x] = arr[y][x]\n",
    "    while q:\n",
    "        y = q[0][0]\n",
    "        x = q[0][1]\n",
    "        q.popleft()\n",
    "        for i in range(4):\n",
    "            nx = x + dx[i]\n",
    "            ny = y + dy[i]\n",
    "            if N > nx >= 0 and N > ny >= 0:                 \n",
    "                if visit[ny][nx] > visit[y][x] + arr[ny][nx]:\n",
    "                    visit[ny][nx] = visit[y][x] + arr[ny][nx]\n",
    "                    q.append([ny, nx])\n",
    "    \n",
    "dx = [-1, 1, 0, 0]\n",
    "dy = [0, 0, 1, -1]\n",
    "\n",
    "T = int(input())\n",
    "for t in range(T):\n",
    "    N = int(input())\n",
    "    arr = []\n",
    "    for n in range(N):\n",
    "        line = list(map(int, input()))\n",
    "        arr.append(line)\n",
    "    visit = [[float('inf') for i in range(N)] for j in range(N)]\n",
    "    bfs(0, 0)\n",
    "    print('#'+str(t+1)+' '+str(visit[N-1][N-1]))"
   ]
  },
  {
   "cell_type": "code",
   "execution_count": null,
   "metadata": {},
   "outputs": [],
   "source": []
  },
  {
   "cell_type": "code",
   "execution_count": null,
   "metadata": {},
   "outputs": [],
   "source": []
  }
 ],
 "metadata": {
  "kernelspec": {
   "display_name": "py1",
   "language": "python",
   "name": "py1"
  }
 },
 "nbformat": 4,
 "nbformat_minor": 2
}

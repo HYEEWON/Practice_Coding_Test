{
 "cells": [
  {
   "cell_type": "markdown",
   "metadata": {},
   "source": [
    "# Back Tracking"
   ]
  },
  {
   "cell_type": "markdown",
   "metadata": {},
   "source": [
    "##### 1. 가능한 지점까지 탐색하다가 이전 단계로 거슬러 올라감\n",
    "##### 2. 가능성이 없는 답은 가지치기(Pruning) & 나머지 검색\n",
    "##### 3. DFS 사용\n",
    "##### ex) N-Queens Problem, Sum of Subset Problem, 0/1 knapsack Problem"
   ]
  },
  {
   "cell_type": "markdown",
   "metadata": {},
   "source": [
    "## 가능한 수열 찾기"
   ]
  },
  {
   "cell_type": "code",
   "execution_count": 7,
   "metadata": {},
   "outputs": [
    {
     "name": "stdout",
     "output_type": "stream",
     "text": [
      "4 2\n",
      "1 2\n",
      "1 3\n",
      "1 4\n",
      "2 1\n",
      "2 3\n",
      "2 4\n",
      "3 1\n",
      "3 2\n",
      "3 4\n",
      "4 1\n",
      "4 2\n",
      "4 3\n"
     ]
    }
   ],
   "source": [
    "# 1~N 중 중복없이 M개를 고른 수열\n",
    "\n",
    "n, m = map(int, input().split())\n",
    "\n",
    "num = [i for i in range(1, n+1)]\n",
    "check = [False] * n\n",
    "\n",
    "result = []\n",
    "\n",
    "def dfs(cnt):\n",
    "    if cnt == m:\n",
    "        print(*result) #수열 출력(값만 출력)\n",
    "        return\n",
    "    for i in range(0, n):\n",
    "        if check[i]:\n",
    "            continue        \n",
    "        check[i] = True #if 문이 false이면 실행\n",
    "        #i번째는 지나갈 것임\n",
    "        result.append(num[i])\n",
    "        dfs(cnt+1)\n",
    "        result.pop()\n",
    "        check[i] = False\n",
    "        \n",
    "dfs(0)"
   ]
  },
  {
   "cell_type": "markdown",
   "metadata": {},
   "source": [
    "## 4 Queens Problem"
   ]
  },
  {
   "cell_type": "markdown",
   "metadata": {},
   "source": [
    "#### 1. n개의 퀸을 n*n 체스판에 배치\n",
    "#### 2. Promising: col[i]:i 행에 있는 퀸의 열\n",
    "#### col[i] = col[k] 검사 (열 검사)\n",
    "#### |col[i] - col[k]| = |i-k| 검사 (대각선 검사)"
   ]
  },
  {
   "cell_type": "code",
   "execution_count": 31,
   "metadata": {},
   "outputs": [
    {
     "name": "stdout",
     "output_type": "stream",
     "text": [
      "8\n",
      "92\n"
     ]
    }
   ],
   "source": [
    "import math\n",
    "\n",
    "def promising(num):\n",
    "    for i in range(num):\n",
    "        if board[i] == board[num] or abs(board[i]-board[num]) == num-i:\n",
    "            return False\n",
    "    return True\n",
    "\n",
    "def dfs(num):\n",
    "    global cnt\n",
    "    if num == N: \n",
    "        cnt += 1\n",
    "    else:\n",
    "        for i in range(N):\n",
    "            board[num] = i #board[a] = b #a행 b열에 퀸을 놓는다.\n",
    "            if promising(num) == True: \n",
    "                dfs(num+1)\n",
    "            \n",
    "N = int(input())\n",
    "board = [0]*N\n",
    "cnt = 0\n",
    "dfs(0) # 0행에 넣는 것으로 시작\n",
    "print(cnt)"
   ]
  }
 ],
 "metadata": {
  "kernelspec": {
   "display_name": "py1",
   "language": "python",
   "name": "py1"
  },
  "language_info": {
   "codemirror_mode": {
    "name": "ipython",
    "version": 3
   },
   "file_extension": ".py",
   "mimetype": "text/x-python",
   "name": "python",
   "nbconvert_exporter": "python",
   "pygments_lexer": "ipython3",
   "version": "3.6.10"
  }
 },
 "nbformat": 4,
 "nbformat_minor": 2
}

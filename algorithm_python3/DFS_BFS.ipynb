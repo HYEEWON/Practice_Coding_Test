{
 "cells": [
  {
   "cell_type": "markdown",
   "metadata": {},
   "source": [
    "![graph](https://user-images.githubusercontent.com/38900338/91636207-dcffab80-ea39-11ea-8c95-738e05046f0b.PNG)"
   ]
  },
  {
   "cell_type": "code",
   "execution_count": 1,
   "metadata": {},
   "outputs": [],
   "source": [
    "graph = {'A': set(['B', 'C']),\n",
    "         'B': set(['A', 'D', 'E']),\n",
    "         'C': set(['A', 'F']),\n",
    "         'D': set(['B']),\n",
    "         'E': set(['B', 'F']),\n",
    "         'F': set(['C', 'E'])}"
   ]
  },
  {
   "cell_type": "code",
   "execution_count": 14,
   "metadata": {},
   "outputs": [],
   "source": [
    "n = 6 #the number of vertices\n",
    "m = 6 #the number of lines\n",
    "v = 1 #start vertex\n",
    "\n",
    "## A:1 B:2 C:3 D:4 E:5 F:6 ##\n",
    "matrix = [[0]*(n+1) for i in range(n+1)]\n",
    "line = [[1, 2], [1, 3], [3, 6], [2, 4], [2, 5], [5, 6]]\n",
    "\n",
    "for i in range(m):\n",
    "    matrix[line[i][0]][line[i][1]] = 1\n",
    "    matrix[line[i][1]][line[i][0]] = 1"
   ]
  },
  {
   "cell_type": "code",
   "execution_count": 15,
   "metadata": {},
   "outputs": [],
   "source": [
    "def dfs(v):\n",
    "    visit[v] = 1\n",
    "    print(v, end=' ')\n",
    "    for i in range(1, n+1):\n",
    "        if visit[i]==0 and matrix[v][i]==1:\n",
    "            dfs(i)"
   ]
  },
  {
   "cell_type": "code",
   "execution_count": 16,
   "metadata": {},
   "outputs": [
    {
     "name": "stdout",
     "output_type": "stream",
     "text": [
      "1 2 4 5 6 3 "
     ]
    }
   ],
   "source": [
    "visit=[0 for i in range(n+1)] \n",
    "dfs(v)"
   ]
  },
  {
   "cell_type": "code",
   "execution_count": 17,
   "metadata": {},
   "outputs": [],
   "source": [
    "from collections import deque\n",
    "\n",
    "def bfs(v):\n",
    "    q = deque([v])\n",
    "    visit[v] = 1\n",
    "    while(q):\n",
    "        v = q[0]\n",
    "        print(v, end=' ')\n",
    "        q.popleft() \n",
    "        for i in range(1, n+1):\n",
    "            if visit[i] == 0 and matrix[v][i] == 1:\n",
    "                q.append(i) # add adjecent vertices\n",
    "                visit[i] = 1 # visit v"
   ]
  },
  {
   "cell_type": "code",
   "execution_count": 18,
   "metadata": {},
   "outputs": [
    {
     "name": "stdout",
     "output_type": "stream",
     "text": [
      "1 2 3 4 5 6 "
     ]
    }
   ],
   "source": [
    "visit=[0 for i in range(n+1)]  \n",
    "bfs(v)"
   ]
  }
 ],
 "metadata": {
  "kernelspec": {
   "display_name": "py1",
   "language": "python",
   "name": "py1"
  },
  "language_info": {
   "codemirror_mode": {
    "name": "ipython",
    "version": 3
   },
   "file_extension": ".py",
   "mimetype": "text/x-python",
   "name": "python",
   "nbconvert_exporter": "python",
   "pygments_lexer": "ipython3",
   "version": "3.6.10"
  }
 },
 "nbformat": 4,
 "nbformat_minor": 2
}

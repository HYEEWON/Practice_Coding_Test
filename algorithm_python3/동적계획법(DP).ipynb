{
 "cells": [
  {
   "cell_type": "markdown",
   "metadata": {},
   "source": [
    "## 동적 계획법"
   ]
  },
  {
   "cell_type": "markdown",
   "metadata": {},
   "source": [
    "* 상향식 해결법\n",
    "* 최적화 문제 해결에 사용\n",
    "* 작은 부분 문제들의 해 -> 다른 부분 문제 해결에 사용 -> 결과를 저장하면서 해결 (-> 메모리 절약)\n",
    "* 메모이제이션\n",
    "* 조건: Optimal Substructure, Overlapping Recursive Calls"
   ]
  },
  {
   "cell_type": "markdown",
   "metadata": {},
   "source": [
    "< 예시 > <br>\n",
    "* 피보나치 수열\n",
    "* 벨만 포드\n",
    "* Floyd Warshall\n",
    "* 0 / 1 Knapsack\n",
    "* 연속 행렬 곱셈\n",
    "* Traveling-Sales Person"
   ]
  },
  {
   "cell_type": "markdown",
   "metadata": {},
   "source": [
    "### 피보나치 수열"
   ]
  },
  {
   "cell_type": "code",
   "execution_count": 6,
   "metadata": {},
   "outputs": [
    {
     "name": "stdout",
     "output_type": "stream",
     "text": [
      "5\n",
      "[0, 1, 1, 2, 3, 5]\n"
     ]
    }
   ],
   "source": [
    "def fibo(n):\n",
    "    if mem[n] != -1:\n",
    "        return mem[n]\n",
    "    if n <= 1:\n",
    "        mem[n] = n\n",
    "    else:\n",
    "        mem[n] = fibo(n-1) + fibo(n-2)\n",
    "    return mem[n]\n",
    "\n",
    "N = 5\n",
    "mem = [-1 for i in range(N+1)]\n",
    "print(fibo(N))\n",
    "print(mem)"
   ]
  }
 ],
 "metadata": {
  "kernelspec": {
   "display_name": "py1",
   "language": "python",
   "name": "py1"
  },
  "language_info": {
   "codemirror_mode": {
    "name": "ipython",
    "version": 3
   },
   "file_extension": ".py",
   "mimetype": "text/x-python",
   "name": "python",
   "nbconvert_exporter": "python",
   "pygments_lexer": "ipython3",
   "version": "3.6.10"
  }
 },
 "nbformat": 4,
 "nbformat_minor": 2
}

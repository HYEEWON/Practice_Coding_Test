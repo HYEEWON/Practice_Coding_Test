{
 "cells": [
  {
   "cell_type": "markdown",
   "metadata": {},
   "source": [
    "## 1_1"
   ]
  },
  {
   "cell_type": "code",
   "execution_count": 55,
   "metadata": {},
   "outputs": [
    {
     "name": "stdout",
     "output_type": "stream",
     "text": [
      "4 2\n",
      "1 2 \n",
      "1 3 \n",
      "1 4 \n",
      "2 1 \n",
      "2 3 \n",
      "2 4 \n",
      "3 1 \n",
      "3 2 \n",
      "3 4 \n",
      "4 1 \n",
      "4 2 \n",
      "4 3 \n"
     ]
    }
   ],
   "source": [
    "from itertools import permutations \n",
    "n, m = map(int, input().split())\n",
    "\n",
    "items = [i for i in range(1, n + 1)] \n",
    "p = permutations(items, m) #p에 객체가 반환\n",
    "\n",
    "for i in p:\n",
    "    for j in i:\n",
    "        print(j, end = ' ')\n",
    "    print(end = '\\n')"
   ]
  },
  {
   "cell_type": "markdown",
   "metadata": {},
   "source": [
    "## 1_2"
   ]
  },
  {
   "cell_type": "code",
   "execution_count": 73,
   "metadata": {},
   "outputs": [
    {
     "name": "stdout",
     "output_type": "stream",
     "text": [
      "4 2\n",
      "1 2\n",
      "1 3\n",
      "1 4\n",
      "2 1\n",
      "2 3\n",
      "2 4\n",
      "3 1\n",
      "3 2\n",
      "3 4\n",
      "4 1\n",
      "4 2\n",
      "4 3\n"
     ]
    }
   ],
   "source": [
    "n, m = map(int, input().split())\n",
    "\n",
    "num = [i for i in range(1, n+1)]\n",
    "check = [False] * n\n",
    "\n",
    "result = []\n",
    "\n",
    "def dfs(cnt):\n",
    "    if cnt == m:\n",
    "        print(*result) #수열 출력\n",
    "        return\n",
    "    for i in range(0, n):\n",
    "        if check[i]:\n",
    "            continue\n",
    "            \n",
    "        check[i] = True #if 문이 false이면 실행\n",
    "        #i번째는 지나갈 것임\n",
    "        result.append(num[i])\n",
    "        dfs(cnt+1)\n",
    "        #print(result)\n",
    "        #print(check)\n",
    "        result.pop()\n",
    "        check[i] = False\n",
    "        \n",
    "dfs(0)"
   ]
  },
  {
   "cell_type": "markdown",
   "metadata": {},
   "source": [
    "## 2_1"
   ]
  },
  {
   "cell_type": "code",
   "execution_count": 72,
   "metadata": {},
   "outputs": [
    {
     "name": "stdout",
     "output_type": "stream",
     "text": [
      "4 2\n",
      "1 2 \n",
      "1 3 \n",
      "1 4 \n",
      "2 3 \n",
      "2 4 \n",
      "3 4 \n"
     ]
    }
   ],
   "source": [
    "from itertools import combinations\n",
    "n, m = map(int, input().split())\n",
    "\n",
    "items = [i for i in range(1, n + 1)] \n",
    "c = combinations(items, m) #p에 객체가 반환\n",
    "    \n",
    "for i in c:\n",
    "    for j in i:\n",
    "        print(j, end = ' ')\n",
    "    print(end = '\\n')"
   ]
  },
  {
   "cell_type": "code",
   "execution_count": 8,
   "metadata": {},
   "outputs": [
    {
     "name": "stdout",
     "output_type": "stream",
     "text": [
      "4 2\n",
      "1 2\n",
      "1 3\n",
      "1 4\n",
      "2 3\n",
      "2 4\n",
      "3 4\n"
     ]
    }
   ],
   "source": [
    "n, m = map(int, input().split())\n",
    "\n",
    "num = [i for i in range(1, n+1)]\n",
    "check = [False] * n\n",
    "\n",
    "result = []\n",
    "\n",
    "def dfs(cnt):\n",
    "    if cnt == m:\n",
    "        print(*result) #수열 출력\n",
    "        return\n",
    "    for i in range(0, n):\n",
    "        if check[i]:\n",
    "            continue\n",
    "            \n",
    "        check[i] = True #if 문이 false이면 실행\n",
    "        #i번째는 지나갈 것임\n",
    "        result.append(num[i])\n",
    "        dfs(cnt+1)\n",
    "        #print(result)\n",
    "        #print(check)\n",
    "        result.pop()\n",
    "        for j in range(i + 1, n):\n",
    "            check[j] = False\n",
    "        \n",
    "dfs(0)"
   ]
  },
  {
   "cell_type": "markdown",
   "metadata": {},
   "source": [
    "## 3"
   ]
  },
  {
   "cell_type": "code",
   "execution_count": 5,
   "metadata": {},
   "outputs": [
    {
     "name": "stdout",
     "output_type": "stream",
     "text": [
      "4 2\n",
      "1 1 \n",
      "1 2 \n",
      "1 3 \n",
      "1 4 \n",
      "2 1 \n",
      "2 2 \n",
      "2 3 \n",
      "2 4 \n",
      "3 1 \n",
      "3 2 \n",
      "3 3 \n",
      "3 4 \n",
      "4 1 \n",
      "4 2 \n",
      "4 3 \n",
      "4 4 \n"
     ]
    }
   ],
   "source": [
    "# 중복 순열\n",
    "import itertools\n",
    "n, m = map(int, input().split())\n",
    "\n",
    "items = [i for i in range(1, n + 1)] \n",
    "p = itertools.product(items, repeat = m) #p에 객체가 반환\n",
    "\n",
    "for i in p:\n",
    "    for j in i:\n",
    "        print(j, end = ' ')\n",
    "    print(end = '\\n')"
   ]
  },
  {
   "cell_type": "markdown",
   "metadata": {},
   "source": [
    "## 5"
   ]
  },
  {
   "cell_type": "code",
   "execution_count": 10,
   "metadata": {},
   "outputs": [
    {
     "name": "stdout",
     "output_type": "stream",
     "text": [
      "8\n",
      "92\n"
     ]
    }
   ],
   "source": [
    "def promising(num):\n",
    "    for i in range(num):\n",
    "        if board[i] == board[num] or abs(board[i] - board[num]) == abs(i - num):\n",
    "                return False\n",
    "    return True\n",
    "\n",
    "def dfs(num): #num: 현재 퀸의 수\n",
    "    global cnt\n",
    "    if num == n:\n",
    "        cnt += 1\n",
    "        \n",
    "    else:\n",
    "        for i in range(n):\n",
    "            board[num] = i #board[a] = b #\n",
    "            if promising(num) == True:\n",
    "                dfs(num+1)\n",
    "\n",
    "                \n",
    "n = int(input())\n",
    "board = [0 for i in range(n)] # 0 ~ n-1 열 \n",
    "cnt = 0\n",
    "\n",
    "dfs(0) #0행에 넣는 것으로 시작\n",
    "print(cnt)"
   ]
  },
  {
   "cell_type": "markdown",
   "metadata": {},
   "source": [
    "## 7"
   ]
  },
  {
   "cell_type": "code",
   "execution_count": 26,
   "metadata": {},
   "outputs": [
    {
     "name": "stdout",
     "output_type": "stream",
     "text": [
      "6\n",
      "1 2 3 4 5 6\n",
      "2 1 1 1\n",
      "[(3, 0, 2, 0, 1), (1, 2, 0, 3, 0), (1, 2, 3, 0, 0), (3, 0, 1, 2, 0), (3, 0, 2, 1, 0), (0, 2, 1, 3, 0), (0, 2, 3, 1, 0), (1, 3, 0, 0, 2), (3, 0, 0, 1, 2), (3, 0, 1, 0, 2), (0, 3, 0, 2, 1), (0, 3, 2, 0, 1), (2, 0, 0, 3, 1), (2, 0, 3, 0, 1), (1, 3, 0, 2, 0), (1, 3, 2, 0, 0), (1, 0, 2, 3, 0), (1, 0, 3, 2, 0), (2, 1, 0, 3, 0), (2, 1, 3, 0, 0), (2, 0, 0, 1, 3), (2, 0, 1, 0, 3), (3, 1, 0, 0, 2), (3, 1, 0, 2, 0), (1, 0, 0, 3, 2), (1, 0, 3, 0, 2), (3, 1, 2, 0, 0), (3, 2, 0, 1, 0), (0, 0, 2, 3, 1), (0, 0, 3, 2, 1), (3, 2, 1, 0, 0), (0, 0, 2, 1, 3), (0, 0, 1, 2, 3), (0, 1, 0, 3, 2), (0, 1, 3, 0, 2), (0, 1, 3, 2, 0), (0, 1, 2, 3, 0), (2, 3, 0, 0, 1), (0, 3, 0, 1, 2), (0, 3, 1, 0, 2), (1, 2, 0, 0, 3), (3, 0, 0, 2, 1), (0, 3, 1, 2, 0), (0, 3, 2, 1, 0), (0, 2, 0, 3, 1), (0, 2, 3, 0, 1), (2, 0, 1, 3, 0), (2, 0, 3, 1, 0), (2, 1, 0, 0, 3), (2, 3, 1, 0, 0), (0, 2, 1, 0, 3), (0, 2, 0, 1, 3), (1, 0, 0, 2, 3), (1, 0, 2, 0, 3), (3, 2, 0, 0, 1), (0, 0, 3, 1, 2), (0, 0, 1, 3, 2), (0, 1, 0, 2, 3), (0, 1, 2, 0, 3), (2, 3, 0, 1, 0)]\n"
     ]
    }
   ],
   "source": [
    "import itertools\n",
    "\n",
    "n = int(input())\n",
    "num = list(map(int, input().split()))\n",
    "oper = list(map(int, input().split()))\n",
    "\n",
    "operator = [0] * oper[0] + [1] * oper[1] + [2] * oper[2] + [3] * oper[3]\n",
    "it = list(set(itertools.permutations(operator)))\n",
    "#it = list(set(it))\n",
    "print(it)"
   ]
  },
  {
   "cell_type": "code",
   "execution_count": 22,
   "metadata": {},
   "outputs": [
    {
     "name": "stdout",
     "output_type": "stream",
     "text": [
      "0\n",
      "-1\n"
     ]
    }
   ],
   "source": [
    "def calc_oper(a, b, i):\n",
    "    if i == 0:\n",
    "        result = a + b\n",
    "    if i == 1:\n",
    "        result = a - b\n",
    "    if i == 2:\n",
    "        result = a * b\n",
    "    if i == 3:\n",
    "        if a > 0:\n",
    "            result = a // b \n",
    "        else:\n",
    "            result = (abs(a) // b) * (-1)       \n",
    "    return result\n",
    "\n",
    "\n",
    "max = 0\n",
    "min = 1000000000\n",
    "\n",
    "for i in it:\n",
    "    k = 0\n",
    "    ans = num[k]\n",
    "    for j in i:\n",
    "        ans = calc_oper(ans, num[k + 1], j)\n",
    "        k += 1\n",
    "    if max < ans: max = ans\n",
    "    if min > ans: min = ans\n",
    "            \n",
    "print(max)\n",
    "print(min)"
   ]
  },
  {
   "cell_type": "code",
   "execution_count": 25,
   "metadata": {},
   "outputs": [
    {
     "name": "stdout",
     "output_type": "stream",
     "text": [
      "54\n",
      "-24\n"
     ]
    }
   ],
   "source": [
    "max = -1000000000\n",
    "min = 1000000000\n",
    "\n",
    "for iters in it:\n",
    "    ans = num[0]\n",
    "    for k in range(1, n):\n",
    "        if iters[k-1] == 0: ans += num[k]\n",
    "        elif iters[k-1] == 1: ans -= num[k]\n",
    "        elif iters[k-1] == 2: ans *= num[k]\n",
    "        elif iters[k-1] == 3:\n",
    "            if ans > 0: ans //= num[k]\n",
    "            else: ans =  (abs(ans) // num[k]) * (-1)\n",
    "    if max < ans: max = ans\n",
    "    if min > ans: min = ans\n",
    "            \n",
    "print(max)\n",
    "print(min)"
   ]
  },
  {
   "cell_type": "markdown",
   "metadata": {},
   "source": [
    "## 8"
   ]
  },
  {
   "cell_type": "code",
   "execution_count": 16,
   "metadata": {},
   "outputs": [
    {
     "name": "stdout",
     "output_type": "stream",
     "text": [
      "6\n",
      "0 1 2 3 4 5\n",
      "1 0 2 3 4 5\n",
      "1 2 0 3 4 5\n",
      "1 2 3 0 4 5\n",
      "1 2 3 4 0 5\n",
      "1 2 3 4 5 0\n"
     ]
    }
   ],
   "source": [
    "n = int(input())\n",
    "s = []\n",
    "for i in range(n):\n",
    "    line = list(map(int, input().split()))\n",
    "    s.append(line)\n",
    "        \n",
    "#print(s)"
   ]
  },
  {
   "cell_type": "code",
   "execution_count": 26,
   "metadata": {},
   "outputs": [
    {
     "name": "stdout",
     "output_type": "stream",
     "text": [
      "[(0, 1, 2), (0, 1, 3), (0, 1, 4), (0, 1, 5), (0, 2, 3), (0, 2, 4), (0, 2, 5), (0, 3, 4), (0, 3, 5), (0, 4, 5), (1, 2, 3), (1, 2, 4), (1, 2, 5), (1, 3, 4), (1, 3, 5), (1, 4, 5), (2, 3, 4), (2, 3, 5), (2, 4, 5), (3, 4, 5)]\n",
      "20\n",
      "[(0, 1, 2), (0, 1, 3), (0, 1, 4), (0, 1, 5), (0, 2, 3), (0, 2, 4), (0, 2, 5), (0, 3, 4), (0, 3, 5), (0, 4, 5), (1, 2, 3), (1, 2, 4), (1, 2, 5), (1, 3, 4), (1, 3, 5), (1, 4, 5), (2, 3, 4), (2, 3, 5), (2, 4, 5), (3, 4, 5)]\n"
     ]
    }
   ],
   "source": [
    "import itertools\n",
    "person = [i for i in range(n)] # 0 ~ n-1 번 사용\n",
    "c = list(itertools.combinations(person, n // 2))\n",
    "\n",
    "print(c)\n",
    "print(len(c))\n",
    "\n",
    "#c = [c[i] for i in range(len(c)//2)]\n",
    "print(c)"
   ]
  },
  {
   "cell_type": "code",
   "execution_count": 31,
   "metadata": {},
   "outputs": [
    {
     "name": "stdout",
     "output_type": "stream",
     "text": [
      "2\n"
     ]
    }
   ],
   "source": [
    "cnt = len(c) // 2\n",
    "min = 100\n",
    "\n",
    "for i in range(cnt):\n",
    "    sum_s = 0\n",
    "    sum_l = 0\n",
    "    t = len(c) - 1 - i\n",
    "    for x in range(n // 2):\n",
    "        for y in range(n // 2):\n",
    "            sum_s += s[c[i][x]][c[i][y]]\n",
    "            sum_l += s[c[t][x]][c[t][y]] \n",
    "    \n",
    "    diff = abs(sum_s - sum_l)\n",
    "    if min > diff: min = diff\n",
    "        \n",
    "print(min)"
   ]
  },
  {
   "cell_type": "markdown",
   "metadata": {},
   "source": [
    "## 8_2"
   ]
  },
  {
   "cell_type": "code",
   "execution_count": null,
   "metadata": {},
   "outputs": [],
   "source": [
    "n = int(input())\n",
    "s = []\n",
    "for i in range(n):\n",
    "    line = list(map(int, input().split()))\n",
    "    s.append(line)\n",
    "\n",
    "bit = str()\n",
    "def dfs_s(bit, startteam, linkteam):\n",
    "    if bit.size() == n:\n",
    "        start = []\n",
    "        link = []\n",
    "        for i in range(len(bit)):\n",
    "            if bit[i] == '1':\n",
    "                start.append(i)\n",
    "            else:\n",
    "                link.append(i)\n",
    "                \n",
    "        startsum = 0\n",
    "        linksum = 0\n",
    "        \n",
    "        for x in range(n // 2):\n",
    "            for y in range(n // 2):\n",
    "                sum_s += (s[start[x]][start[y]] + s[start[y]][start[x]])\n",
    "                sum_l += (s[start[x]][start[y]] + s[start[y]][start[x]])\n",
    "    \n",
    "    bits = bit+\"1\"\n",
    "    if startteam < n//2: dfs_s(bits, startteam+1, linkteam)\n",
    "    bits = bit+\"0\"\n",
    "    if linkteam < n//2: dfs_s(bits, startteam, linkteam+1)\n",
    "    \n",
    "    \n",
    "dfs(\"\", 0, 0);"
   ]
  },
  {
   "cell_type": "code",
   "execution_count": null,
   "metadata": {},
   "outputs": [],
   "source": []
  }
 ],
 "metadata": {
  "kernelspec": {
   "display_name": "Python 3",
   "language": "python",
   "name": "python3"
  },
  "language_info": {
   "codemirror_mode": {
    "name": "ipython",
    "version": 3
   },
   "file_extension": ".py",
   "mimetype": "text/x-python",
   "name": "python",
   "nbconvert_exporter": "python",
   "pygments_lexer": "ipython3",
   "version": "3.7.4"
  }
 },
 "nbformat": 4,
 "nbformat_minor": 2
}

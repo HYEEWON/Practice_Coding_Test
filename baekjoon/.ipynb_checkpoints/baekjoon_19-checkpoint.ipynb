{
 "cells": [
  {
   "cell_type": "markdown",
   "metadata": {},
   "source": [
    "## 1"
   ]
  },
  {
   "cell_type": "code",
   "execution_count": 3,
   "metadata": {},
   "outputs": [
    {
     "name": "stdout",
     "output_type": "stream",
     "text": [
      "8 16\n",
      "factor\n",
      "32 4\n",
      "multiple\n",
      "17 5\n",
      "neither\n",
      "0 0\n"
     ]
    }
   ],
   "source": [
    "def func(a, b):\n",
    "    if b % a == 0: return \"factor\"\n",
    "    elif a % b == 0: return \"multiple\"\n",
    "    else: return \"neither\"\n",
    "    \n",
    "    \n",
    "a, b = list(map(int, input().split()))\n",
    "while a != 0 or b != 0:\n",
    "    print(func(a, b))\n",
    "    a, b = list(map(int, input().split()))"
   ]
  },
  {
   "cell_type": "markdown",
   "metadata": {},
   "source": [
    "## 2"
   ]
  },
  {
   "cell_type": "code",
   "execution_count": 17,
   "metadata": {},
   "outputs": [
    {
     "name": "stdout",
     "output_type": "stream",
     "text": [
      "10\n",
      "3 6\n"
     ]
    }
   ],
   "source": [
    "c = int(input())\n",
    "ali = list(map(int, input().split()))"
   ]
  },
  {
   "cell_type": "code",
   "execution_count": 22,
   "metadata": {},
   "outputs": [
    {
     "name": "stdout",
     "output_type": "stream",
     "text": [
      "18\n"
     ]
    }
   ],
   "source": [
    "print(min(ali)*max(ali))"
   ]
  },
  {
   "cell_type": "markdown",
   "metadata": {},
   "source": [
    "## 3"
   ]
  },
  {
   "cell_type": "code",
   "execution_count": null,
   "metadata": {},
   "outputs": [
    {
     "name": "stdout",
     "output_type": "stream",
     "text": [
      "72\n"
     ]
    }
   ],
   "source": [
    "#소인수 분해: 소수들의 곱으로 나타낸 것\n",
    "\n",
    "n = int(input())\n",
    "while n !=1:\n",
    "    if n % i == 0:\n",
    "        print(i)\n",
    "        n //= i\n",
    "    else: i += 1"
   ]
  },
  {
   "cell_type": "markdown",
   "metadata": {},
   "source": [
    "## 4"
   ]
  },
  {
   "cell_type": "code",
   "execution_count": 13,
   "metadata": {},
   "outputs": [
    {
     "name": "stdout",
     "output_type": "stream",
     "text": [
      "1 1\n",
      "1\n",
      "1\n"
     ]
    }
   ],
   "source": [
    "n = list(map(int, input().split()))\n",
    "\n",
    "maxint = 1\n",
    "minint = 1\n",
    "i = 2\n",
    "\n",
    "while i <= min(n):\n",
    "    if n[0] % i == 0 and n[1] % i == 0:\n",
    "        maxint = i\n",
    "    i += 1   \n",
    "    \n",
    "minint = n[0] * (n[1] // maxint)\n",
    "    \n",
    "print(maxint)\n",
    "print(minint)"
   ]
  },
  {
   "cell_type": "markdown",
   "metadata": {},
   "source": [
    "## 5 "
   ]
  },
  {
   "cell_type": "code",
   "execution_count": 1,
   "metadata": {},
   "outputs": [
    {
     "name": "stdout",
     "output_type": "stream",
     "text": [
      "3\n",
      "6\n",
      "34\n",
      "38\n",
      "[6, 34, 38]\n"
     ]
    }
   ],
   "source": [
    "n = int(input())\n",
    "num = []\n",
    "for i in range(n):\n",
    "    num.append(int(input()))\n",
    "    \n",
    "print(num)"
   ]
  },
  {
   "cell_type": "code",
   "execution_count": 6,
   "metadata": {},
   "outputs": [
    {
     "name": "stdout",
     "output_type": "stream",
     "text": [
      "[2, 4]\n"
     ]
    }
   ],
   "source": [
    "M = []\n",
    "m = 2\n",
    "while m <= min(num):\n",
    "    a = num[0] % m\n",
    "    i = 1\n",
    "    flag = True\n",
    "    for i in range(1, n):\n",
    "        if num[i] % m != a:\n",
    "            flag = False\n",
    "            break   \n",
    "    if i == n-1 and flag == True: M.append(m)\n",
    "    m += 1\n",
    "    \n",
    "        \n",
    "print(M)"
   ]
  },
  {
   "cell_type": "code",
   "execution_count": 19,
   "metadata": {},
   "outputs": [
    {
     "name": "stdout",
     "output_type": "stream",
     "text": [
      "2 4 "
     ]
    }
   ],
   "source": [
    "import math\n",
    "\n",
    "num.sort()\n",
    "M = []\n",
    "sub = []\n",
    "\n",
    "for i in range(1, n):\n",
    "    sub.append(num[i]-num[i-1])\n",
    "\n",
    "gcd = num[1] - num[0]\n",
    "for i in range(2, n):    \n",
    "    gcd = math.gcd(num[i] - num[i-1], gcd)\n",
    "\n",
    "gcd_a = int(gcd**0.5)\n",
    "for i in range(2, gcd_a+1):    \n",
    "    if gcd % i == 0:\n",
    "        M.append(i)\n",
    "        M.append(gcd//i)\n",
    "M.append(gcd)\n",
    "M = list(set(M))\n",
    "M.sort()\n",
    "\n",
    "for i in range(len(M)):\n",
    "    print(M[i], end = ' ')"
   ]
  },
  {
   "cell_type": "markdown",
   "metadata": {},
   "source": [
    "## 6"
   ]
  },
  {
   "cell_type": "code",
   "execution_count": 3,
   "metadata": {},
   "outputs": [
    {
     "name": "stdout",
     "output_type": "stream",
     "text": [
      "4\n",
      "12 3 8 4\n",
      "4/1\n",
      "3/2\n",
      "3/1\n"
     ]
    }
   ],
   "source": [
    "import math\n",
    "n = int(input())\n",
    "dia = list(map(int, input().split()))\n",
    "    \n",
    "for i in range(1, n):\n",
    "    gcd = math.gcd(dia[0], dia[i])\n",
    "    print(str(dia[0]//gcd) + '/' + str(dia[i]//gcd))"
   ]
  },
  {
   "cell_type": "markdown",
   "metadata": {},
   "source": [
    "## 7"
   ]
  },
  {
   "cell_type": "code",
   "execution_count": 9,
   "metadata": {},
   "outputs": [
    {
     "name": "stdout",
     "output_type": "stream",
     "text": [
      "5 2\n",
      "10\n"
     ]
    }
   ],
   "source": [
    "import math\n",
    "    \n",
    "n, k = map(int, input().split())\n",
    "ans = 1\n",
    "for i in range(k):\n",
    "    ans *= n\n",
    "    n -=1\n",
    "    \n",
    "for i in range(1, k+1):\n",
    "    ans /= i  \n",
    "    \n",
    "print(int(ans))"
   ]
  },
  {
   "cell_type": "code",
   "execution_count": 12,
   "metadata": {},
   "outputs": [
    {
     "name": "stdout",
     "output_type": "stream",
     "text": [
      "1 1\n",
      "1\n"
     ]
    }
   ],
   "source": [
    "import math\n",
    "\n",
    "def multi(n):\n",
    "    if n == 0 or n == 1: return 1\n",
    "    else: return n*multi(n-1)\n",
    "\n",
    "n, k = map(int, input().split())\n",
    "ans = multi(n) / (multi(k)*multi(n-k))\n",
    "print(int(ans))"
   ]
  },
  {
   "cell_type": "markdown",
   "metadata": {},
   "source": [
    "## 7"
   ]
  },
  {
   "cell_type": "code",
   "execution_count": 18,
   "metadata": {},
   "outputs": [
    {
     "name": "stdout",
     "output_type": "stream",
     "text": [
      "1 1\n",
      "1\n"
     ]
    }
   ],
   "source": [
    "n, k = map(int, input().split())\n",
    "ans = [[0 for i in range(k+2)] for j in range(n+1)]\n",
    "ans[1][0] = ans[1][1] = 1\n",
    "for i in range(1, n+1):\n",
    "    ans[i][0] = 1\n",
    "    \n",
    "for i in range(2, n+1):\n",
    "    for j in range(1, k+1):\n",
    "        ans[i][j] = ans[i-1][j-1] + ans[i-1][j]\n",
    "\n",
    "print(ans[n][k] % 10007)"
   ]
  },
  {
   "cell_type": "markdown",
   "metadata": {},
   "source": [
    "## 8"
   ]
  },
  {
   "cell_type": "code",
   "execution_count": 11,
   "metadata": {},
   "outputs": [
    {
     "name": "stdout",
     "output_type": "stream",
     "text": [
      "2\n",
      "3\n",
      "hat headgear\n",
      "sunglasses eyewear\n",
      "turban headgear\n",
      "5\n",
      "3\n",
      "mask face\n",
      "mak face\n",
      "masasa face\n",
      "3\n"
     ]
    }
   ],
   "source": [
    "t = int(input())\n",
    "for i in range(t):\n",
    "    n = int(input())\n",
    "    c = []\n",
    "    for j in range(n):\n",
    "        c.append(input().split()[1])\n",
    "    c_key = list(set(c))\n",
    "    \n",
    "    wear = []\n",
    "    for j in range(len(c_key)):\n",
    "        wear.append(c.count(c_key[j]))\n",
    "        \n",
    "    ans = 1\n",
    "    for j in wear:\n",
    "        ans *= (j + 1)\n",
    "        \n",
    "    print(ans-1)"
   ]
  },
  {
   "cell_type": "code",
   "execution_count": 16,
   "metadata": {},
   "outputs": [
    {
     "name": "stdout",
     "output_type": "stream",
     "text": [
      "1\n",
      "3\n",
      "hat headgear\n",
      "hat headgear\n",
      "hat headgear\n",
      "3\n"
     ]
    }
   ],
   "source": [
    "T = int(input())\n",
    "\n",
    "for _ in range(T):\n",
    "    n = int(input())\n",
    "\n",
    "    wearable = dict()\n",
    "    for _ in range(n):\n",
    "        wear_name, wear_type = map(str, input().split())\n",
    "        \n",
    "        #같은 옷 분류 중, 이름은 버리고 종류만 가져가기\n",
    "        if wear_type in wearable.keys():\n",
    "            wearable[wear_type] += 1\n",
    "        else:\n",
    "            wearable[wear_type] = 1\n",
    "        \n",
    "        #print(wearable)\n",
    "        #(각 옷의 수)+1 한 것을 곱해줌\n",
    "        answer = 1\n",
    "        for key in wearable.keys():\n",
    "            answer *= wearable[key] + 1\n",
    "    #안입는 경우만 뺴줌\n",
    "    print(answer - 1)\n"
   ]
  },
  {
   "cell_type": "code",
   "execution_count": 17,
   "metadata": {},
   "outputs": [
    {
     "name": "stdout",
     "output_type": "stream",
     "text": [
      "1\n",
      "3\n",
      "hat headgear\n",
      "hat headgear\n",
      "hat headgear\n",
      "3\n"
     ]
    }
   ],
   "source": [
    "t = int(input())\n",
    "for i in range(t):\n",
    "    n = int(input())\n",
    "    c = dict()\n",
    "    for j in range(n):\n",
    "        c_kind, c_key = map(str, input().split())\n",
    "        \n",
    "        if c_key in c.keys():\n",
    "            c[c_key] += 1\n",
    "        else: c[c_key] = 1\n",
    "    \n",
    "    ans = 1\n",
    "    for j in c.keys():\n",
    "        ans *= (c[j]+1)\n",
    "        \n",
    "    print(ans-1)"
   ]
  },
  {
   "cell_type": "code",
   "execution_count": null,
   "metadata": {},
   "outputs": [],
   "source": []
  }
 ],
 "metadata": {
  "kernelspec": {
   "display_name": "Python 3",
   "language": "python",
   "name": "python3"
  },
  "language_info": {
   "codemirror_mode": {
    "name": "ipython",
    "version": 3
   },
   "file_extension": ".py",
   "mimetype": "text/x-python",
   "name": "python",
   "nbconvert_exporter": "python",
   "pygments_lexer": "ipython3",
   "version": "3.7.4"
  }
 },
 "nbformat": 4,
 "nbformat_minor": 2
}

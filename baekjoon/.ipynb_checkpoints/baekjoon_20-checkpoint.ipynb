{
 "cells": [
  {
   "cell_type": "markdown",
   "metadata": {},
   "source": [
    "## 1"
   ]
  },
  {
   "cell_type": "code",
   "execution_count": 9,
   "metadata": {},
   "outputs": [
    {
     "name": "stdout",
     "output_type": "stream",
     "text": [
      "2\n",
      "push 1\n",
      "top\n",
      "1\n"
     ]
    }
   ],
   "source": [
    "n = int(input())\n",
    "\n",
    "s = []\n",
    "for i in range(n):\n",
    "    input_split = input().split()\n",
    "    op = input_split[0]\n",
    "    \n",
    "    if op == \"push\": s.append(input_split[1])\n",
    "    elif op == \"pop\": \n",
    "        if len(s) == 0: print(-1)\n",
    "        else: \n",
    "            print(s[len(s)-1])\n",
    "            s.pop()\n",
    "    elif op == \"size\":\n",
    "        print(len(s))\n",
    "    elif op == \"empty\":\n",
    "        if len(s) == 0: print(1)\n",
    "        else: print(0)\n",
    "    else:\n",
    "        if len(s) == 0: print(-1)\n",
    "        else: print(s[len(s)-1])"
   ]
  },
  {
   "cell_type": "markdown",
   "metadata": {},
   "source": [
    "## 2"
   ]
  },
  {
   "cell_type": "code",
   "execution_count": 10,
   "metadata": {},
   "outputs": [
    {
     "name": "stdout",
     "output_type": "stream",
     "text": [
      "4\n",
      "3\n",
      "0\n",
      "4\n",
      "0\n",
      "0\n"
     ]
    }
   ],
   "source": [
    "k = int(input())\n",
    "s = []\n",
    "for i in range(k):\n",
    "    num = int(input())\n",
    "    if num == 0: s.pop()\n",
    "    else: s.append(num)\n",
    "        \n",
    "print(sum(s))"
   ]
  },
  {
   "cell_type": "markdown",
   "metadata": {},
   "source": [
    "## 3"
   ]
  },
  {
   "cell_type": "code",
   "execution_count": 20,
   "metadata": {},
   "outputs": [
    {
     "name": "stdout",
     "output_type": "stream",
     "text": [
      "6\n",
      "(((()())()\n",
      "NO\n",
      "()()()()(()()())()\n",
      "YES\n",
      "(()((())()(\n",
      "NO\n",
      "(\n",
      "NO\n",
      "(())())\n",
      "NO\n",
      "(()())((()))\n",
      "YES\n"
     ]
    }
   ],
   "source": [
    "def parenthesis(s):\n",
    "    st = []\n",
    "    for i in range(len(s)):\n",
    "        if s[i] == ')':\n",
    "            if len(st) == 0:  return 'NO'\n",
    "            else: st.pop()\n",
    "        else: st.append(s[i])\n",
    "            \n",
    "    if len(st) == 0: return 'YES'\n",
    "    return 'NO'\n",
    "    \n",
    "t = int(input())\n",
    "for i in range(t):\n",
    "    s = input()\n",
    "    print(parenthesis(s))"
   ]
  },
  {
   "cell_type": "markdown",
   "metadata": {},
   "source": [
    "## 4"
   ]
  },
  {
   "cell_type": "code",
   "execution_count": 1,
   "metadata": {},
   "outputs": [
    {
     "name": "stdout",
     "output_type": "stream",
     "text": [
      "so wer w\n"
     ]
    }
   ],
   "source": [
    "#while True:\n",
    "s = input()\n",
    "for i in range(len(s)):\n",
    "    st = []\n",
    "    if s[i] == '.': break\n",
    "    if s[i] == '(' or s[i] == '[': st.append(s[i])\n",
    "    elif st[len(st)-1] == '(' and s[i] == ')': st.pop()\n",
    "    "
   ]
  },
  {
   "cell_type": "code",
   "execution_count": 3,
   "metadata": {},
   "outputs": [
    {
     "data": {
      "text/plain": [
       "8"
      ]
     },
     "execution_count": 3,
     "metadata": {},
     "output_type": "execute_result"
    }
   ],
   "source": [
    "len(s)"
   ]
  },
  {
   "cell_type": "code",
   "execution_count": null,
   "metadata": {},
   "outputs": [],
   "source": []
  }
 ],
 "metadata": {
  "kernelspec": {
   "display_name": "Python 3",
   "language": "python",
   "name": "python3"
  },
  "language_info": {
   "codemirror_mode": {
    "name": "ipython",
    "version": 3
   },
   "file_extension": ".py",
   "mimetype": "text/x-python",
   "name": "python",
   "nbconvert_exporter": "python",
   "pygments_lexer": "ipython3",
   "version": "3.7.4"
  }
 },
 "nbformat": 4,
 "nbformat_minor": 2
}

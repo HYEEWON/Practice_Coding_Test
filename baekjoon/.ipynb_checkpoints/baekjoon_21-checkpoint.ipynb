{
 "cells": [
  {
   "cell_type": "markdown",
   "metadata": {},
   "source": [
    "## 1"
   ]
  },
  {
   "cell_type": "code",
   "execution_count": 16,
   "metadata": {},
   "outputs": [
    {
     "name": "stdout",
     "output_type": "stream",
     "text": [
      "1\n",
      "push 1\n"
     ]
    }
   ],
   "source": [
    "n = int(input())\n",
    "arr = []\n",
    "idx = 0 #큐 시작 인덱스\n",
    "for i in range(n):\n",
    "    op = input().split()\n",
    "    length = len(arr)\n",
    "    if op[0] == \"push\":\n",
    "        arr.append(int(op[1]))\n",
    "    elif op[0] == \"pop\":\n",
    "        if len(arr) > idx:\n",
    "            print(arr[idx])\n",
    "            #arr.pop(0) #O(n)\n",
    "            idx += 1\n",
    "        else: print(-1)\n",
    "    elif op[0] == \"size\":\n",
    "        print(length-idx)\n",
    "    elif op[0] == \"empty\":\n",
    "        if len(arr) == idx:\n",
    "            print(1)\n",
    "            idx = 0\n",
    "            arr = []\n",
    "        else: print(0)\n",
    "    elif op[0] == \"front\":\n",
    "        if len(arr) > idx: print(arr[idx])\n",
    "        else: print(-1)\n",
    "    elif op[0] == \"back\":\n",
    "        if len(arr) > idx: print(arr[-1])\n",
    "        else: print(-1)"
   ]
  },
  {
   "cell_type": "markdown",
   "metadata": {},
   "source": [
    "## 2"
   ]
  },
  {
   "cell_type": "code",
   "execution_count": 22,
   "metadata": {},
   "outputs": [
    {
     "name": "stdout",
     "output_type": "stream",
     "text": [
      "1\n",
      "1\n"
     ]
    }
   ],
   "source": [
    "n = int(input())\n",
    "arr = [i for i in range(1, n+1)]\n",
    "\n",
    "idx = 0\n",
    "while True:\n",
    "    size = len(arr) - idx\n",
    "    if size == 1:\n",
    "        print(arr[idx])\n",
    "        break\n",
    "    idx += 1\n",
    "    arr.append(arr[idx])\n",
    "    idx += 1"
   ]
  },
  {
   "cell_type": "markdown",
   "metadata": {},
   "source": [
    "## 3"
   ]
  },
  {
   "cell_type": "code",
   "execution_count": 1,
   "metadata": {},
   "outputs": [
    {
     "name": "stdout",
     "output_type": "stream",
     "text": [
      "7 3\n",
      "<3, 6, 2, 7, 5, 1, 4>\n"
     ]
    }
   ],
   "source": [
    "import queue\n",
    "\n",
    "n, k = map(int, input().split())\n",
    "q = queue.Queue()\n",
    "for i in range(1, n+1):\n",
    "    q.put(i)\n",
    "\n",
    "ans = queue.Queue()\n",
    "while q.qsize() != 0:\n",
    "    for i in range(k-1):\n",
    "        q.put(q.get())\n",
    "    ans.put(q.get())\n",
    "\n",
    "print('<', end = '')\n",
    "for i in range(n-1):\n",
    "    print(str(ans.get()) + ', ', end = '')\n",
    "print(str(ans.get()) + '>')"
   ]
  },
  {
   "cell_type": "code",
   "execution_count": 12,
   "metadata": {},
   "outputs": [],
   "source": [
    "from collections import deque\n",
    "\n",
    "n, k = map(int, input().split())\n",
    "q = deque([i for i in range(1, n+1)])\n",
    "ans = []\n",
    "\n",
    "while dq:\n",
    "    "
   ]
  },
  {
   "cell_type": "code",
   "execution_count": 15,
   "metadata": {},
   "outputs": [
    {
     "name": "stdout",
     "output_type": "stream",
     "text": [
      "7 3\n",
      "<3, 6, 2, 7, 5, 1, 4>"
     ]
    }
   ],
   "source": [
    "n, k = map(int, input().split())\n",
    "q = [i for i in range(1, n+1)]\n",
    "ans = []\n",
    "temp = k-1\n",
    "\n",
    "for i in range(n):\n",
    "    if len(q) > temp: #위치가 리스트를 넘지 않으면\n",
    "        ans.append(q.pop(temp))\n",
    "    else: #위치가 리스트를 넘으면\n",
    "        temp %= len(q)\n",
    "        ans.append(q.pop(temp))\n",
    "    temp += (k-1)\n",
    "    \n",
    "print('<', end = '')\n",
    "for i in range(n):\n",
    "    if i == n-1: print(ans[-1], end = '')\n",
    "    else: print(str(ans[i])+ ', ', end = '')\n",
    "print('>', end = '')"
   ]
  },
  {
   "cell_type": "code",
   "execution_count": 4,
   "metadata": {},
   "outputs": [
    {
     "name": "stdout",
     "output_type": "stream",
     "text": [
      "1,2,3,4,5\n"
     ]
    }
   ],
   "source": [
    "arr = ['1', '2', '3', '4', '5']\n",
    "print(\",\".join(arr))"
   ]
  },
  {
   "cell_type": "markdown",
   "metadata": {},
   "source": [
    "## 4"
   ]
  },
  {
   "cell_type": "code",
   "execution_count": 21,
   "metadata": {},
   "outputs": [
    {
     "name": "stdout",
     "output_type": "stream",
     "text": [
      "1\n",
      "4 2\n",
      "1 2 3 4\n",
      "2\n"
     ]
    }
   ],
   "source": [
    "def find_max(s):\n",
    "    re = s[0][0]\n",
    "    for i in range(1, len(s)):\n",
    "        if s[i][0] > re: re = s[i][0]\n",
    "    return re\n",
    "\n",
    "\n",
    "test_case = int(input())\n",
    "for i in range(test_case):\n",
    "    n, m = map(int, input().split())\n",
    "    t = list(map(int, input().split()))\n",
    "    s = []\n",
    "    for j in range(n):\n",
    "        s.append([t[j], j])\n",
    "    \n",
    "    ans = 1\n",
    "    if n > 1:\n",
    "        ans = 0\n",
    "        while True:\n",
    "            if s[0][0] == find_max(s): \n",
    "                ans += 1\n",
    "                if s[0][1] == m: break\n",
    "                s.pop(0)    \n",
    "            else:\n",
    "                s.append(s[0])\n",
    "                s.pop(0)        \n",
    "    print(ans)"
   ]
  },
  {
   "cell_type": "code",
   "execution_count": null,
   "metadata": {},
   "outputs": [],
   "source": [
    "test_case = int(input())\n",
    "for i in range(test_case):\n",
    "    n, m = map(int, input().split())\n",
    "    t = list(map(int, input().split()))\n",
    "    s = []\n",
    "    for j in range(n):\n",
    "        s.append([t[j], j])\n",
    "    \n",
    "    ans = 1\n",
    "    if n > 1:\n",
    "        ans = 0\n",
    "        while True:\n",
    "            if s[0][0] == max(s, key = lambda x: x[0])[0]: \n",
    "                ans += 1\n",
    "                if s[0][1] == m: break\n",
    "                s.pop(0)    \n",
    "            else:\n",
    "                s.append(s[0])\n",
    "                s.pop(0)        \n",
    "    print(ans)"
   ]
  },
  {
   "cell_type": "code",
   "execution_count": 27,
   "metadata": {},
   "outputs": [
    {
     "name": "stdout",
     "output_type": "stream",
     "text": [
      "9\n"
     ]
    }
   ],
   "source": [
    "x = [[1, 1], [9, 0], [1, 3]]\n",
    "print(max(x, key = lambda x: x[0])[0])"
   ]
  },
  {
   "cell_type": "markdown",
   "metadata": {},
   "source": [
    "## 5"
   ]
  },
  {
   "cell_type": "code",
   "execution_count": null,
   "metadata": {},
   "outputs": [
    {
     "name": "stdout",
     "output_type": "stream",
     "text": [
      "3\n",
      "push_back 1\n",
      "push_back\n",
      "1\n",
      "['1']\n"
     ]
    }
   ],
   "source": [
    "n = int(input())\n",
    "dq = []\n",
    "for i in range(n):\n",
    "    op = input().split()\n",
    "    if op[0] == \"push_front\":\n",
    "        dq.insert(0, op[1])\n",
    "    elif op[0] == \"push_back\":\n",
    "        dq.append(op[1])\n",
    "    elif op[0] == \"pop_front\":\n",
    "        if len(dq) == 0: print(-1)\n",
    "        else:\n",
    "            print(dq[0])\n",
    "            dq.pop(0)\n",
    "    elif op[0] == \"pop_back\":\n",
    "        if len(dq) == 0: print(-1)\n",
    "        else:\n",
    "            print(dq[-1])\n",
    "            dq.pop(0)  \n",
    "    elif op[0] == \"size\":\n",
    "        print(len(dq))\n",
    "    elif op[0] == \"empty\":\n",
    "        if len(dq) == 0: print(1)\n",
    "        else: print(0)\n",
    "    elif op[0] == \"front\":\n",
    "        if len(dq) == 0: print(-1)\n",
    "        else: print(dq[0])\n",
    "    elif op[0] == \"back\":\n",
    "        if len(dq) == 0: print(-1)\n",
    "        else: print(dq[-1])"
   ]
  },
  {
   "cell_type": "markdown",
   "metadata": {},
   "source": [
    "# # 6"
   ]
  },
  {
   "cell_type": "code",
   "execution_count": 22,
   "metadata": {},
   "outputs": [
    {
     "name": "stdout",
     "output_type": "stream",
     "text": [
      "10 3\n",
      "2 9 5\n",
      "8\n"
     ]
    }
   ],
   "source": [
    "import math\n",
    "\n",
    "n, m = input().split()\n",
    "n = int(n)\n",
    "m = int(m)\n",
    "\n",
    "idx = list(map(int, input().split()))\n",
    "dq = [i for i in range(1, n+1)]\n",
    "\n",
    "cnt = 0\n",
    "for i in idx:\n",
    "    while True:\n",
    "        if i == dq[0]: \n",
    "            dq.pop(0)\n",
    "            break\n",
    "        else:\n",
    "            location = dq.index(i)+1 #숫자 i의 인덱스 반환\n",
    "            if location-1 <= abs(len(dq) - location): #왼쪽 이동\n",
    "                dq.append(dq[0])\n",
    "                dq.pop(0)\n",
    "                cnt += 1\n",
    "            else: #오른쪽 이동\n",
    "                dq.insert(0, dq[-1])\n",
    "                dq.pop()\n",
    "                cnt += 1\n",
    "            \n",
    "print(cnt)"
   ]
  },
  {
   "cell_type": "markdown",
   "metadata": {},
   "source": [
    "## 7"
   ]
  },
  {
   "cell_type": "code",
   "execution_count": 14,
   "metadata": {},
   "outputs": [
    {
     "name": "stdout",
     "output_type": "stream",
     "text": [
      "1\n",
      "D\n",
      "0\n",
      "[]\n",
      "error\n"
     ]
    }
   ],
   "source": [
    "def R(p):\n",
    "    global arr\n",
    "    return arr.reverse()\n",
    "def D(p):\n",
    "    global arr\n",
    "    return arr.pop(0)\n",
    "\n",
    "\n",
    "t = int(input())\n",
    "for i in range(t):\n",
    "    p = input()\n",
    "    n = int(input())\n",
    "    arr = list(map(str, input()[1:-1].split(',')))\n",
    "    for j in p:\n",
    "        if j == 'R': R(j)\n",
    "        elif j == 'D': \n",
    "            if len(arr) == 0 or n == 0:\n",
    "                arr = []\n",
    "                print(\"error\")\n",
    "                break\n",
    "            else: D(j)\n",
    "    if len(arr) != 0:\n",
    "        print('['+arr[0], end='')\n",
    "        for i in range(1, len(arr)):\n",
    "            print(','+arr[i], end='')\n",
    "        print(']')"
   ]
  },
  {
   "cell_type": "code",
   "execution_count": 13,
   "metadata": {},
   "outputs": [
    {
     "name": "stdout",
     "output_type": "stream",
     "text": [
      "2\n",
      "D\n",
      "0\n",
      "[]\n",
      "error\n",
      "arr2: []\n",
      "DD\n",
      "1\n",
      "[2]\n",
      "error\n",
      "arr2: []\n"
     ]
    }
   ],
   "source": [
    "t = int(input())\n",
    "for i in range(t):\n",
    "    p = input()\n",
    "    p.replace(\"RR\", '')\n",
    "    n = int(input())\n",
    "    arr = list(map(str, input()[1:-1].split(',')))  \n",
    "        \n",
    "    D_front, D_back, d = 0, 0, True\n",
    "    for j in p:\n",
    "        if j == 'R': d = not d\n",
    "        elif j == 'D': \n",
    "            if d: D_front += 1\n",
    "            else: D_back += 1\n",
    "\n",
    "    if D_front + D_back <= n:\n",
    "        arr = arr[D_front: n-D_back]\n",
    "        if d: print('[' + ','.join(arr) + ']\\n')\n",
    "        else: print('[' + ','.join(arr[::-1]) + ']\\n')\n",
    "    else: \n",
    "        print(\"error\")"
   ]
  },
  {
   "cell_type": "code",
   "execution_count": 11,
   "metadata": {},
   "outputs": [
    {
     "name": "stdout",
     "output_type": "stream",
     "text": [
      "11\n",
      "[\n",
      "1\n",
      ",\n",
      "2\n",
      ",\n",
      "3\n",
      ",\n",
      "4\n",
      ",\n",
      "5\n",
      "]\n"
     ]
    }
   ],
   "source": [
    "import re\n",
    "a = \"[1,2,3,4,5]\"\n",
    "#re.findall(r\"[\\w']+\", a)\n",
    "re.split('\\W+', a)\n",
    "print(len(a))\n",
    "for i in a:\n",
    "    print(i)"
   ]
  },
  {
   "cell_type": "code",
   "execution_count": null,
   "metadata": {},
   "outputs": [],
   "source": []
  }
 ],
 "metadata": {
  "kernelspec": {
   "display_name": "Python 3",
   "language": "python",
   "name": "python3"
  },
  "language_info": {
   "codemirror_mode": {
    "name": "ipython",
    "version": 3
   },
   "file_extension": ".py",
   "mimetype": "text/x-python",
   "name": "python",
   "nbconvert_exporter": "python",
   "pygments_lexer": "ipython3",
   "version": "3.7.4"
  }
 },
 "nbformat": 4,
 "nbformat_minor": 2
}

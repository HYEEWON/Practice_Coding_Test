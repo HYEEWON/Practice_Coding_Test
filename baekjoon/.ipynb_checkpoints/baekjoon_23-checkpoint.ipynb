{
 "cells": [
  {
   "cell_type": "markdown",
   "metadata": {},
   "source": [
    "## 1"
   ]
  },
  {
   "cell_type": "code",
   "execution_count": 1,
   "metadata": {},
   "outputs": [
    {
     "name": "stdout",
     "output_type": "stream",
     "text": [
      "8\n",
      "1 1 0 0 0 0 1 1\n",
      "1 1 0 0 0 0 1 1\n",
      "0 0 0 0 1 1 0 0\n",
      "0 0 0 0 1 1 0 0\n",
      "1 0 0 0 1 1 1 1\n",
      "0 1 0 0 1 1 1 1\n",
      "0 0 1 1 1 1 1 1\n",
      "0 0 1 1 1 1 1 1\n",
      "[[1, 1, 0, 0, 0, 0, 1, 1], [1, 1, 0, 0, 0, 0, 1, 1], [0, 0, 0, 0, 1, 1, 0, 0], [0, 0, 0, 0, 1, 1, 0, 0], [1, 0, 0, 0, 1, 1, 1, 1], [0, 1, 0, 0, 1, 1, 1, 1], [0, 0, 1, 1, 1, 1, 1, 1], [0, 0, 1, 1, 1, 1, 1, 1]]\n"
     ]
    }
   ],
   "source": [
    "n = int(input())\n",
    "p = []\n",
    "for i in range(n):\n",
    "    line = list(map(int, input().split()))\n",
    "    p.append(line)\n",
    "    \n",
    "print(p)"
   ]
  },
  {
   "cell_type": "code",
   "execution_count": 16,
   "metadata": {},
   "outputs": [
    {
     "name": "stdout",
     "output_type": "stream",
     "text": [
      "0 0 2\n",
      "2 0 2\n",
      "0 2 2\n",
      "2 2 2\n",
      "4 0 2\n",
      "6 0 2\n",
      "4 2 2\n",
      "6 2 2\n",
      "0 4 1\n",
      "1 4 1\n",
      "0 5 1\n",
      "1 5 1\n",
      "2 4 2\n",
      "0 6 2\n",
      "2 6 2\n",
      "4 4 4\n",
      "9\n",
      "7\n"
     ]
    }
   ],
   "source": [
    "def dv(low_y, low_x, n):\n",
    "    global cnt_w, cnt_b\n",
    "    col = p[low_y][low_x]\n",
    "    check = True\n",
    "    mid = n // 2\n",
    "    for i in range(low_y, low_y+n):\n",
    "        if not check: break\n",
    "        for j in range(low_x, low_x+n):\n",
    "            if p[i][j] != col:\n",
    "                check = False\n",
    "                dv(low_y, low_x, mid)\n",
    "                dv(low_y, low_x+mid, mid)\n",
    "                dv(low_y+mid, low_x, mid)\n",
    "                dv(low_y+mid, low_x+mid, mid)\n",
    "                break\n",
    "    \n",
    "    if check ==True:\n",
    "        if col == True: cnt_b +=1\n",
    "        else: cnt_w += 1\n",
    "            \n",
    "            \n",
    "cnt_w, cnt_b = 0, 0\n",
    "dv(0, 0, n)\n",
    "print(cnt_w)\n",
    "print(cnt_b)"
   ]
  },
  {
   "cell_type": "code",
   "execution_count": 2,
   "metadata": {},
   "outputs": [
    {
     "name": "stdout",
     "output_type": "stream",
     "text": [
      "2\n"
     ]
    }
   ],
   "source": [
    "s = [[1, 2], [3, 4]]\n",
    "print(len(s))"
   ]
  },
  {
   "cell_type": "markdown",
   "metadata": {},
   "source": [
    "## 2"
   ]
  },
  {
   "cell_type": "code",
   "execution_count": 4,
   "metadata": {},
   "outputs": [
    {
     "name": "stdout",
     "output_type": "stream",
     "text": [
      "8\n",
      "11110000\n",
      "11110000\n",
      "00011100\n",
      "00011100\n",
      "11110000\n",
      "11110000\n",
      "11110011\n",
      "11110011\n",
      "['11110000', '11110000', '00011100', '00011100', '11110000', '11110000', '11110011', '11110011']\n"
     ]
    }
   ],
   "source": [
    "n = int(input())\n",
    "p = []\n",
    "for i in range(n):\n",
    "    p.append(input())    \n",
    "    \n",
    "print(p)"
   ]
  },
  {
   "cell_type": "code",
   "execution_count": 15,
   "metadata": {},
   "outputs": [
    {
     "name": "stdout",
     "output_type": "stream",
     "text": [
      "((110(0101))(0010)1(0001))"
     ]
    }
   ],
   "source": [
    "def dv(start_y, start_x, n):\n",
    "    t = p[start_y][start_x]\n",
    "    #print(\"t1: \"+ str(t))\n",
    "    flag = True\n",
    "    for i in range(start_y, start_y+n):\n",
    "        if not flag: break\n",
    "        for j in range(start_x, start_x+n):\n",
    "            if p[i][j] != t: \n",
    "                #print(\"t2: \"+ str(t))\n",
    "                print(\"(\", end='')\n",
    "                flag = False\n",
    "                m = n//2\n",
    "                dv(start_y, start_x, m)\n",
    "                dv(start_y, start_x+m, m)\n",
    "                dv(start_y+m, start_x, m)\n",
    "                dv(start_y+m, start_x+m, m)\n",
    "                print(\")\", end='') \n",
    "                break\n",
    "    \n",
    "    if flag:\n",
    "        if t == \"1\": print(\"1\", end='')\n",
    "        else: print(\"0\", end='') \n",
    "    \n",
    "dv(0, 0, n)"
   ]
  },
  {
   "cell_type": "markdown",
   "metadata": {},
   "source": [
    "## 3"
   ]
  },
  {
   "cell_type": "code",
   "execution_count": 16,
   "metadata": {},
   "outputs": [
    {
     "name": "stdout",
     "output_type": "stream",
     "text": [
      "9\n",
      "0 0 0 1 1 1 -1 -1 -1\n",
      "0 0 0 1 1 1 -1 -1 -1\n",
      "0 0 0 1 1 1 -1 -1 -1\n",
      "1 1 1 0 0 0 0 0 0\n",
      "1 1 1 0 0 0 0 0 0\n",
      "1 1 1 0 0 0 0 0 0\n",
      "0 1 -1 0 1 -1 0 1 -1\n",
      "0 -1 1 0 1 -1 0 1 -1\n",
      "0 1 -1 1 0 -1 0 1 -1\n"
     ]
    }
   ],
   "source": [
    "n = int(input())\n",
    "p = []\n",
    "for i in range(n):\n",
    "    line = list(map(int, input().split()))\n",
    "    p.append(line)"
   ]
  },
  {
   "cell_type": "code",
   "execution_count": 22,
   "metadata": {},
   "outputs": [
    {
     "name": "stdout",
     "output_type": "stream",
     "text": [
      "10\n",
      "12\n",
      "11\n"
     ]
    }
   ],
   "source": [
    "def dv(start_y, start_x, n):\n",
    "    global c__1, c_0, c_1\n",
    "    t = p[start_y][start_x]\n",
    "    flag = True\n",
    "    for i in range(start_y, start_y+n):\n",
    "        if not flag: break\n",
    "        for j in range(start_x, start_x+n):\n",
    "            if p[i][j] != t: \n",
    "                flag = False\n",
    "                m = n//3\n",
    "                dv(start_y, start_x, m)\n",
    "                dv(start_y, start_x+m, m)\n",
    "                dv(start_y, start_x+2*m, m)\n",
    "                dv(start_y+m, start_x, m)\n",
    "                dv(start_y+m, start_x+m, m)\n",
    "                dv(start_y+m, start_x+2*m, m)\n",
    "                dv(start_y+2*m, start_x, m)\n",
    "                dv(start_y+2*m, start_x+m, m)\n",
    "                dv(start_y+2*m, start_x+2*m, m)\n",
    "                break\n",
    "    \n",
    "    if flag:\n",
    "        if t == -1: c__1 += 1\n",
    "        elif t == 0: c_0 += 1\n",
    "        else: c_1 += 1\n",
    "            \n",
    "            \n",
    "c__1, c_0, c_1 = 0, 0, 0\n",
    "dv(0, 0, n)\n",
    "\n",
    "print(c__1)\n",
    "print(c_0)\n",
    "print(c_1)"
   ]
  },
  {
   "cell_type": "markdown",
   "metadata": {},
   "source": [
    "## 4"
   ]
  },
  {
   "cell_type": "code",
   "execution_count": 1,
   "metadata": {},
   "outputs": [
    {
     "name": "stdout",
     "output_type": "stream",
     "text": [
      "10 11 12\n"
     ]
    }
   ],
   "source": [
    "a, b, c = map(int, input().split())"
   ]
  },
  {
   "cell_type": "code",
   "execution_count": 6,
   "metadata": {},
   "outputs": [
    {
     "name": "stdout",
     "output_type": "stream",
     "text": [
      "4\n"
     ]
    }
   ],
   "source": [
    "ans = 1\n",
    "for i in range(b, 0, -1):\n",
    "    ans *= a\n",
    "    ans %= c\n",
    "    \n",
    "print(ans)"
   ]
  },
  {
   "cell_type": "code",
   "execution_count": 8,
   "metadata": {},
   "outputs": [
    {
     "name": "stdout",
     "output_type": "stream",
     "text": [
      "4\n"
     ]
    }
   ],
   "source": [
    "ans = 1\n",
    "if b % 2== 0: flag = True\n",
    "else: flag = False\n",
    "    \n",
    "if b <= 1: ans = a%c\n",
    "else:\n",
    "    b = b//2\n",
    "    t = (a*a)%c\n",
    "    for i in range(b):\n",
    "        ans *= t\n",
    "        ans %= c\n",
    "if not flag: ans = (ans*a)%c    \n",
    "\n",
    "print(ans)"
   ]
  },
  {
   "cell_type": "code",
   "execution_count": 9,
   "metadata": {},
   "outputs": [
    {
     "name": "stdout",
     "output_type": "stream",
     "text": [
      "4\n"
     ]
    }
   ],
   "source": [
    "def dv(a, b):\n",
    "    if b == 0:\n",
    "        return 0\n",
    "    elif b == 1:\n",
    "        return a\n",
    "    elif b%2 == 1:\n",
    "        return dv(a, b-1)*a\n",
    "    t = dv(a, b//2)\n",
    "    t %= c\n",
    "    return t**2 % c\n",
    "    \n",
    "\n",
    "print(dv(a, b)%c)"
   ]
  },
  {
   "cell_type": "code",
   "execution_count": 10,
   "metadata": {},
   "outputs": [
    {
     "data": {
      "text/plain": [
       "4"
      ]
     },
     "execution_count": 10,
     "metadata": {},
     "output_type": "execute_result"
    }
   ],
   "source": [
    "pow(a, b, c)"
   ]
  },
  {
   "cell_type": "markdown",
   "metadata": {},
   "source": [
    "## 5"
   ]
  },
  {
   "cell_type": "code",
   "execution_count": 14,
   "metadata": {},
   "outputs": [
    {
     "name": "stdout",
     "output_type": "stream",
     "text": [
      "5 2\n",
      "10\n"
     ]
    }
   ],
   "source": [
    "n, k = map(int, input().split())\n",
    "# a/b = a* b^(p-2) / b* b^(p-2) = a* b^(p-2)/1(mod p)\n",
    "# a^(p-1) = 1(mod p)\n",
    "\n",
    "# nCk % p\n",
    "# (n! / k!(n-k)!) % p\n",
    "# a = n!, b = k!(n-k)!\n",
    "# (a/b)%p = (ab^(-1))%p\n",
    "p= 1000000007\n",
    "def dv(a, b):\n",
    "    if b == 0:\n",
    "        return 0\n",
    "    elif b == 1:\n",
    "        return a\n",
    "    elif b%2 == 1:\n",
    "        return dv(a, b-1)*a\n",
    "    t = dv(a, b//2)\n",
    "    t %= p\n",
    "    return t**2 % p\n",
    "    \n",
    "a = 1\n",
    "b = 1\n",
    "for i in range(1, n+1):\n",
    "    a *= i\n",
    "    a %= p\n",
    "    \n",
    "for i in range(1, k+1):\n",
    "    b *= i\n",
    "    b %= p\n",
    "for i in range(1, n-k+1):\n",
    "    b *= i\n",
    "    b %= p\n",
    "\n",
    "#print(a*b**(-1) % p)    \n",
    "print((a*dv(b, p-2)) % p)"
   ]
  },
  {
   "cell_type": "markdown",
   "metadata": {},
   "source": [
    "## 6"
   ]
  },
  {
   "cell_type": "code",
   "execution_count": null,
   "metadata": {},
   "outputs": [],
   "source": [
    "n, m = map(int, input().split())\n",
    "A = []\n",
    "B = []\n",
    "for i in range(n):\n",
    "    A.append(list(map(int, input().split())))\n",
    "    \n",
    "m, k = map(int, input().split())\n",
    "for i in range(m):\n",
    "    B.append(list(map(int, input().split())))"
   ]
  },
  {
   "cell_type": "code",
   "execution_count": 25,
   "metadata": {},
   "outputs": [
    {
     "name": "stdout",
     "output_type": "stream",
     "text": [
      "-1 -2 6 \n",
      "-3 -6 12 \n"
     ]
    }
   ],
   "source": [
    "ans = [[0 for i in range(k)] for j in range(n)] #n*k\n",
    "for i in range(n):\n",
    "    for j in range(k):\n",
    "        for l in range(m):\n",
    "            ans[i][j] += A[i][l] * B[l][j]\n",
    "            \n",
    "for i in range(n):\n",
    "    for j in range(k):\n",
    "        print(ans[i][j], end=' ')\n",
    "    print('')"
   ]
  },
  {
   "cell_type": "markdown",
   "metadata": {},
   "source": [
    "## 7"
   ]
  },
  {
   "cell_type": "code",
   "execution_count": 24,
   "metadata": {},
   "outputs": [
    {
     "name": "stdout",
     "output_type": "stream",
     "text": [
      "2 5\n",
      "1 2\n",
      "3 4\n"
     ]
    }
   ],
   "source": [
    "n, b = map(int, input().split())\n",
    "A = []\n",
    "for i in range(n):\n",
    "    A.append(list(map(int, input().split())))"
   ]
  },
  {
   "cell_type": "code",
   "execution_count": 34,
   "metadata": {},
   "outputs": [
    {
     "name": "stdout",
     "output_type": "stream",
     "text": [
      "69 558 \n",
      "337 406 \n"
     ]
    }
   ],
   "source": [
    "def dv(A, b):\n",
    "    if b == 1:\n",
    "        for i in range(n):\n",
    "            for j in range(n):\n",
    "                A[i][j] %= 1000\n",
    "        return A\n",
    "    elif b % 2 == 1:\n",
    "        ans = [[0 for i in range(n)] for j in range(n)] #n*n\n",
    "        C = dv(A, b-1)\n",
    "        for i in range(n):\n",
    "            for j in range(n):\n",
    "                for l in range(n):\n",
    "                    ans[i][j] += C[i][l] * A[l][j]\n",
    "                ans[i][j] %= 1000\n",
    "        return ans\n",
    "    else:\n",
    "        ans = [[0 for i in range(n)] for j in range(n)] #n*n\n",
    "        C = dv(A, b//2)\n",
    "        for i in range(n):\n",
    "            for j in range(n):\n",
    "                for l in range(n):\n",
    "                    ans[i][j] += C[i][l] * C[l][j]\n",
    "                ans[i][j] %= 1000\n",
    "        return ans\n",
    "        \n",
    "            \n",
    "for i in dv(A, b):\n",
    "    for j in i:\n",
    "        print(j, end=' ')\n",
    "    print()"
   ]
  },
  {
   "cell_type": "markdown",
   "metadata": {},
   "source": [
    "## 8"
   ]
  },
  {
   "cell_type": "code",
   "execution_count": 2,
   "metadata": {},
   "outputs": [
    {
     "name": "stdout",
     "output_type": "stream",
     "text": [
      "1000\n",
      "228875\n"
     ]
    }
   ],
   "source": [
    "n = int(input())\n",
    "p = 1000000\n",
    "ans = [0, 1]\n",
    "\n",
    "for i in range(2, n+1):\n",
    "    ans.append(ans[i-1] + ans[i-2])\n",
    "    ans[i] %= p\n",
    "    \n",
    "print(ans[n])"
   ]
  },
  {
   "cell_type": "code",
   "execution_count": 10,
   "metadata": {},
   "outputs": [
    {
     "name": "stdout",
     "output_type": "stream",
     "text": [
      "1000\n",
      "228875\n"
     ]
    }
   ],
   "source": [
    "n = int(input())\n",
    "p = 1000000\n",
    "def dv(A, b):\n",
    "    if b == 1:\n",
    "        for i in range(2):\n",
    "            for j in range(2):\n",
    "                A[i][j] %= p\n",
    "        return A\n",
    "    elif b % 2 == 1:\n",
    "        ans = [[0 for i in range(2)] for j in range(2)] #n*n\n",
    "        C = dv(A, b-1)\n",
    "        for i in range(2):\n",
    "            for j in range(2):\n",
    "                for l in range(2):\n",
    "                    ans[i][j] += C[i][l] * A[l][j]\n",
    "                ans[i][j] %= p\n",
    "        return ans\n",
    "    else:\n",
    "        ans = [[0 for i in range(2)] for j in range(2)] #n*n\n",
    "        C = dv(A, b//2)\n",
    "        for i in range(2):\n",
    "            for j in range(2):\n",
    "                for l in range(2):\n",
    "                    ans[i][j] += C[i][l] * C[l][j]\n",
    "                ans[i][j] %= p\n",
    "        return ans\n",
    "        \n",
    "            \n",
    "\n",
    "A = [[1, 1], [1, 0]]\n",
    "t = dv(A, n)\n",
    "print(t[0][1] % p)"
   ]
  },
  {
   "cell_type": "markdown",
   "metadata": {},
   "source": [
    "## 9"
   ]
  },
  {
   "cell_type": "code",
   "execution_count": 9,
   "metadata": {},
   "outputs": [
    {
     "name": "stdout",
     "output_type": "stream",
     "text": [
      "7 2 1 4 5 1 3 3\n",
      "8\n",
      "0\n"
     ]
    }
   ],
   "source": [
    "while True:\n",
    "    n, *arr = list(map(int, input().split()))\n",
    "    if n == 0: break\n",
    "    arr.append(0)\n",
    "    s = []\n",
    "    ans = 0\n",
    "    for i, h in enumerate(arr):\n",
    "        while s and arr[s[-1]] > h:\n",
    "            ih = arr[s.pop()]\n",
    "            w = i - s[-1] - 1 if s else i\n",
    "            if ans < w*ih: ans = w*ih\n",
    "        s.append(i)\n",
    "    print(ans)"
   ]
  },
  {
   "cell_type": "markdown",
   "metadata": {},
   "source": [
    "## 10"
   ]
  },
  {
   "cell_type": "code",
   "execution_count": 10,
   "metadata": {},
   "outputs": [
    {
     "name": "stdout",
     "output_type": "stream",
     "text": [
      "4\n",
      "0 0\n",
      "10 10\n",
      "0 10\n",
      "10 0\n"
     ]
    }
   ],
   "source": [
    "n = int(input())\n",
    "p = []\n",
    "for i in range(n):\n",
    "    p.append(list(map(int, input().split())))"
   ]
  },
  {
   "cell_type": "code",
   "execution_count": 12,
   "metadata": {},
   "outputs": [
    {
     "name": "stdout",
     "output_type": "stream",
     "text": [
      "[[0, 0], [0, 10], [10, 0], [10, 10]]\n"
     ]
    }
   ],
   "source": [
    "#라인 스위핑\n",
    "sort_p = sorted(p, key = lambda x: (x[0], x[1])) #x가 증가하는 순으로 정렬\n",
    "def distance(a, b):\n",
    "    return pow(a[0]-b[0], 2)+pow(a[1]-b[1], 2)\n",
    "\n",
    "ans = distance(sort_p[0], sort_p[1]) #최단 거리라고 가정\n",
    "        \n",
    "    \n",
    "ans =  50000   \n",
    "dv(0, 3)"
   ]
  },
  {
   "cell_type": "code",
   "execution_count": 2,
   "metadata": {},
   "outputs": [
    {
     "name": "stdout",
     "output_type": "stream",
     "text": [
      "25\n"
     ]
    }
   ],
   "source": [
    "a = [0, 3]\n",
    "b = [4, 0]\n",
    "print(pow(a[0]-b[0], 2)+pow(a[1]-b[1], 2))"
   ]
  }
 ],
 "metadata": {
  "kernelspec": {
   "display_name": "Python 3",
   "language": "python",
   "name": "python3"
  },
  "language_info": {
   "codemirror_mode": {
    "name": "ipython",
    "version": 3
   },
   "file_extension": ".py",
   "mimetype": "text/x-python",
   "name": "python",
   "nbconvert_exporter": "python",
   "pygments_lexer": "ipython3",
   "version": "3.7.4"
  }
 },
 "nbformat": 4,
 "nbformat_minor": 2
}

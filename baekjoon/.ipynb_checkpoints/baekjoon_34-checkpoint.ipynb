{
 "cells": [
  {
   "cell_type": "markdown",
   "metadata": {},
   "source": [
    "## 1"
   ]
  },
  {
   "cell_type": "code",
   "execution_count": 1,
   "metadata": {},
   "outputs": [
    {
     "name": "stdout",
     "output_type": "stream",
     "text": [
      "1\n",
      "[[], []]\n"
     ]
    }
   ],
   "source": [
    "n = int(input())\n",
    "matrix = [[] * (n+1) for j in range(n+1)]\n",
    "for i in range(n-1):\n",
    "    a, b = map(int, input().split())\n",
    "    matrix[a].append(b)\n",
    "    matrix[b].append(a)\n",
    "print(matrix)  "
   ]
  },
  {
   "cell_type": "code",
   "execution_count": 2,
   "metadata": {},
   "outputs": [
    {
     "data": {
      "text/plain": [
       "[[], []]"
      ]
     },
     "execution_count": 2,
     "metadata": {},
     "output_type": "execute_result"
    }
   ],
   "source": [
    "def dfs(v):\n",
    "    stack = [v]\n",
    "    while stack:\n",
    "        n = stack.pop()\n",
    "        for i in matrix[n]:\n",
    "            parent[i].append(n) #부모 추가\n",
    "            stack.append(i) #방문한 노드 추가\n",
    "            matrix[i].remove(n) # 방문한 노드 삭제\n",
    "\n",
    "    return parent\n",
    "\n",
    "\n",
    "parent = [[]for i in range(n+1)]\n",
    "dfs(1)\n",
    "    \n"
   ]
  },
  {
   "cell_type": "code",
   "execution_count": 9,
   "metadata": {},
   "outputs": [
    {
     "name": "stdout",
     "output_type": "stream",
     "text": [
      "4\n",
      "6\n",
      "1\n",
      "3\n",
      "1\n",
      "4\n"
     ]
    }
   ],
   "source": [
    "for i in range(2, n+1):\n",
    "    print(parent[i][0])"
   ]
  },
  {
   "cell_type": "markdown",
   "metadata": {},
   "source": [
    "## 2"
   ]
  },
  {
   "cell_type": "code",
   "execution_count": 3,
   "metadata": {},
   "outputs": [
    {
     "name": "stdout",
     "output_type": "stream",
     "text": [
      "2\n",
      "1 3 4\n",
      "<map object at 0x000001BE86A81320>\n",
      "3 2\n",
      "<map object at 0x000001BE86A81E10>\n"
     ]
    }
   ],
   "source": [
    "n = int(input())\n",
    "arr = []\n",
    "matrix = [[] * (n+1) for j in range(n+1)]\n",
    "for i in range(n-1):\n",
    "    a, b = map(int, input().split())\n",
    "    matrix[a].append(b)\n",
    "    matrix[b].append(a)\n",
    "for i in range(n):\n",
    "    line = list(map(int, input().split()))\n",
    "    "
   ]
  },
  {
   "cell_type": "markdown",
   "metadata": {},
   "source": [
    "## 3"
   ]
  },
  {
   "cell_type": "code",
   "execution_count": null,
   "metadata": {},
   "outputs": [],
   "source": []
  },
  {
   "cell_type": "markdown",
   "metadata": {},
   "source": [
    "## 4"
   ]
  },
  {
   "cell_type": "code",
   "execution_count": 8,
   "metadata": {},
   "outputs": [
    {
     "name": "stdout",
     "output_type": "stream",
     "text": [
      "7\n",
      "A B C\n",
      "B D .\n",
      "C E F\n",
      "E . .\n",
      "F . G\n",
      "D . .\n",
      "G . .\n"
     ]
    }
   ],
   "source": [
    "N = int(input())\n",
    "tree = {}\n",
    "for n in range(N):\n",
    "    line = input().split()\n",
    "    tree[line[0]] = [line[1], line[2]]"
   ]
  },
  {
   "cell_type": "code",
   "execution_count": 22,
   "metadata": {},
   "outputs": [
    {
     "name": "stdout",
     "output_type": "stream",
     "text": [
      "ABDCEFG\n",
      "DBAECFG\n",
      "\n",
      "['A', 'B']\n",
      "\n",
      "['A', 'B', 'D']\n",
      "D\n",
      "['A', 'B']\n",
      "DB\n",
      "['A']\n",
      "DB\n",
      "['A', 'C']\n",
      "DB\n",
      "['A', 'C', 'E']\n",
      "DBE\n",
      "['A', 'C']\n",
      "DBE\n",
      "['A', 'C', 'F']\n",
      "DBE\n",
      "['A', 'C', 'F', 'G']\n",
      "DBEG\n",
      "['A', 'C', 'F']\n",
      "DBEGF\n",
      "['A', 'C']\n",
      "DBEGFC\n",
      "['A']\n",
      "DBEGFCA\n",
      "[]\n",
      "DBEGFCA\n"
     ]
    }
   ],
   "source": [
    "def preorder(tree, root):\n",
    "    stack = [root]\n",
    "    result = ''\n",
    "    while len(stack) > 0:\n",
    "        data = stack.pop()\n",
    "        result += data\n",
    "        if tree[data][1] != '.': #오른쪽 자식 노드\n",
    "            stack.append(tree[data][1])\n",
    "        if tree[data][0] != '.': #왼쪽 자식 노드\n",
    "            stack.append(tree[data][0])\n",
    "    return result\n",
    "\n",
    "def inorder(tree, root):\n",
    "    stack = [root]\n",
    "    result = ''\n",
    "    while stack:\n",
    "        if tree[stack[-1]][0] != '.' and tree[stack[-1]][0] not in result:\n",
    "            stack.append(tree[stack[-1]][0])\n",
    "            \n",
    "        elif stack[-1] in result:\n",
    "            stack.append(tree[stack[-1]][1])\n",
    "            \n",
    "        else:\n",
    "            node = stack.pop() # 중간 노드를 제거하면서\n",
    "            result += node\n",
    "            if tree[node][1] != '.': # 오른쪽 자식 넣음\n",
    "                stack.append(tree[node][1])\n",
    "    return result\n",
    "\n",
    "def postorder(tree, root):\n",
    "    stack = [root]\n",
    "    result = ''\n",
    "    while stack:\n",
    "        if tree[stack[-1]][0] != '.' and tree[stack[-1]][0] not in result:\n",
    "            stack.append(tree[stack[-1]][0])\n",
    "            \n",
    "        elif tree[stack[-1]][1] == '.' or tree[stack[-1]][1] in result:\n",
    "            result += stack.pop()\n",
    "            \n",
    "        else:\n",
    "            stack.append(tree[stack[-1]][1]) \n",
    "    return result\n",
    "\n",
    "print(preorder(tree, 'A'))\n",
    "print(inorder(tree, 'A'))\n",
    "print(postorder(tree, 'A'))"
   ]
  },
  {
   "cell_type": "code",
   "execution_count": null,
   "metadata": {},
   "outputs": [],
   "source": []
  },
  {
   "cell_type": "code",
   "execution_count": null,
   "metadata": {},
   "outputs": [],
   "source": []
  },
  {
   "cell_type": "code",
   "execution_count": null,
   "metadata": {},
   "outputs": [],
   "source": []
  },
  {
   "cell_type": "code",
   "execution_count": null,
   "metadata": {},
   "outputs": [],
   "source": []
  }
 ],
 "metadata": {
  "kernelspec": {
   "display_name": "py1",
   "language": "python",
   "name": "py1"
  },
  "language_info": {
   "codemirror_mode": {
    "name": "ipython",
    "version": 3
   },
   "file_extension": ".py",
   "mimetype": "text/x-python",
   "name": "python",
   "nbconvert_exporter": "python",
   "pygments_lexer": "ipython3",
   "version": "3.6.10"
  }
 },
 "nbformat": 4,
 "nbformat_minor": 2
}

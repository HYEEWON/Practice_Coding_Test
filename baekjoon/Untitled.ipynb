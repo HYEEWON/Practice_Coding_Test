{
 "cells": [
  {
   "cell_type": "code",
   "execution_count": 9,
   "metadata": {},
   "outputs": [
    {
     "name": "stdout",
     "output_type": "stream",
     "text": [
      "[1, 10]\n"
     ]
    }
   ],
   "source": [
    "import math\n",
    "def solution(v):\n",
    "    ans = [0, 0]\n",
    "    v.sort()\n",
    "    if v[0][0] == v[1][0]: ans[0] = v[2][0]\n",
    "    else: ans[0] = v[0][0]\n",
    "    if v[0][1] == v[1][1]: ans[1] = v[2][1]\n",
    "    else: ans[1] = v[0][1]\n",
    "    return ans\n",
    "\n",
    "v = [[1, 4], [3, 4], [3, 10]]\n",
    "print(solution(v))"
   ]
  },
  {
   "cell_type": "code",
   "execution_count": null,
   "metadata": {},
   "outputs": [],
   "source": []
  }
 ],
 "metadata": {
  "kernelspec": {
   "display_name": "Python 3",
   "language": "python",
   "name": "python3"
  },
  "language_info": {
   "codemirror_mode": {
    "name": "ipython",
    "version": 3
   },
   "file_extension": ".py",
   "mimetype": "text/x-python",
   "name": "python",
   "nbconvert_exporter": "python",
   "pygments_lexer": "ipython3",
   "version": "3.6.5"
  }
 },
 "nbformat": 4,
 "nbformat_minor": 2
}

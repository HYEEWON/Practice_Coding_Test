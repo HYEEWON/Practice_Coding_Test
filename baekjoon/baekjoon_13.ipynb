{
 "cells": [
  {
   "cell_type": "markdown",
   "metadata": {},
   "source": [
    "## 1"
   ]
  },
  {
   "cell_type": "code",
   "execution_count": 14,
   "metadata": {},
   "outputs": [
    {
     "name": "stdout",
     "output_type": "stream",
     "text": [
      "5 21\n",
      "5 6 7 8 9\n"
     ]
    }
   ],
   "source": [
    "n, m = map(int, input().split())\n",
    "num = list(map(int, input().split()))"
   ]
  },
  {
   "cell_type": "code",
   "execution_count": 15,
   "metadata": {},
   "outputs": [
    {
     "name": "stdout",
     "output_type": "stream",
     "text": [
      "21\n"
     ]
    }
   ],
   "source": [
    "ans = 0\n",
    "for i in range(n):\n",
    "    for j in range(i+1, n):\n",
    "        for k in range(j+1, n):\n",
    "            sum = num[i] + num[j] + num[k] \n",
    "            if  sum <= m and sum >= ans: \n",
    "                ans = sum\n",
    "print(ans)"
   ]
  },
  {
   "cell_type": "markdown",
   "metadata": {},
   "source": [
    "## 2"
   ]
  },
  {
   "cell_type": "code",
   "execution_count": 23,
   "metadata": {},
   "outputs": [
    {
     "name": "stdout",
     "output_type": "stream",
     "text": [
      "123\n",
      "6\n"
     ]
    }
   ],
   "source": [
    "n = int(input())\n",
    "\n",
    "num = 0\n",
    "for i in range(int(n / 2), n+1):\n",
    "    sum = i\n",
    "    for j in range(len(str(i))):\n",
    "        i = str(i)\n",
    "        sum += int(i[j])\n",
    "    if sum == n:\n",
    "        num = int(i)\n",
    "        break\n",
    "        \n",
    "print(num)"
   ]
  },
  {
   "cell_type": "markdown",
   "metadata": {},
   "source": [
    "## 3"
   ]
  },
  {
   "cell_type": "code",
   "execution_count": 107,
   "metadata": {},
   "outputs": [
    {
     "name": "stdout",
     "output_type": "stream",
     "text": [
      "5\n",
      "55 185\n",
      "58 183\n",
      "88 186\n",
      "60 175\n",
      "46 155\n"
     ]
    }
   ],
   "source": [
    "n = int(input())\n",
    "x = []\n",
    "y = []\n",
    "for i in range(n):\n",
    "    a, b = map(int, input().split())\n",
    "    x.append(a)\n",
    "    y.append(b)"
   ]
  },
  {
   "cell_type": "code",
   "execution_count": 119,
   "metadata": {},
   "outputs": [
    {
     "name": "stdout",
     "output_type": "stream",
     "text": [
      "2 2 1 2 5 "
     ]
    }
   ],
   "source": [
    "cnt = []\n",
    "for i in range(n):\n",
    "    cnt.append(1)\n",
    "    \n",
    "for i in range(n):\n",
    "    for j in range(i+1, n):\n",
    "        if x[i] > x[j] and y[i] > y[j]:\n",
    "            cnt[j] += 1\n",
    "        elif x[i] < x[j] and y[i] < y[j]:\n",
    "            cnt[i] += 1\n",
    "            \n",
    "for i in range(n):\n",
    "    print(str(cnt[i]) + ' ', end = '')"
   ]
  },
  {
   "cell_type": "markdown",
   "metadata": {},
   "source": [
    "## 4"
   ]
  },
  {
   "cell_type": "code",
   "execution_count": 131,
   "metadata": {},
   "outputs": [
    {
     "name": "stdout",
     "output_type": "stream",
     "text": [
      "10 13\n",
      "BBBBBBBBWBWBW\n",
      "BBBBBBBBBWBWB\n",
      "BBBBBBBBWBWBW\n",
      "BBBBBBBBBWBWB\n",
      "BBBBBBBBWBWBW\n",
      "BBBBBBBBBWBWB\n",
      "BBBBBBBBWBWBW\n",
      "BBBBBBBBBWBWB\n",
      "WWWWWWWWWWBWB\n",
      "WWWWWWWWWWBWB\n"
     ]
    }
   ],
   "source": [
    "n, m = map(int, input().split())\n",
    "s = [list(input()) for i in range(n)]"
   ]
  },
  {
   "cell_type": "code",
   "execution_count": 135,
   "metadata": {},
   "outputs": [
    {
     "name": "stdout",
     "output_type": "stream",
     "text": [
      "32\n",
      "28\n",
      "24\n",
      "32\n",
      "29\n",
      "25\n",
      "32\n",
      "29\n",
      "26\n",
      "24\n"
     ]
    }
   ],
   "source": [
    "def checker(y, x):\n",
    "    b_cnt = 0\n",
    "    w_cnt = 0\n",
    "    for i in range(y, y + 8):\n",
    "        for j in range(x, x + 8):\n",
    "            if (i - y + j - x) % 2 == 0:\n",
    "                if s[i][j] == 'B': b_cnt+=1\n",
    "            else:\n",
    "                if s[i][j] == 'W': b_cnt+=1\n",
    "    \n",
    "    for i in range(y, y + 8):\n",
    "        for j in range(x, x + 8):\n",
    "            if (i - y + j - x) % 2 == 0:\n",
    "                if s[i][j] == 'W': w_cnt+=1\n",
    "            else:\n",
    "                if s[i][j] == 'B': w_cnt+=1\n",
    "    \n",
    "    if b_cnt < w_cnt: \n",
    "        print(b_cnt)\n",
    "        return b_cnt\n",
    "    else: \n",
    "        print(w_cnt)\n",
    "        return w_cnt\n",
    "\n",
    "    \n",
    "cnt = 0\n",
    "min = 2500 # 50*50\n",
    "for i in range(n-7):\n",
    "    for j in range(n-7):\n",
    "        cnt = checker(i, j)\n",
    "        if min > cnt:\n",
    "            min = cnt\n",
    "\n",
    "print(min)"
   ]
  },
  {
   "cell_type": "code",
   "execution_count": 161,
   "metadata": {},
   "outputs": [
    {
     "name": "stdout",
     "output_type": "stream",
     "text": [
      "[[1, 0, 1, 0, 1, 0, 1, 0, 0, 0, 0, 0, 0], [0, 1, 0, 1, 0, 1, 0, 1, 0, 0, 0, 0, 0], [1, 0, 1, 0, 1, 0, 1, 0, 0, 0, 0, 0, 0], [0, 1, 0, 1, 0, 1, 0, 1, 0, 0, 0, 0, 0], [1, 0, 1, 0, 1, 0, 1, 0, 0, 0, 0, 0, 0], [0, 1, 0, 1, 0, 1, 0, 1, 0, 0, 0, 0, 0], [1, 0, 1, 0, 1, 0, 1, 0, 0, 0, 0, 0, 0], [0, 1, 0, 1, 0, 1, 0, 1, 0, 0, 0, 0, 0], [0, 1, 0, 1, 0, 1, 0, 1, 0, 1, 1, 1, 1], [1, 0, 1, 0, 1, 0, 1, 0, 1, 0, 0, 0, 0]]\n"
     ]
    }
   ],
   "source": [
    "white_first = []\n",
    "black_first = []\n",
    "\n",
    "for index, row in enumerate(s):\n",
    "    painting = []\n",
    "    if index % 2 == 0: current_color = \"W\"\n",
    "    else: current_color = \"B\"\n",
    "    \n",
    "    for value in row:\n",
    "        if value == current_color: painting.append(0) #W\n",
    "        else: painting.append(1) #B\n",
    "        \n",
    "        if current_color == \"W\": current_color = \"B\"\n",
    "        else: current_color = \"W\"\n",
    "    white_first.append(painting)\n",
    "    \n",
    "print(white_first)"
   ]
  },
  {
   "cell_type": "code",
   "execution_count": 162,
   "metadata": {},
   "outputs": [
    {
     "name": "stdout",
     "output_type": "stream",
     "text": [
      "[[0, 1, 0, 1, 0, 1, 0, 1, 1, 1, 1, 1, 1], [1, 0, 1, 0, 1, 0, 1, 0, 1, 1, 1, 1, 1], [0, 1, 0, 1, 0, 1, 0, 1, 1, 1, 1, 1, 1], [1, 0, 1, 0, 1, 0, 1, 0, 1, 1, 1, 1, 1], [0, 1, 0, 1, 0, 1, 0, 1, 1, 1, 1, 1, 1], [1, 0, 1, 0, 1, 0, 1, 0, 1, 1, 1, 1, 1], [0, 1, 0, 1, 0, 1, 0, 1, 1, 1, 1, 1, 1], [1, 0, 1, 0, 1, 0, 1, 0, 1, 1, 1, 1, 1], [1, 0, 1, 0, 1, 0, 1, 0, 1, 0, 0, 0, 0], [0, 1, 0, 1, 0, 1, 0, 1, 0, 1, 1, 1, 1]]\n"
     ]
    }
   ],
   "source": [
    "for index, row in enumerate(s):\n",
    "    painting = []\n",
    "    if index % 2 == 0: current_color = \"B\"\n",
    "    else: current_color = \"W\"\n",
    "\n",
    "    for value in row:\n",
    "        if value == current_color: painting.append(0)\n",
    "        else: painting.append(1)\n",
    "        \n",
    "        if current_color == \"W\": current_color = \"B\"\n",
    "        else: current_color = \"W\"\n",
    "    black_first.append(painting)\n",
    "print(black_first)"
   ]
  },
  {
   "cell_type": "code",
   "execution_count": 163,
   "metadata": {},
   "outputs": [
    {
     "name": "stdout",
     "output_type": "stream",
     "text": [
      "2500\n"
     ]
    }
   ],
   "source": [
    "min_count = 2500\n",
    "for i in range(n - 7):\n",
    "    rows = white_first[i:i+8]\n",
    "    for j in range(m - 7):\n",
    "        paint = 0\n",
    "        for row in rows:\n",
    "            paint += sum(row[j:j+8])\n",
    "        if paint < min_count: min_count = paint\n",
    "\n",
    "for i in range(n - 7):\n",
    "    rows = black_first[i:i+8]\n",
    "    for j in range(m - 7):\n",
    "        paint = 0\n",
    "        for row in rows:\n",
    "            paint += sum(row[j:j+8])\n",
    "        if paint < min_count: min_count = paint\n",
    "\n",
    "print(min_count)"
   ]
  },
  {
   "cell_type": "code",
   "execution_count": 166,
   "metadata": {},
   "outputs": [
    {
     "name": "stdout",
     "output_type": "stream",
     "text": [
      "10 13\n"
     ]
    },
    {
     "ename": "TypeError",
     "evalue": "'int' object is not callable",
     "output_type": "error",
     "traceback": [
      "\u001b[1;31m---------------------------------------------------------------------------\u001b[0m",
      "\u001b[1;31mTypeError\u001b[0m                                 Traceback (most recent call last)",
      "\u001b[1;32m<ipython-input-166-54c24b7e4c24>\u001b[0m in \u001b[0;36m<module>\u001b[1;34m\u001b[0m\n\u001b[0;32m     47\u001b[0m         \u001b[0mpaint\u001b[0m \u001b[1;33m=\u001b[0m \u001b[1;36m0\u001b[0m\u001b[1;33m\u001b[0m\u001b[1;33m\u001b[0m\u001b[0m\n\u001b[0;32m     48\u001b[0m         \u001b[1;32mfor\u001b[0m \u001b[0mrow\u001b[0m \u001b[1;32min\u001b[0m \u001b[0mrows\u001b[0m\u001b[1;33m:\u001b[0m\u001b[1;33m\u001b[0m\u001b[1;33m\u001b[0m\u001b[0m\n\u001b[1;32m---> 49\u001b[1;33m             \u001b[0mpaint\u001b[0m \u001b[1;33m+=\u001b[0m \u001b[0msum\u001b[0m\u001b[1;33m(\u001b[0m\u001b[0mrow\u001b[0m\u001b[1;33m[\u001b[0m\u001b[0mj\u001b[0m\u001b[1;33m:\u001b[0m\u001b[0mj\u001b[0m\u001b[1;33m+\u001b[0m\u001b[1;36m8\u001b[0m\u001b[1;33m]\u001b[0m\u001b[1;33m)\u001b[0m\u001b[1;33m\u001b[0m\u001b[1;33m\u001b[0m\u001b[0m\n\u001b[0m\u001b[0;32m     50\u001b[0m         \u001b[1;32mif\u001b[0m \u001b[0mpaint\u001b[0m \u001b[1;33m<\u001b[0m \u001b[0mmin_count\u001b[0m\u001b[1;33m:\u001b[0m \u001b[0mmin_count\u001b[0m \u001b[1;33m=\u001b[0m \u001b[0mpaint\u001b[0m\u001b[1;33m\u001b[0m\u001b[1;33m\u001b[0m\u001b[0m\n\u001b[0;32m     51\u001b[0m \u001b[1;33m\u001b[0m\u001b[0m\n",
      "\u001b[1;31mTypeError\u001b[0m: 'int' object is not callable"
     ]
    }
   ],
   "source": [
    "import sys\n",
    "\n",
    "N, M = map(int, input().split())\n",
    "\n",
    "board = []\n",
    "white_first = []\n",
    "black_first = []\n",
    "\n",
    "for _ in range(N):\n",
    "    row = sys.stdin.readline().replace(\"\\n\", \"\")\n",
    "    board.append([i for i in row])\n",
    "\n",
    "\n",
    "# 흰색으로 시작하는 체스판을 만들 경우\n",
    "for index, row in enumerate(board):\n",
    "    painting = []\n",
    "    if index % 2 == 0: current_color = \"W\"\n",
    "    else: current_color = \"B\"\n",
    "\n",
    "    for value in row:\n",
    "        if value == current_color: painting.append(0)\n",
    "        else: painting.append(1)\n",
    "        \n",
    "        if current_color == \"W\": current_color = \"B\"\n",
    "        else: current_color = \"W\"\n",
    "    white_first.append(painting)\n",
    "\n",
    "# 검은색으로 시작하는 체스판을 만들 경우\n",
    "for index, row in enumerate(board):\n",
    "    painting = []\n",
    "    if index % 2 == 0: current_color = \"B\"\n",
    "    else: current_color = \"W\"\n",
    "\n",
    "    for value in row:\n",
    "        if value == current_color: painting.append(0)\n",
    "        else: painting.append(1)\n",
    "        \n",
    "        if current_color == \"W\": current_color = \"B\"\n",
    "        else: current_color = \"W\"\n",
    "    black_first.append(painting)\n",
    "\n",
    "# 최솟값을 초기화 할 때, 보드의 최대 크기인 50*50 = 2500으로 한다.\n",
    "min_count = 2500\n",
    "for i in range(N-8+1):\n",
    "    rows = white_first[i:i+8]\n",
    "    for j in range(M-8+1):\n",
    "        paint = 0\n",
    "        for row in rows:\n",
    "            paint += sum(row[j:j+8])\n",
    "        if paint < min_count: min_count = paint\n",
    "\n",
    "for i in range(N-8+1):\n",
    "    rows = black_first[i:i+8]\n",
    "    for j in range(M-8+1):\n",
    "        paint = 0\n",
    "        for row in rows:\n",
    "            paint += sum(row[j:j+8])\n",
    "        if paint < min_count: min_count = paint\n",
    "\n",
    "print(min_count)"
   ]
  },
  {
   "cell_type": "markdown",
   "metadata": {},
   "source": [
    "## 5"
   ]
  },
  {
   "cell_type": "code",
   "execution_count": 186,
   "metadata": {},
   "outputs": [
    {
     "name": "stdout",
     "output_type": "stream",
     "text": [
      "3\n",
      "666\n",
      "1666\n",
      "2666\n",
      "2666\n"
     ]
    }
   ],
   "source": [
    "n = int(input())\n",
    "cnt = 0\n",
    "num = str()\n",
    "i = 666\n",
    "\n",
    "while True:\n",
    "    num = str(i)\n",
    "    for j in range(len(num)-2):\n",
    "        if num[j] == '6' and num[j+1] == '6' and num[j+2] == '6':\n",
    "            cnt+=1\n",
    "            break\n",
    "    if cnt == n: break\n",
    "    i += 1\n",
    "        \n",
    "print(num)"
   ]
  },
  {
   "cell_type": "code",
   "execution_count": 185,
   "metadata": {},
   "outputs": [
    {
     "name": "stdout",
     "output_type": "stream",
     "text": [
      "3\n"
     ]
    }
   ],
   "source": []
  },
  {
   "cell_type": "code",
   "execution_count": null,
   "metadata": {},
   "outputs": [],
   "source": []
  }
 ],
 "metadata": {
  "kernelspec": {
   "display_name": "Python 3",
   "language": "python",
   "name": "python3"
  },
  "language_info": {
   "codemirror_mode": {
    "name": "ipython",
    "version": 3
   },
   "file_extension": ".py",
   "mimetype": "text/x-python",
   "name": "python",
   "nbconvert_exporter": "python",
   "pygments_lexer": "ipython3",
   "version": "3.7.3"
  }
 },
 "nbformat": 4,
 "nbformat_minor": 2
}

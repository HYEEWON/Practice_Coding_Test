{
 "cells": [
  {
   "cell_type": "markdown",
   "metadata": {},
   "source": [
    "## 4"
   ]
  },
  {
   "cell_type": "code",
   "execution_count": 100,
   "metadata": {},
   "outputs": [
    {
     "name": "stdout",
     "output_type": "stream",
     "text": [
      "5\n",
      "1 3 8 -2 2\n"
     ]
    }
   ],
   "source": [
    "from collections import Counter\n",
    "\n",
    "n = int(input()) #n은 홀수\n",
    "num = list(map(int, input().split()))"
   ]
  },
  {
   "cell_type": "code",
   "execution_count": 101,
   "metadata": {},
   "outputs": [
    {
     "name": "stdout",
     "output_type": "stream",
     "text": [
      "2\n"
     ]
    }
   ],
   "source": [
    "sums = 0\n",
    "for i in range(n):\n",
    "    sums +=num[i]\n",
    "avg = sums / n\n",
    "print(round(avg)) #산술 평균"
   ]
  },
  {
   "cell_type": "code",
   "execution_count": 102,
   "metadata": {},
   "outputs": [
    {
     "name": "stdout",
     "output_type": "stream",
     "text": [
      "[-2, 1, 2, 3, 8]\n",
      "2\n"
     ]
    }
   ],
   "source": [
    "for i in range(1, n):\n",
    "    key = num[i]\n",
    "    j = i - 1\n",
    "    while j >= 0 and num[j] > key:\n",
    "        num[j + 1] = num[j]\n",
    "        j -= 1\n",
    "    num[j+1] = key\n",
    "print(num)\n",
    "print(num[n // 2]) #중앙값"
   ]
  },
  {
   "cell_type": "code",
   "execution_count": 103,
   "metadata": {},
   "outputs": [],
   "source": [
    "num.sort()"
   ]
  },
  {
   "cell_type": "code",
   "execution_count": 104,
   "metadata": {},
   "outputs": [
    {
     "name": "stdout",
     "output_type": "stream",
     "text": [
      "1\n"
     ]
    }
   ],
   "source": [
    "cnt = Counter(num)\n",
    "modes = cnt.most_common()\n",
    "if len(num) > 1:\n",
    "    if modes[0][1] == modes[1][1]:\n",
    "        mod = modes[1][0]\n",
    "    else:\n",
    "        mod = modes[0][0]\n",
    "else:\n",
    "    mod = modes[0][0]\n",
    "\n",
    "print(mod)\n"
   ]
  },
  {
   "cell_type": "code",
   "execution_count": 105,
   "metadata": {},
   "outputs": [
    {
     "name": "stdout",
     "output_type": "stream",
     "text": [
      "10\n"
     ]
    }
   ],
   "source": [
    "print(num[n - 1] - num[0]) #차이"
   ]
  },
  {
   "cell_type": "markdown",
   "metadata": {},
   "source": [
    "## 5"
   ]
  },
  {
   "cell_type": "code",
   "execution_count": 23,
   "metadata": {},
   "outputs": [
    {
     "name": "stdout",
     "output_type": "stream",
     "text": [
      "54687913511565\n"
     ]
    }
   ],
   "source": [
    "n = int(input())"
   ]
  },
  {
   "cell_type": "code",
   "execution_count": 24,
   "metadata": {},
   "outputs": [
    {
     "name": "stdout",
     "output_type": "stream",
     "text": [
      "98766555543111"
     ]
    }
   ],
   "source": [
    "num = []\n",
    "m = 0;\n",
    "while n > 0:\n",
    "    m = n % 10\n",
    "    n //= 10\n",
    "    num.append(m)\n",
    "\n",
    "num.sort(reverse = True)\n",
    "\n",
    "for i in range(len(num)):\n",
    "    print(num[i], end='')"
   ]
  },
  {
   "cell_type": "code",
   "execution_count": null,
   "metadata": {},
   "outputs": [],
   "source": [
    "nums = input()\n",
    "nums = [int(n)  for n in nums]\n",
    "\n",
    "ordered_nums = sorted(nums, reverse=True) # 정렬된 새로운 리스트 반환\n",
    "\n",
    "for n in ordered_nums : \n",
    "    print(n, end=\"\")"
   ]
  },
  {
   "cell_type": "markdown",
   "metadata": {},
   "source": [
    "## 6_1"
   ]
  },
  {
   "cell_type": "code",
   "execution_count": 28,
   "metadata": {},
   "outputs": [
    {
     "name": "stdout",
     "output_type": "stream",
     "text": [
      "5\n",
      "3 4\n",
      "1 1\n",
      "1 -1\n",
      "2 2\n",
      "3 3\n"
     ]
    }
   ],
   "source": [
    "n = int(input())\n",
    "num = []\n",
    "for i in range(n):\n",
    "    line = list(map(int, input().split()))\n",
    "    num.append(line)"
   ]
  },
  {
   "cell_type": "code",
   "execution_count": 33,
   "metadata": {},
   "outputs": [
    {
     "name": "stdout",
     "output_type": "stream",
     "text": [
      "1 -1\n",
      "1 1\n",
      "2 2\n",
      "3 3\n",
      "3 4\n"
     ]
    }
   ],
   "source": [
    "num.sort()\n",
    "for i in range(n):\n",
    "    print(num[i][0], num[i][1])"
   ]
  },
  {
   "cell_type": "markdown",
   "metadata": {},
   "source": [
    "## 6_2"
   ]
  },
  {
   "cell_type": "code",
   "execution_count": 40,
   "metadata": {},
   "outputs": [
    {
     "name": "stdout",
     "output_type": "stream",
     "text": [
      "5\n",
      "3 3\n",
      "1 1\n",
      "1 -1\n",
      "2 2\n",
      "3 4\n"
     ]
    }
   ],
   "source": [
    "n = int(input())\n",
    "num = []\n",
    "for i in range(n):\n",
    "    line = list(map(int, input().split()))\n",
    "    num.append(line)"
   ]
  },
  {
   "cell_type": "code",
   "execution_count": 45,
   "metadata": {},
   "outputs": [
    {
     "name": "stdout",
     "output_type": "stream",
     "text": [
      "1 -1\n",
      "1 1\n",
      "2 2\n",
      "3 3\n",
      "3 4\n"
     ]
    }
   ],
   "source": [
    "for i in range(n):\n",
    "    for j in range(1, n - i):\n",
    "        if num[j][0] < num[j - 1][0]:\n",
    "            temp = num[j]\n",
    "            num[j] = num[j-1]\n",
    "            num[j-1] = temp\n",
    "        elif num[j][0] == num[j - 1][0]:\n",
    "            if num[j][1] < num[j - 1][1]:\n",
    "                temp = num[j]\n",
    "                num[j] = num[j-1]\n",
    "                num[j-1] = temp\n",
    "            \n",
    "for i in range(n):\n",
    "    print(num[i][0], num[i][1])  ## 시간초과"
   ]
  },
  {
   "cell_type": "markdown",
   "metadata": {},
   "source": [
    "## 6_3"
   ]
  },
  {
   "cell_type": "code",
   "execution_count": 48,
   "metadata": {},
   "outputs": [
    {
     "name": "stdout",
     "output_type": "stream",
     "text": [
      "5\n",
      "3 4\n",
      "1 -1\n",
      "1 1\n",
      "2 2\n",
      "3 3\n"
     ]
    }
   ],
   "source": [
    "n = int(input())\n",
    "num = []\n",
    "for i in range(n):\n",
    "    line = list(map(int, input().split()))\n",
    "    num.append(line)"
   ]
  },
  {
   "cell_type": "code",
   "execution_count": 51,
   "metadata": {},
   "outputs": [
    {
     "name": "stdout",
     "output_type": "stream",
     "text": [
      "1 -1\n",
      "1 1\n",
      "2 2\n",
      "3 3\n",
      "3 4\n"
     ]
    }
   ],
   "source": [
    "num = sorted(num, key = lambda x : (x[0], x[1]))\n",
    "#key에 함수를 넘겨주면 해당 함수의 반환값을 비교하여 순서대로 정렬\n",
    "\n",
    "for i in range(n):\n",
    "    print(num[i][0], num[i][1])  ## 시간초과"
   ]
  },
  {
   "cell_type": "markdown",
   "metadata": {},
   "source": [
    "## 8_단어정렬"
   ]
  },
  {
   "cell_type": "code",
   "execution_count": 21,
   "metadata": {},
   "outputs": [
    {
     "name": "stdout",
     "output_type": "stream",
     "text": [
      "5\n",
      "but\n",
      "no\n",
      "no\n",
      "it\n",
      "a\n",
      "[('but', 3), ('no', 2), ('no', 2), ('it', 2), ('a', 1)]\n"
     ]
    }
   ],
   "source": [
    "n = int(input())\n",
    "words = []\n",
    "for i in range(n):\n",
    "    ch = str(input())\n",
    "    words.append((ch, len(ch)))\n",
    "    \n",
    "print(words)"
   ]
  },
  {
   "cell_type": "code",
   "execution_count": 27,
   "metadata": {},
   "outputs": [
    {
     "name": "stdout",
     "output_type": "stream",
     "text": [
      "a\n",
      "it\n",
      "no\n",
      "but\n"
     ]
    }
   ],
   "source": [
    "w = list(set(words))\n",
    "w.sort(key = lambda word: (word[1], word[0]))\n",
    "\n",
    "for i in w:\n",
    "    print(i[0])"
   ]
  },
  {
   "cell_type": "markdown",
   "metadata": {},
   "source": [
    "## 9"
   ]
  },
  {
   "cell_type": "code",
   "execution_count": 35,
   "metadata": {},
   "outputs": [
    {
     "name": "stdout",
     "output_type": "stream",
     "text": [
      "5\n",
      "21 jun\n",
      "21 doh\n",
      "20 sun\n",
      "10 se\n",
      "2 wer\n",
      "[(21, 'jun'), (21, 'doh'), (20, 'sun'), (10, 'se'), (2, 'wer')]\n"
     ]
    }
   ],
   "source": [
    "n = int(input())\n",
    "list = []\n",
    "for i in range(n):\n",
    "    age, name = map(str, input().split())\n",
    "    age = int(age)\n",
    "    list.append((age, name))\n",
    "    \n",
    "print(list)"
   ]
  },
  {
   "cell_type": "code",
   "execution_count": 42,
   "metadata": {},
   "outputs": [
    {
     "name": "stdout",
     "output_type": "stream",
     "text": [
      "2 wer\n",
      "10 se\n",
      "20 sun\n",
      "21 jun\n",
      "21 doh\n"
     ]
    }
   ],
   "source": [
    "list.sort(key = lambda w: (w[0]))\n",
    "\n",
    "for i in list:\n",
    "    print(str(i[0]) + ' ' + i[1])\n",
    "    "
   ]
  },
  {
   "cell_type": "code",
   "execution_count": null,
   "metadata": {},
   "outputs": [],
   "source": []
  }
 ],
 "metadata": {
  "kernelspec": {
   "display_name": "Python 3",
   "language": "python",
   "name": "python3"
  },
  "language_info": {
   "codemirror_mode": {
    "name": "ipython",
    "version": 3
   },
   "file_extension": ".py",
   "mimetype": "text/x-python",
   "name": "python",
   "nbconvert_exporter": "python",
   "pygments_lexer": "ipython3",
   "version": "3.7.4"
  }
 },
 "nbformat": 4,
 "nbformat_minor": 2
}

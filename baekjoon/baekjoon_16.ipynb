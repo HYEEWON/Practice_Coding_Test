{
 "cells": [
  {
   "cell_type": "markdown",
   "metadata": {},
   "source": [
    "## 1"
   ]
  },
  {
   "cell_type": "code",
   "execution_count": 28,
   "metadata": {},
   "outputs": [
    {
     "name": "stdout",
     "output_type": "stream",
     "text": [
      "10\n",
      "55\n"
     ]
    }
   ],
   "source": [
    "def fibo(n):\n",
    "    global result\n",
    "    result[0] = 0\n",
    "    result[1] = 1\n",
    "    \n",
    "    if n <=1:\n",
    "        return result[n]\n",
    "    \n",
    "    for i in range(2, n+1):\n",
    "        result[i] = result[i-1] + result[i-2]\n",
    "    return result[n]\n",
    "    \n",
    "\n",
    "n = int(input())\n",
    "result = [0 for i in range(n+2)]\n",
    "print(fibo(n))"
   ]
  },
  {
   "cell_type": "markdown",
   "metadata": {},
   "source": [
    "## 2"
   ]
  },
  {
   "cell_type": "code",
   "execution_count": 30,
   "metadata": {},
   "outputs": [
    {
     "name": "stdout",
     "output_type": "stream",
     "text": [
      "3\n",
      "0\n",
      "1\n",
      "3\n"
     ]
    }
   ],
   "source": [
    "t = int(input())\n",
    "for i in range(t):\n",
    "    n = int(input())\n",
    "    \n",
    "cnt = [0, 0]"
   ]
  },
  {
   "cell_type": "markdown",
   "metadata": {},
   "source": [
    "## 3"
   ]
  },
  {
   "cell_type": "markdown",
   "metadata": {},
   "source": [
    "n = int(input())"
   ]
  },
  {
   "cell_type": "code",
   "execution_count": 5,
   "metadata": {},
   "outputs": [
    {
     "name": "stdout",
     "output_type": "stream",
     "text": [
      "5\n"
     ]
    }
   ],
   "source": [
    "cnt = 0\n",
    "ans = []\n",
    "\n",
    "ans.append(0)\n",
    "ans.append(1)\n",
    "ans.append(2)\n",
    "\n",
    "for i in range(3, n+1):\n",
    "    ans.append(ans[i - 2] + ans[i - 1])\n",
    "\n",
    "print(ans[n] % 15746)\n",
    "        \n",
    "    "
   ]
  },
  {
   "cell_type": "markdown",
   "metadata": {},
   "source": [
    "## 4"
   ]
  },
  {
   "cell_type": "code",
   "execution_count": 13,
   "metadata": {},
   "outputs": [
    {
     "name": "stdout",
     "output_type": "stream",
     "text": [
      "5\n",
      "5\n",
      "2\n",
      "6\n",
      "3\n",
      "3\n",
      "1\n",
      "2\n",
      "1\n",
      "4\n",
      "2\n"
     ]
    }
   ],
   "source": [
    "t = int(input())\n",
    "p = [0 for i in range(101)]\n",
    "p[1] = 1\n",
    "p[2] = 1\n",
    "p[3] = 1\n",
    "p[4] = 2\n",
    "p[5] = 2\n",
    "\n",
    "for i in range(t):\n",
    "    n = int(input())\n",
    "    for j in range(6, n+1):\n",
    "        if p[j] > 0:\n",
    "            continue\n",
    "        p[j] = p[j-5] + p[j-1]\n",
    "    print(p[n])"
   ]
  },
  {
   "cell_type": "markdown",
   "metadata": {},
   "source": [
    "## 6"
   ]
  },
  {
   "cell_type": "code",
   "execution_count": 2,
   "metadata": {},
   "outputs": [
    {
     "name": "stdout",
     "output_type": "stream",
     "text": [
      "5\n",
      "7 \n",
      "3 8\n",
      "8 1 0\n",
      "2 7 4 4\n",
      "4 5 2 6 5\n",
      "[[7], [3, 8], [8, 1, 0], [2, 7, 4, 4], [4, 5, 2, 6, 5]]\n"
     ]
    }
   ],
   "source": [
    "n = int(input())\n",
    "#ans = [[0 for i in range(n)] for i in range(n)]\n",
    "ans = []\n",
    "\n",
    "for i in range(n):    \n",
    "    line = list(map(int, input().split()))\n",
    "    ans.append(line)   \n",
    "    \n",
    "print(ans)"
   ]
  },
  {
   "cell_type": "code",
   "execution_count": 9,
   "metadata": {},
   "outputs": [
    {
     "name": "stdout",
     "output_type": "stream",
     "text": [
      "30\n"
     ]
    }
   ],
   "source": [
    "k = 2\n",
    "for i in range(1, n):\n",
    "    for j in range(k):\n",
    "        if j == 0:\n",
    "            ans[i][j] = ans[i][j] + ans[i-1][j]\n",
    "        elif j == i:\n",
    "            ans[i][j] = ans[i][j] + ans[i-1][j-1]\n",
    "        else:\n",
    "            ans[i][j] = max(ans[i-1][j-1], ans[i-1][j]) + ans[i][j]\n",
    "    k += 1\n",
    "print(max(ans[n-1]))"
   ]
  },
  {
   "cell_type": "markdown",
   "metadata": {},
   "source": [
    "## 7"
   ]
  },
  {
   "cell_type": "code",
   "execution_count": 4,
   "metadata": {},
   "outputs": [
    {
     "name": "stdout",
     "output_type": "stream",
     "text": [
      "6\n",
      "10\n",
      "20\n",
      "15\n",
      "25\n",
      "10\n",
      "20\n",
      "[0, 10, 20, 15, 25, 10, 20]\n"
     ]
    }
   ],
   "source": [
    "n = int(input())\n",
    "c = [0]\n",
    "for i in range(n):\n",
    "    c.append(int(input()))\n",
    "\n",
    "print(c)"
   ]
  },
  {
   "cell_type": "code",
   "execution_count": 8,
   "metadata": {},
   "outputs": [
    {
     "name": "stdout",
     "output_type": "stream",
     "text": [
      "75\n"
     ]
    }
   ],
   "source": [
    "ans = [0 for i in range(n+1)]\n",
    "ans[1] = c[1]\n",
    "if n > 1:\n",
    "    ans[2] = c[1]+c[2]\n",
    "\n",
    "for i in range(3, n+1):\n",
    "    ans[i] = max(ans[i-3] + c[i-1]+ c[i],ans[i-2]+c[i])\n",
    "    \n",
    "print(ans[n])"
   ]
  },
  {
   "cell_type": "markdown",
   "metadata": {},
   "source": [
    "## 8"
   ]
  },
  {
   "cell_type": "code",
   "execution_count": 40,
   "metadata": {},
   "outputs": [
    {
     "name": "stdout",
     "output_type": "stream",
     "text": [
      "10\n",
      "[0, 0, 1, 0, 0, 0, 0, 0, 0, 0, 0]\n",
      "[0, 0, 1, 1, 0, 0, 0, 0, 0, 0, 0]\n",
      "[0, 0, 1, 1, 2, 0, 0, 0, 0, 0, 0]\n",
      "[0, 0, 1, 1, 2, 3, 0, 0, 0, 0, 0]\n",
      "[0, 0, 1, 1, 2, 3, 2, 0, 0, 0, 0]\n",
      "[0, 0, 1, 1, 2, 3, 2, 3, 0, 0, 0]\n",
      "[0, 0, 1, 1, 2, 3, 2, 3, 3, 0, 0]\n",
      "[0, 0, 1, 1, 2, 3, 2, 3, 3, 2, 0]\n",
      "[0, 0, 1, 1, 2, 3, 2, 3, 3, 2, 3]\n",
      "3\n"
     ]
    }
   ],
   "source": [
    "#bottom-top\n",
    "n = int(input())\n",
    "c = [0 for i in range(n+1)]\n",
    "\n",
    "for i in range(2, n+1):\n",
    "    c[i] = c[i-1]+1\n",
    "    if i % 2 == 0: c[i] = min(c[i],c[i//2]+1)\n",
    "    if i % 3 == 0: c[i] = min(c[i],c[i//3]+1)\n",
    "    print(c)    \n",
    "print(c[n])"
   ]
  },
  {
   "cell_type": "code",
   "execution_count": 39,
   "metadata": {},
   "outputs": [
    {
     "name": "stdout",
     "output_type": "stream",
     "text": [
      "10\n",
      "0\n"
     ]
    }
   ],
   "source": [
    "#top-bottom\n",
    "n = int(input())\n",
    "c = [0 for i in range(n+1)]\n",
    "\n",
    "for i in range(n-1, 0):\n",
    "    if i % 2 == 0: c[i] = min(c[i],c[i//2]+1)\n",
    "    if i % 3 == 0: c[i] = min(c[i],c[i//3]+1)\n",
    "    c[i] = c[i+1]+1    \n",
    "print(c[n])"
   ]
  },
  {
   "cell_type": "markdown",
   "metadata": {},
   "source": [
    "## 9"
   ]
  },
  {
   "cell_type": "code",
   "execution_count": 7,
   "metadata": {},
   "outputs": [
    {
     "name": "stdout",
     "output_type": "stream",
     "text": [
      "2\n"
     ]
    }
   ],
   "source": [
    "n = int(input())"
   ]
  },
  {
   "cell_type": "code",
   "execution_count": 20,
   "metadata": {},
   "outputs": [
    {
     "name": "stdout",
     "output_type": "stream",
     "text": [
      "17\n"
     ]
    }
   ],
   "source": [
    "#d[n][l]: 길이가 n일때 마지막 수가 ㅣ일 경우의 계단 수\n",
    "d = [[0 for i in range(10)] for j in range(n+1)]\n",
    "for i in range(1, 10): #0은 제외\n",
    "    d[1][i] = 1 \n",
    "    \n",
    "for i in range(2, n + 1):\n",
    "    for j in range(10):\n",
    "        if j == 0: d[i][j] = d[i-1][1] #1\n",
    "        elif j == 9: d[i][j] = d[i-1][8] #8\n",
    "        else: d[i][j] = d[i-1][j+1] + d[i-1][j-1]\n",
    "\n",
    "sum = 0\n",
    "for i in range(0, 10): \n",
    "    sum += d[n][i];\n",
    "    \n",
    "print(sum % 1000000000)"
   ]
  },
  {
   "cell_type": "markdown",
   "metadata": {},
   "source": [
    "## 10"
   ]
  },
  {
   "cell_type": "code",
   "execution_count": 29,
   "metadata": {},
   "outputs": [
    {
     "name": "stdout",
     "output_type": "stream",
     "text": [
      "6\n",
      "6\n",
      "10\n",
      "13\n",
      "9\n",
      "8\n",
      "1\n",
      "[0, 6, 10, 13, 9, 8, 1]\n"
     ]
    }
   ],
   "source": [
    "n = int(input())\n",
    "p = [0]\n",
    "for i in range(n):\n",
    "    p.append(int(input()))\n",
    "    \n",
    "print(p)"
   ]
  },
  {
   "cell_type": "code",
   "execution_count": 30,
   "metadata": {},
   "outputs": [
    {
     "name": "stdout",
     "output_type": "stream",
     "text": [
      "33\n"
     ]
    }
   ],
   "source": [
    "d = [0 for i in range(n+1)]\n",
    "d[1] = p[1]\n",
    "if n > 1: \n",
    "    d[2] = p[1] + p[2]\n",
    "    \n",
    "for i in range(3, n+1):\n",
    "    d[i] = max(d[i-2]+p[i], d[i-3]+p[i-1]+p[i], d[i-1])\n",
    "    \n",
    "print(d[n])"
   ]
  },
  {
   "cell_type": "markdown",
   "metadata": {},
   "source": [
    "## 11"
   ]
  },
  {
   "cell_type": "code",
   "execution_count": 1,
   "metadata": {},
   "outputs": [
    {
     "name": "stdout",
     "output_type": "stream",
     "text": [
      "6\n",
      "10 20 10 30 20 50\n",
      "[10, 20, 10, 30, 20, 50]\n"
     ]
    }
   ],
   "source": [
    "n = int(input()) #배열의 길이\n",
    "a = list(map(int, input().split()))\n",
    "\n",
    "print(a)"
   ]
  },
  {
   "cell_type": "code",
   "execution_count": 13,
   "metadata": {},
   "outputs": [
    {
     "name": "stdout",
     "output_type": "stream",
     "text": [
      "4\n"
     ]
    }
   ],
   "source": [
    "d = [1 for i in range(n)]\n",
    "for i in range(n):\n",
    "    for j in range(i):\n",
    "        if a[j] < a[i]: d[i] = max(d[i], d[j]+1)\n",
    "            \n",
    "print(max(d))"
   ]
  },
  {
   "cell_type": "markdown",
   "metadata": {},
   "source": [
    "## 12"
   ]
  },
  {
   "cell_type": "code",
   "execution_count": 27,
   "metadata": {},
   "outputs": [
    {
     "name": "stdout",
     "output_type": "stream",
     "text": [
      "9\n",
      "1 5 2 3 4 5 3 2 1\n",
      "[1, 5, 2, 3, 4, 5, 3, 2, 1]\n"
     ]
    }
   ],
   "source": [
    "n = int(input()) #배열의 길이\n",
    "a = list(map(int, input().split()))\n",
    "\n",
    "print(a)"
   ]
  },
  {
   "cell_type": "code",
   "execution_count": 34,
   "metadata": {},
   "outputs": [
    {
     "name": "stdout",
     "output_type": "stream",
     "text": [
      "[1, 2, 2, 3, 4, 5, 3, 2, 1]\n",
      "[1, 5, 2, 3, 4, 4, 3, 2, 1]\n",
      "[1, 6, 3, 5, 7, 8, 5, 3, 1]\n",
      "8\n"
     ]
    }
   ],
   "source": [
    "increase = [1 for i in range(n)]\n",
    "decrease = [1 for i in range(n)]\n",
    "d = [0 for i in range(n)]\n",
    "\n",
    "for i in range(n):\n",
    "    for j in range(i):\n",
    "        if a[j] < a[i]: increase[i] = max(increase[i], increase[j]+1)\n",
    "\n",
    "for i in range(n-1, -1, -1):\n",
    "    for j in range(i+1, n):\n",
    "        if a[j] < a[i]: decrease[i] = max(decrease[i], decrease[j]+1)            \n",
    "\n",
    "for i in range(n):\n",
    "    d[i] = increase[i] + decrease[i] - 1\n",
    "\n",
    "print(increase)\n",
    "print(decrease)\n",
    "print(d)\n",
    "print(max(d))"
   ]
  },
  {
   "cell_type": "markdown",
   "metadata": {},
   "source": [
    "## 13"
   ]
  },
  {
   "cell_type": "code",
   "execution_count": 6,
   "metadata": {},
   "outputs": [
    {
     "name": "stdout",
     "output_type": "stream",
     "text": [
      "8\n",
      "1 8\n",
      "3 9\n",
      "2 2\n",
      "4 1\n",
      "6 4\n",
      "10 10\n",
      "9 7\n",
      "7 6\n",
      "[[1, 8], [3, 9], [2, 2], [4, 1], [6, 4], [10, 10], [9, 7], [7, 6]]\n"
     ]
    }
   ],
   "source": [
    "n = int(input())\n",
    "ab = [0 for i in range(n)]\n",
    "\n",
    "for i in range(n):\n",
    "    ab[i] = list(map(int, input().split()))\n",
    "    \n",
    "print(ab)"
   ]
  },
  {
   "cell_type": "code",
   "execution_count": 14,
   "metadata": {},
   "outputs": [
    {
     "name": "stdout",
     "output_type": "stream",
     "text": [
      "[1, 1, 2, 1, 2, 3, 4, 5]\n",
      "3\n"
     ]
    }
   ],
   "source": [
    "d = [1 for i in range(n)]\n",
    "ab.sort()\n",
    "\n",
    "for i in range(n):\n",
    "    for j in range(i):\n",
    "        if ab[j][1] < ab[i][1]: d[i] = max(d[i], d[j]+1)\n",
    "            \n",
    "print(n - max(d))"
   ]
  },
  {
   "cell_type": "markdown",
   "metadata": {},
   "source": [
    "## 14"
   ]
  },
  {
   "cell_type": "code",
   "execution_count": 22,
   "metadata": {},
   "outputs": [
    {
     "name": "stdout",
     "output_type": "stream",
     "text": [
      "ACAYKP\n",
      "CAPCAK\n"
     ]
    }
   ],
   "source": [
    "a = list(str(input()))\n",
    "b = list(str(input()))"
   ]
  },
  {
   "cell_type": "code",
   "execution_count": 29,
   "metadata": {},
   "outputs": [
    {
     "name": "stdout",
     "output_type": "stream",
     "text": [
      "4\n"
     ]
    }
   ],
   "source": [
    "d = [ [0]*len(a) for i in range(len(b))]\n",
    "#d[i][j] = i번째 문자와 j번째 문자 사이의 lcs\n",
    "\n",
    "for i in range(len(b)):\n",
    "    for j in range(len(a)):\n",
    "        if a[i] == b[j]: d[i][j] = d[i-1][j-1] + 1\n",
    "        else: d[i][j] = max(d[i-1][j], d[i][j-1])\n",
    "        \n",
    "print(d[-1][-1])"
   ]
  },
  {
   "cell_type": "markdown",
   "metadata": {},
   "source": [
    "## 15"
   ]
  },
  {
   "cell_type": "code",
   "execution_count": 24,
   "metadata": {},
   "outputs": [
    {
     "name": "stdout",
     "output_type": "stream",
     "text": [
      "10\n",
      "10 -4 3 1 5 6 -35 12 21 -1\n",
      "[10, -4, 3, 1, 5, 6, -35, 12, 21, -1]\n"
     ]
    }
   ],
   "source": [
    "n = int(input())\n",
    "p = list(map(int, input().split()))\n",
    "\n",
    "print(p)"
   ]
  },
  {
   "cell_type": "code",
   "execution_count": 25,
   "metadata": {},
   "outputs": [
    {
     "name": "stdout",
     "output_type": "stream",
     "text": [
      "[10, 6, 9, 10, 15, 21, -14, 12, 33, 32]\n",
      "33\n"
     ]
    }
   ],
   "source": [
    "d = [0 for i in range(n)]\n",
    "d[0] = p[0]\n",
    "sum = 0\n",
    "for i in range(1, n):\n",
    "    d[i] = max(d[i-1]+p[i], p[i])  \n",
    "    \n",
    "print(d)\n",
    "print(max(d))"
   ]
  },
  {
   "cell_type": "markdown",
   "metadata": {},
   "source": [
    "## 16"
   ]
  },
  {
   "cell_type": "code",
   "execution_count": 1,
   "metadata": {},
   "outputs": [
    {
     "name": "stdout",
     "output_type": "stream",
     "text": [
      "4 7\n",
      "6 13\n",
      "4 8\n",
      "3 6\n",
      "5 12\n",
      "[0, [6, 13], [4, 8], [3, 6], [5, 12]]\n"
     ]
    }
   ],
   "source": [
    "n, k = map(int, input().split()) #물건 개수, 버틸 수 있는 무게\n",
    "wv = [ 0 for i in range(n+1)] #물건 무게, 가치\n",
    "\n",
    "for i in range(1, n+1):\n",
    "    wv[i] = list(map(int, input().split()))\n",
    "    \n",
    "print(wv)"
   ]
  },
  {
   "cell_type": "code",
   "execution_count": 17,
   "metadata": {},
   "outputs": [
    {
     "name": "stdout",
     "output_type": "stream",
     "text": [
      "14\n"
     ]
    }
   ],
   "source": [
    "dp = [[0] * (k+1) for i in range(n+1)]\n",
    "\n",
    "for i in range(1, n+1): #물건\n",
    "    for j in range(1, k+1): #무게\n",
    "        if j < wv[i][0]: dp[i][j] = dp[i-1][j]\n",
    "        else: dp[i][j] = max(dp[i-1][j], dp[i-1][j-wv[i][0]] + wv[i][1])\n",
    "\n",
    "print(dp[-1][-1])\n",
    "    \n",
    "    \n"
   ]
  },
  {
   "cell_type": "code",
   "execution_count": 16,
   "metadata": {},
   "outputs": [
    {
     "data": {
      "text/plain": [
       "[[0, 0, 0, 0, 0, 0, 0, 0],\n",
       " [0, 0, 0, 0, 0, 0, 13, 13],\n",
       " [0, 0, 0, 0, 8, 8, 13, 13],\n",
       " [0, 0, 0, 6, 8, 8, 13, 14],\n",
       " [0, 0, 0, 6, 8, 12, 13, 14]]"
      ]
     },
     "execution_count": 16,
     "metadata": {},
     "output_type": "execute_result"
    }
   ],
   "source": [
    "dp"
   ]
  }
 ],
 "metadata": {
  "kernelspec": {
   "display_name": "Python 3",
   "language": "python",
   "name": "python3"
  },
  "language_info": {
   "codemirror_mode": {
    "name": "ipython",
    "version": 3
   },
   "file_extension": ".py",
   "mimetype": "text/x-python",
   "name": "python",
   "nbconvert_exporter": "python",
   "pygments_lexer": "ipython3",
   "version": "3.7.4"
  }
 },
 "nbformat": 4,
 "nbformat_minor": 2
}

{
 "cells": [
  {
   "cell_type": "markdown",
   "metadata": {},
   "source": [
    "## 1"
   ]
  },
  {
   "cell_type": "code",
   "execution_count": 13,
   "metadata": {},
   "outputs": [
    {
     "name": "stdout",
     "output_type": "stream",
     "text": [
      "5\n",
      "4 1 5 2 3\n",
      "5\n",
      "1 3 7 9 5\n",
      "1\n",
      "1\n",
      "0\n",
      "0\n",
      "1\n"
     ]
    }
   ],
   "source": [
    "n = int(input())\n",
    "A=[ i for i in input().split()]\n",
    "A.sort()    \n",
    "m = int(input())\n",
    "B=[ i for i in input().split()]\n",
    "    \n",
    "for i in range(m):\n",
    "    end = len(A)-1\n",
    "    start = 0\n",
    "    flag = 0\n",
    "    while end-start>=0:\n",
    "        mid = (end+start)//2\n",
    "        \n",
    "        if B[i] == A[mid]:\n",
    "            flag = 1\n",
    "            print(1)\n",
    "            break\n",
    "        elif B[i] > A[mid]:\n",
    "            start = mid+1\n",
    "        elif B[i] < A[mid]:\n",
    "            end = mid-1\n",
    "        \n",
    "    if flag == 0: \n",
    "        print(0)"
   ]
  },
  {
   "cell_type": "code",
   "execution_count": 1,
   "metadata": {},
   "outputs": [
    {
     "name": "stdout",
     "output_type": "stream",
     "text": [
      "5\n",
      "4 1 5 2 3\n",
      "5\n",
      "1 3 7 9 5\n",
      "1\n",
      "1\n",
      "0\n",
      "0\n",
      "1\n"
     ]
    }
   ],
   "source": [
    "n = int(input())\n",
    "A=[ i for i in input().split()]\n",
    "    \n",
    "m = int(input())\n",
    "B=[ i for i in input().split()]\n",
    "    \n",
    "for i in range(m):\n",
    "    if A.count(B[i]) == 0:\n",
    "        print(0)\n",
    "    \n",
    "    else:\n",
    "        print(1)\n",
    "    \n",
    "    "
   ]
  },
  {
   "cell_type": "markdown",
   "metadata": {},
   "source": [
    "## 2"
   ]
  },
  {
   "cell_type": "code",
   "execution_count": 15,
   "metadata": {},
   "outputs": [
    {
     "name": "stdout",
     "output_type": "stream",
     "text": [
      "10\n",
      "6 3 2 10 10 10 -10 -10 7 3\n",
      "8\n",
      "10 9 -5 2 3 4 5 -10\n",
      "3 \n",
      "0 \n",
      "0 \n",
      "1 \n",
      "2 \n",
      "0 \n",
      "0 \n",
      "2 \n"
     ]
    }
   ],
   "source": [
    "n = int(input())\n",
    "arr = [i for i in map(int, input().split())]\n",
    "\n",
    "m = int(input())\n",
    "target = [i for i in map(int, input().split())]\n",
    "arr.sort()\n",
    "\n",
    "for t in target:\n",
    "    end = n-1\n",
    "    start = 0\n",
    "    cnt = 0\n",
    "    while end >= start:\n",
    "        mid = (start+end)//2\n",
    "        if t == arr[mid]:\n",
    "            cnt = arr[start:end+1].count(t)\n",
    "            break\n",
    "        elif t > arr[mid]:\n",
    "            start = mid+1\n",
    "        else:\n",
    "        #elif tar[i] < arr[mid]:\n",
    "            end = mid-1\n",
    "            \n",
    "    print(str(cnt)+ ' ')\n",
    "    \n",
    " "
   ]
  },
  {
   "cell_type": "code",
   "execution_count": 7,
   "metadata": {},
   "outputs": [
    {
     "name": "stdout",
     "output_type": "stream",
     "text": [
      "6\n",
      "2 3 4 5 6 3\n",
      "2\n",
      "[2, 3, 4, 5, 6, 3]\n"
     ]
    }
   ],
   "source": [
    "n = int(input())\n",
    "end = n\n",
    "start = 0\n",
    "arr = [i for i in map(int, input().split())]\n",
    "print(arr[start:end].count(3))\n",
    "print(arr)"
   ]
  },
  {
   "cell_type": "code",
   "execution_count": 40,
   "metadata": {},
   "outputs": [
    {
     "name": "stdout",
     "output_type": "stream",
     "text": [
      "10\n",
      "6 3 2 10 10 10 -10 -10 7 3\n",
      "8\n",
      "10 9 -5 2 3 4 5 -10\n",
      "{10: '3', 9: '0', -5: '0', 2: '1', 3: '2', 4: '0', 5: '0', -10: '2'}\n",
      "3 0 0 1 2 0 0 2 "
     ]
    }
   ],
   "source": [
    "n = int(input())\n",
    "arr = [i for i in map(int, input().split())]\n",
    "\n",
    "m = int(input())\n",
    "target = [i for i in map(int, input().split())]\n",
    "arr.sort()\n",
    "\n",
    "def binary_search(start, end, arr, t):\n",
    "    if end < start: \n",
    "        return '0'\n",
    "    mid = (start+end)//2\n",
    "    if t == arr[mid]:\n",
    "        return str(arr[start:end+1].count(t))\n",
    "    elif t > arr[mid]:\n",
    "        return binary_search(mid+1, end, arr, t)\n",
    "    else:\n",
    "    #elif tar[i] < arr[mid]:\n",
    "        return binary_search(start, mid-1, arr, t)\n",
    "            \n",
    "n_dict = {} #['' for i in range(m)]\n",
    "i = 0\n",
    "for t in target:\n",
    "    end = n-1\n",
    "    start = 0\n",
    "    n_dict[t] = binary_search(start, end, arr, t)\n",
    "print(n_dict)    \n",
    "for i in n_dict.values():\n",
    "    sys.stdout.write(str(i)+' ')"
   ]
  },
  {
   "cell_type": "markdown",
   "metadata": {},
   "source": [
    "## 3"
   ]
  },
  {
   "cell_type": "code",
   "execution_count": 1,
   "metadata": {},
   "outputs": [
    {
     "name": "stdout",
     "output_type": "stream",
     "text": [
      "10\n"
     ]
    },
    {
     "ename": "ValueError",
     "evalue": "not enough values to unpack (expected 2, got 1)",
     "output_type": "error",
     "traceback": [
      "\u001b[1;31m---------------------------------------------------------------------------\u001b[0m",
      "\u001b[1;31mValueError\u001b[0m                                Traceback (most recent call last)",
      "\u001b[1;32m<ipython-input-1-883b38a6c029>\u001b[0m in \u001b[0;36m<module>\u001b[1;34m\u001b[0m\n\u001b[0;32m      1\u001b[0m \u001b[1;32mimport\u001b[0m \u001b[0msys\u001b[0m\u001b[1;33m\u001b[0m\u001b[1;33m\u001b[0m\u001b[0m\n\u001b[1;32m----> 2\u001b[1;33m \u001b[0mk\u001b[0m\u001b[1;33m,\u001b[0m \u001b[0mn\u001b[0m \u001b[1;33m=\u001b[0m \u001b[0mmap\u001b[0m\u001b[1;33m(\u001b[0m\u001b[0mint\u001b[0m\u001b[1;33m,\u001b[0m \u001b[0minput\u001b[0m\u001b[1;33m(\u001b[0m\u001b[1;33m)\u001b[0m\u001b[1;33m.\u001b[0m\u001b[0msplit\u001b[0m\u001b[1;33m(\u001b[0m\u001b[1;33m)\u001b[0m\u001b[1;33m)\u001b[0m \u001b[1;31m#k<=n\u001b[0m\u001b[1;33m\u001b[0m\u001b[1;33m\u001b[0m\u001b[0m\n\u001b[0m\u001b[0;32m      3\u001b[0m \u001b[0marr\u001b[0m\u001b[1;33m=\u001b[0m\u001b[1;33m[\u001b[0m\u001b[1;33m]\u001b[0m\u001b[1;33m\u001b[0m\u001b[1;33m\u001b[0m\u001b[0m\n\u001b[0;32m      4\u001b[0m \u001b[1;32mfor\u001b[0m \u001b[0mi\u001b[0m \u001b[1;32min\u001b[0m \u001b[0mrange\u001b[0m\u001b[1;33m(\u001b[0m\u001b[0mk\u001b[0m\u001b[1;33m)\u001b[0m\u001b[1;33m:\u001b[0m\u001b[1;33m\u001b[0m\u001b[1;33m\u001b[0m\u001b[0m\n\u001b[0;32m      5\u001b[0m     \u001b[0marr\u001b[0m\u001b[1;33m.\u001b[0m\u001b[0mappend\u001b[0m\u001b[1;33m(\u001b[0m\u001b[0mint\u001b[0m\u001b[1;33m(\u001b[0m\u001b[0msys\u001b[0m\u001b[1;33m.\u001b[0m\u001b[0mstdin\u001b[0m\u001b[1;33m.\u001b[0m\u001b[0mreadline\u001b[0m\u001b[1;33m(\u001b[0m\u001b[1;33m)\u001b[0m\u001b[1;33m)\u001b[0m\u001b[1;33m)\u001b[0m\u001b[1;33m\u001b[0m\u001b[1;33m\u001b[0m\u001b[0m\n",
      "\u001b[1;31mValueError\u001b[0m: not enough values to unpack (expected 2, got 1)"
     ]
    }
   ],
   "source": [
    "import sys\n",
    "k, n = map(int, input().split()) #k<=n\n",
    "arr=[]\n",
    "for i in range(k):\n",
    "    arr.append(int(sys.stdin.readline()))\n",
    "    \n",
    "arr=sorted(arr)\n",
    "start = arr[0]\n",
    "end = arr[-1]\n",
    "   \n",
    "while end >= start:\n",
    "    mid = (start+end)//2\n",
    "    cnt = 0\n",
    "    for ar in arr:\n",
    "        cnt += (ar//mid)\n",
    "    if cnt == n:\n",
    "        sys.stdout.write(mid)\n",
    "        break\n",
    "    elif cnt > n:\n",
    "        start = mid+1\n",
    "    else:\n",
    "        end = mid-1           "
   ]
  },
  {
   "cell_type": "markdown",
   "metadata": {},
   "source": [
    "## 4"
   ]
  },
  {
   "cell_type": "code",
   "execution_count": 9,
   "metadata": {},
   "outputs": [
    {
     "name": "stdout",
     "output_type": "stream",
     "text": [
      "4 7\n",
      "20 15 10 17\n",
      "15\n"
     ]
    }
   ],
   "source": [
    "import sys\n",
    "\n",
    "n, m = map(int, input().split())\n",
    "tree = list(map(int,  input().split()))\n",
    "tree.sort()\n",
    "\n",
    "start = 0\n",
    "end = tree[-1]\n",
    "mid = 1\n",
    "result = 0\n",
    "while end >= start:\n",
    "    mid = (start+end)//2\n",
    "    ans = 0\n",
    "    for t in tree:\n",
    "        if t-mid > 0:\n",
    "            ans += (t-mid)\n",
    "    #if ans == m:\n",
    "        #print(mid)\n",
    "        #break\n",
    "    if ans >= m:\n",
    "        start = mid+1\n",
    "        result = mid\n",
    "        \n",
    "    elif ans <m:\n",
    "        end = mid-1\n",
    "print(result)"
   ]
  },
  {
   "cell_type": "markdown",
   "metadata": {},
   "source": [
    "## 5"
   ]
  },
  {
   "cell_type": "code",
   "execution_count": 13,
   "metadata": {},
   "outputs": [
    {
     "name": "stdout",
     "output_type": "stream",
     "text": [
      "5 3\n",
      "1\n",
      "2\n",
      "8\n",
      "4\n",
      "9\n",
      "3\n"
     ]
    }
   ],
   "source": [
    "import sys\n",
    "# 집의 개수, 공유기의 개수\n",
    "n, c = map(int, input().split())\n",
    "x = []\n",
    "for i in range(n):\n",
    "    x.append(int(input()))\n",
    "x.sort()\n",
    "# 1 2 4 8 9\n",
    "# 0 1 2 3 4\n",
    "start = 1\n",
    "end = x[-1]-x[0]     \n",
    "# 1 10 20  30  33 34 35\n",
    "# 0 1 2 3   4   5  6  7\n",
    "ans = 0\n",
    "while end>=start:\n",
    "    mid = (start+end)//2\n",
    "    cnt = 1\n",
    "    ih = x[0]\n",
    "    for i in range(1,n):\n",
    "        if mid <= x[i] - ih:\n",
    "            cnt += 1\n",
    "            ih = x[i]\n",
    "    if cnt >= c:\n",
    "        ans = mid\n",
    "        start = mid + 1\n",
    "    else:\n",
    "        end = mid-1\n",
    "print(ans)\n",
    "    \n",
    "    \n",
    "  "
   ]
  },
  {
   "cell_type": "markdown",
   "metadata": {},
   "source": [
    "## 5"
   ]
  },
  {
   "cell_type": "code",
   "execution_count": 18,
   "metadata": {},
   "outputs": [
    {
     "name": "stdout",
     "output_type": "stream",
     "text": [
      "3\n",
      "7\n",
      "[1, 2, 2, 3, 3, 4, 6, 6, 9]\n",
      "6\n"
     ]
    }
   ],
   "source": [
    "import sys\n",
    "\n",
    "n = int(input())\n",
    "k = int(input())\n",
    "# A = [[0 for i in range(n+1)]for j in range(n+1)]\n",
    "B = [0 for i in range((n)*(n))]\n",
    "idx=0\n",
    "for i in range(1, n+1):\n",
    "    for j in range(1, n+1):\n",
    "        B[idx] = i*j\n",
    "        idx += 1\n",
    "B.sort()\n",
    "\n",
    "start = 1\n",
    "end = n*n\n",
    "while end >= start:\n",
    "    mid = (start+end)//2\n",
    "    if mid == k:\n",
    "        print(B[k-1])\n",
    "        break\n",
    "    elif mid > k: end = mid-1\n",
    "    else: start = mid+1"
   ]
  },
  {
   "cell_type": "code",
   "execution_count": 22,
   "metadata": {},
   "outputs": [
    {
     "name": "stdout",
     "output_type": "stream",
     "text": [
      "3\n",
      "7\n",
      "m: 4 t: 6\n",
      "m: 6 t: 8\n",
      "m: 5 t: 6\n",
      "6\n"
     ]
    }
   ],
   "source": [
    "import sys\n",
    "\n",
    "n = int(input())\n",
    "k = int(input())\n",
    "\n",
    "start = 1\n",
    "end = k\n",
    "while end >= start:\n",
    "    mid = (start+end)//2\n",
    "    print(\"m: \"+ str(mid)+ ' ', end = '')\n",
    "    t = 0\n",
    "    for i in range(1, n+1):\n",
    "        t += min(mid//i, n)\n",
    "    print(\"t: \"+str(t))\n",
    "        \n",
    "    if t >= k:\n",
    "        ans = mid\n",
    "        end = mid-1\n",
    "    else: start = mid+1\n",
    "        \n",
    "print(ans)"
   ]
  },
  {
   "cell_type": "markdown",
   "metadata": {},
   "source": [
    "## 7"
   ]
  },
  {
   "cell_type": "code",
   "execution_count": 25,
   "metadata": {},
   "outputs": [
    {
     "name": "stdout",
     "output_type": "stream",
     "text": [
      "6\n",
      "12 20 10 30 20 50\n",
      "[12]\n",
      "[12, 20]\n",
      "[10, 20]\n",
      "[10, 20, 30]\n",
      "[10, 20, 30]\n",
      "[10, 20, 30, 50]\n",
      "4\n"
     ]
    }
   ],
   "source": [
    "n = int(input()) # 수열 A의 크기\n",
    "A = list(map(int, input().split()))\n",
    "\n",
    "# 찾으려는 수와 같거나, 수가 없으면 큰 수 중 가장 작은 수 반환\n",
    "def lower_bound(arr, start, end, n):\n",
    "    while end > start:\n",
    "        mid = (start+end)//2\n",
    "        if n > arr[mid]:\n",
    "            start = mid+1\n",
    "        else:\n",
    "            end = mid\n",
    "    return end\n",
    "    \n",
    "ans = []\n",
    "for a in A:\n",
    "    if len(ans) == 0:\n",
    "        ans.append(a)\n",
    "    if ans[-1] < a:\n",
    "        ans.append(a)\n",
    "    else:\n",
    "        idx = lower_bound(ans, 0, len(ans)-1, a)\n",
    "        ans[idx] = a\n",
    "    print(ans)\n",
    "print(len(ans))\n",
    "    \n",
    "    "
   ]
  },
  {
   "cell_type": "code",
   "execution_count": null,
   "metadata": {},
   "outputs": [],
   "source": []
  }
 ],
 "metadata": {
  "kernelspec": {
   "display_name": "Python 3",
   "language": "python",
   "name": "python3"
  },
  "language_info": {
   "codemirror_mode": {
    "name": "ipython",
    "version": 3
   },
   "file_extension": ".py",
   "mimetype": "text/x-python",
   "name": "python",
   "nbconvert_exporter": "python",
   "pygments_lexer": "ipython3",
   "version": "3.7.7"
  }
 },
 "nbformat": 4,
 "nbformat_minor": 2
}

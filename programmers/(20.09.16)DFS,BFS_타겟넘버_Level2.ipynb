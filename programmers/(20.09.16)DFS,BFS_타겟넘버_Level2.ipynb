{
 "cells": [
  {
   "cell_type": "code",
   "execution_count": 1,
   "metadata": {},
   "outputs": [
    {
     "data": {
      "text/plain": [
       "5"
      ]
     },
     "execution_count": 1,
     "metadata": {},
     "output_type": "execute_result"
    }
   ],
   "source": [
    "answer = 0\n",
    "def dfs(cnt, s, numbers, target):\n",
    "    global answer\n",
    "    if cnt == len(numbers):\n",
    "        if s == target:\n",
    "            answer += 1\n",
    "        return\n",
    "    dfs(cnt+1, s+numbers[cnt], numbers, target)\n",
    "    dfs(cnt+1, s-numbers[cnt], numbers, target)\n",
    "    \n",
    "    \n",
    "def solution(numbers, target):\n",
    "    global answer\n",
    "    dfs(0, 0, numbers, target)\n",
    "    return answer\n",
    "\n",
    "numbers = [1, 1, 1, 1, 1]  \n",
    "target = 3\n",
    "solution(numbers, target)"
   ]
  }
 ],
 "metadata": {
  "kernelspec": {
   "display_name": "py1",
   "language": "python",
   "name": "py1"
  },
  "language_info": {
   "codemirror_mode": {
    "name": "ipython",
    "version": 3
   },
   "file_extension": ".py",
   "mimetype": "text/x-python",
   "name": "python",
   "nbconvert_exporter": "python",
   "pygments_lexer": "ipython3",
   "version": "3.6.10"
  }
 },
 "nbformat": 4,
 "nbformat_minor": 2
}

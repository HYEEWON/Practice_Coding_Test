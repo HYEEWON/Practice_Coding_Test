{
 "cells": [
  {
   "cell_type": "markdown",
   "metadata": {},
   "source": [
    "## DFS\n",
    "* 31분"
   ]
  },
  {
   "cell_type": "code",
   "execution_count": 28,
   "metadata": {},
   "outputs": [
    {
     "name": "stdout",
     "output_type": "stream",
     "text": [
      "4\n"
     ]
    }
   ],
   "source": [
    "#5/5  #100/100\n",
    "\n",
    "ans = 50\n",
    "def dfs(begin, target, words, cnt, visit):\n",
    "    global ans\n",
    "    if begin == target:\n",
    "        ans = min(cnt, ans)\n",
    "        return ans\n",
    "    if cnt >= len(words) and begin != target:\n",
    "        ans = 0\n",
    "        return ans\n",
    "    \n",
    "    for word in words:\n",
    "        if visit[words.index(word)] == False:\n",
    "            for idx in range(len(begin)):\n",
    "                if word[:idx] == begin[:idx] and word[idx+1::] == begin[idx+1::] and word[idx] != begin[idx]:\n",
    "                    visit[words.index(word)] = True\n",
    "                    dfs(word, target, words, cnt+1, visit)\n",
    "                    visit[words.index(word)] = False\n",
    "    return 0\n",
    "\n",
    "def solution(begin, target, words):\n",
    "    if target not in words:\n",
    "        return 0\n",
    "    visit = [False for i in range(len(words))]\n",
    "    dfs(begin, target, words, 0, visit)\n",
    "    return ans\n",
    "\n",
    "begin = 'hit'\n",
    "target = 'cog'\n",
    "words = ['hot', 'dot', 'dog', 'lot', 'log', 'cog']\n",
    "print(solution(begin, target, words))"
   ]
  },
  {
   "cell_type": "markdown",
   "metadata": {},
   "source": [
    "## BFS"
   ]
  },
  {
   "cell_type": "markdown",
   "metadata": {},
   "source": [
    "* cnt를 큐에 같이 저장하면 됨"
   ]
  },
  {
   "cell_type": "code",
   "execution_count": 38,
   "metadata": {},
   "outputs": [
    {
     "name": "stdout",
     "output_type": "stream",
     "text": [
      "4\n"
     ]
    }
   ],
   "source": [
    "from collections import deque\n",
    "\n",
    "def solution(begin, target, words):\n",
    "    if target not in words:\n",
    "        return 0\n",
    "    visit = [False for i in range(len(words))]\n",
    "    ans = 0\n",
    "    q = deque([[begin, 0]])\n",
    "    while q:\n",
    "        v = q.popleft()\n",
    "        if v[0] == target:\n",
    "            ans = v[1]\n",
    "            break\n",
    "        for word in words:\n",
    "            if visit[words.index(word)] == False:\n",
    "                for idx in range(len(begin)):\n",
    "                    if word[:idx] == v[0][:idx] and word[idx+1::] == v[0][idx+1::] and word[idx] != v[0][idx]:\n",
    "                        visit[words.index(word)] = True\n",
    "                        q.append([word, v[1]+1])\n",
    "    return ans\n",
    "\n",
    "begin = 'hit'\n",
    "target = 'cog'\n",
    "words = ['hot', 'dot', 'dog', 'lot', 'log', 'cog']\n",
    "print(solution(begin, target, words))"
   ]
  }
 ],
 "metadata": {
  "kernelspec": {
   "display_name": "py1",
   "language": "python",
   "name": "py1"
  },
  "language_info": {
   "codemirror_mode": {
    "name": "ipython",
    "version": 3
   },
   "file_extension": ".py",
   "mimetype": "text/x-python",
   "name": "python",
   "nbconvert_exporter": "python",
   "pygments_lexer": "ipython3",
   "version": "3.6.10"
  }
 },
 "nbformat": 4,
 "nbformat_minor": 2
}

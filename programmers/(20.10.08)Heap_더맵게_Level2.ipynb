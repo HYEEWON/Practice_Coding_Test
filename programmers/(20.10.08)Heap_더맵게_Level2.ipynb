{
 "cells": [
  {
   "cell_type": "code",
   "execution_count": 12,
   "metadata": {},
   "outputs": [
    {
     "name": "stdout",
     "output_type": "stream",
     "text": [
      "2\n"
     ]
    }
   ],
   "source": [
    "import heapq\n",
    "\n",
    "def solution(scoville, K):\n",
    "    answer = 0\n",
    "    heap = []\n",
    "    for s in scoville:\n",
    "        heapq.heappush(heap, s)\n",
    "    while len(heap) > 1:\n",
    "        if heap[0] >= K:\n",
    "            break\n",
    "        tmp = heapq.heappop(heap)+heapq.heappop(heap) * 2\n",
    "        answer += 1\n",
    "        heapq.heappush(heap, tmp)\n",
    "    if heap[0] >= K:\n",
    "        return answer\n",
    "    else:\n",
    "        return -1\n",
    "\n",
    "scoville = [1, 2, 3, 9, 10, 12]\n",
    "K = 7\n",
    "print(solution(scoville, K))"
   ]
  }
 ],
 "metadata": {
  "kernelspec": {
   "display_name": "py1",
   "language": "python",
   "name": "py1"
  }
 },
 "nbformat": 4,
 "nbformat_minor": 2
}

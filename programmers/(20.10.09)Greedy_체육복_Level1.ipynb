{
 "cells": [
  {
   "cell_type": "code",
   "execution_count": 11,
   "metadata": {},
   "outputs": [
    {
     "data": {
      "text/plain": [
       "2"
      ]
     },
     "execution_count": 11,
     "metadata": {},
     "output_type": "execute_result"
    }
   ],
   "source": [
    "# 33.3 /100\n",
    "\n",
    "def solution(n, lost, reserve):\n",
    "    answer = 0\n",
    "    flag = [False for i in range(n+1)]\n",
    "    lend = [False for i in range(n+1)] #빌려줄 수 있는 사람\n",
    "    reserve.sort()\n",
    "    for r in range(1, n+1):\n",
    "        if r not in lost:\n",
    "            flag[r] = True\n",
    "            if r in reserve:\n",
    "                lend[r] = True\n",
    "            \n",
    "    for i in range(1, n+1):\n",
    "        if i-1>= 1 and flag[i] == False and lend[i-1] == True:\n",
    "            flag[i] = True\n",
    "            lend[i-1] = False\n",
    "        if i+1<= n and flag[i] == False and lend[i+1] == True:\n",
    "            flag[i] = True\n",
    "            lend[i+1] = False\n",
    "    answer = flag.count(True)\n",
    "    return answer\n",
    "\n",
    "n = 3\n",
    "lost = [3]\n",
    "reserve = [1]\n",
    "solution(n, lost, reserve)"
   ]
  },
  {
   "cell_type": "code",
   "execution_count": 14,
   "metadata": {},
   "outputs": [
    {
     "data": {
      "text/plain": [
       "2"
      ]
     },
     "execution_count": 14,
     "metadata": {},
     "output_type": "execute_result"
    }
   ],
   "source": [
    "# 100 /100\n",
    "\n",
    "def solution(n, lost, reserve):\n",
    "    answer = 0\n",
    "    flag = [False for i in range(n+1)]\n",
    "    lend = [False for i in range(n+1)] #빌려줄 수 있는 사람\n",
    "    reserve.sort()\n",
    "    for r in range(1, n+1):\n",
    "        if r in lost and r in reserve:\n",
    "            flag[r] = True\n",
    "        if r not in lost:\n",
    "            flag[r] = True\n",
    "        if r in reserve and r not in lost:\n",
    "            lend[r] = True\n",
    "            \n",
    "    for i in range(1, n+1):\n",
    "        if i-1>= 1 and flag[i] == False and lend[i-1] == True:\n",
    "            flag[i] = True\n",
    "            lend[i-1] = False\n",
    "        if i+1<= n and flag[i] == False and lend[i+1] == True:\n",
    "            flag[i] = True\n",
    "            lend[i+1] = False\n",
    "    answer = flag.count(True)\n",
    "    return answer\n",
    "\n",
    "n = 3\n",
    "lost = [3]\n",
    "reserve = [1]\n",
    "solution(n, lost, reserve)"
   ]
  },
  {
   "cell_type": "code",
   "execution_count": null,
   "metadata": {},
   "outputs": [],
   "source": []
  }
 ],
 "metadata": {
  "kernelspec": {
   "display_name": "py1",
   "language": "python",
   "name": "py1"
  },
  "language_info": {
   "codemirror_mode": {
    "name": "ipython",
    "version": 3
   },
   "file_extension": ".py",
   "mimetype": "text/x-python",
   "name": "python",
   "nbconvert_exporter": "python",
   "pygments_lexer": "ipython3",
   "version": "3.6.10"
  }
 },
 "nbformat": 4,
 "nbformat_minor": 2
}

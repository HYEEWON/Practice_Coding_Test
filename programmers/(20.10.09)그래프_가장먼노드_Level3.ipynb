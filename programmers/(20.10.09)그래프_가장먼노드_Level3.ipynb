{
 "cells": [
  {
   "cell_type": "code",
   "execution_count": null,
   "metadata": {},
   "outputs": [],
   "source": [
    "### 그래프는 defaultdict(list)"
   ]
  },
  {
   "cell_type": "code",
   "execution_count": 4,
   "metadata": {},
   "outputs": [
    {
     "name": "stdout",
     "output_type": "stream",
     "text": [
      "[0, 0, 1, 1, 2, 2, 2]\n"
     ]
    },
    {
     "data": {
      "text/plain": [
       "3"
      ]
     },
     "execution_count": 4,
     "metadata": {},
     "output_type": "execute_result"
    }
   ],
   "source": [
    "# 66.7 / 100\n",
    "# 시간초과 있음\n",
    "from collections import deque\n",
    "\n",
    "def solution(n, vertex):\n",
    "    answer = 0\n",
    "    graph = [[0 for i in range(n+1)] for j in range(n+1)]\n",
    "    for i in vertex:\n",
    "        graph[i[0]][i[1]] = 1\n",
    "        graph[i[1]][i[0]] = 1\n",
    "    \n",
    "    q = deque([[1, 0]])\n",
    "    visit = [0 for i in range(n+1)]\n",
    "    loc = [0 for i in range(n+1)]\n",
    "    visit[1] = 1\n",
    "    while q:\n",
    "        v = q.popleft()\n",
    "        for i in range(1, n+1):\n",
    "            if graph[v[0]][i] == 1 and visit[i] == 0:\n",
    "                q.append([i, v[1]+1])\n",
    "                visit[i] = 1\n",
    "                loc[i] = v[1]+1\n",
    "    answer = loc.count(max(loc))\n",
    "    print(loc)\n",
    "    return answer\n",
    "\n",
    "n = 6\n",
    "vertex = [[3, 6], [4, 3], [3, 2], [1, 3], [1, 2], [2, 4], [5, 2]]\n",
    "solution(n, vertex)"
   ]
  },
  {
   "cell_type": "code",
   "execution_count": 8,
   "metadata": {},
   "outputs": [
    {
     "data": {
      "text/plain": [
       "3"
      ]
     },
     "execution_count": 8,
     "metadata": {},
     "output_type": "execute_result"
    }
   ],
   "source": [
    "# 66.7 / 100\n",
    "# 시간초과 있음\n",
    "from collections import deque\n",
    "\n",
    "def solution(n, vertex):\n",
    "    answer = 0\n",
    "    graph = [[0 for i in range(n+1)] for j in range(n+1)]\n",
    "    for i in vertex:\n",
    "        graph[i[0]][i[1]] = 1\n",
    "        graph[i[1]][i[0]] = 1\n",
    "    \n",
    "    q = deque([[1, 0]])\n",
    "    loc = [-1 for i in range(n+1)]\n",
    "    loc[1] = 0\n",
    "    while q:\n",
    "        v = q.popleft()\n",
    "        for i in range(1, n+1):\n",
    "            if graph[v[0]][i] == 1 and loc[i] == -1:\n",
    "                q.append([i, v[1]+1])\n",
    "                loc[i] = v[1]+1\n",
    "    answer = loc.count(max(loc))\n",
    "    return answer\n",
    "\n",
    "n = 6\n",
    "vertex = [[3, 6], [4, 3], [3, 2], [1, 3], [1, 2], [2, 4], [5, 2]]\n",
    "solution(n, vertex)"
   ]
  },
  {
   "cell_type": "code",
   "execution_count": 14,
   "metadata": {},
   "outputs": [
    {
     "data": {
      "text/plain": [
       "3"
      ]
     },
     "execution_count": 14,
     "metadata": {},
     "output_type": "execute_result"
    }
   ],
   "source": [
    "# 100 / 100\n",
    "\n",
    "from collections import deque\n",
    "from collections import defaultdict\n",
    "\n",
    "def solution(n, vertex):\n",
    "    graph = defaultdict(list)\n",
    "    for i in vertex:\n",
    "        graph[i[0]].append(i[1])\n",
    "        graph[i[1]].append(i[0])\n",
    "\n",
    "    q = deque([[1, 0]])\n",
    "    loc = [-1 for i in range(n+1)]\n",
    "    loc[1] = 0\n",
    "    while q:\n",
    "        v = q.popleft()\n",
    "        for i in graph[v[0]]:\n",
    "            if loc[i] == -1:\n",
    "                q.append([i, v[1]+1])\n",
    "                loc[i] = v[1]+1\n",
    "    answer = loc.count(max(loc))\n",
    "    return answer\n",
    "\n",
    "n = 6\n",
    "vertex = [[3, 6], [4, 3], [3, 2], [1, 3], [1, 2], [2, 4], [5, 2]]\n",
    "solution(n, vertex)"
   ]
  }
 ],
 "metadata": {
  "kernelspec": {
   "display_name": "py1",
   "language": "python",
   "name": "py1"
  },
  "language_info": {
   "codemirror_mode": {
    "name": "ipython",
    "version": 3
   },
   "file_extension": ".py",
   "mimetype": "text/x-python",
   "name": "python",
   "nbconvert_exporter": "python",
   "pygments_lexer": "ipython3",
   "version": "3.6.10"
  }
 },
 "nbformat": 4,
 "nbformat_minor": 2
}

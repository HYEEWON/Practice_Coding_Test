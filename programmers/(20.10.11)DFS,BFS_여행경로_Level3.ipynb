{
 "cells": [
  {
   "cell_type": "markdown",
   "metadata": {},
   "source": [
    "## DFS"
   ]
  },
  {
   "cell_type": "code",
   "execution_count": 28,
   "metadata": {},
   "outputs": [
    {
     "data": {
      "text/plain": [
       "['ICN', 'ATL', 'ICN', 'SFO', 'ATL', 'SFO']"
      ]
     },
     "execution_count": 28,
     "metadata": {},
     "output_type": "execute_result"
    }
   ],
   "source": [
    "# 3/4\n",
    "\n",
    "from collections import deque, defaultdict\n",
    "import copy\n",
    "\n",
    "ans = []\n",
    "answer = ['ZZZ']\n",
    "def dfs(node, road, visit):\n",
    "    global answer, ans\n",
    "    if list(visit.values()).count(False) == 0:\n",
    "        if ans < answer:\n",
    "            answer = copy.deepcopy(ans)\n",
    "        return\n",
    "    \n",
    "    for city in road[node]:\n",
    "        if visit[node+city] == False:\n",
    "            visit[node+city] = True\n",
    "            ans.append(city)\n",
    "            dfs(city, road, visit)\n",
    "            visit[node+city] = False\n",
    "            ans.pop()\n",
    "\n",
    "def solution(tickets):\n",
    "    global answer, ans\n",
    "    road = defaultdict(list)\n",
    "    visit = defaultdict(bool)\n",
    "    for i in range(len(tickets)):\n",
    "        road[tickets[i][0]].append(tickets[i][1])\n",
    "        visit[tickets[i][0]+tickets[i][1]]\n",
    "    ans.append('ICN')\n",
    "    dfs('ICN', road, visit)\n",
    "    return answer\n",
    "\n",
    "#tickets = [['ICN', 'JFK'], ['HND', 'IAD'], ['JFK', 'HND']]\n",
    "tickets = [['ICN', 'SFO'], ['ICN', 'ATL'], ['SFO', 'ATL'], ['ATL', 'ICN'], ['ATL', 'SFO']]\n",
    "solution(tickets)"
   ]
  },
  {
   "cell_type": "code",
   "execution_count": 40,
   "metadata": {},
   "outputs": [
    {
     "data": {
      "text/plain": [
       "['ICN', 'ATL', 'ICN', 'SFO', 'ATL', 'SFO']"
      ]
     },
     "execution_count": 40,
     "metadata": {},
     "output_type": "execute_result"
    }
   ],
   "source": [
    "# 4/4\n",
    "\n",
    "from collections import deque, defaultdict\n",
    "import copy\n",
    "\n",
    "ans = []\n",
    "answer = ['ZZZ']\n",
    "def dfs(node, cnt, road, visit, tickets):\n",
    "    global answer, ans\n",
    "    if len(tickets) == 0:\n",
    "        if ans < answer:\n",
    "            answer = copy.deepcopy(ans)\n",
    "        return\n",
    "    \n",
    "    for city in road[node]:\n",
    "        v = [node, city]\n",
    "        if v in tickets:\n",
    "            ans.append(city)\n",
    "            tickets.remove(v)\n",
    "            dfs(city, cnt+1, road, visit, tickets)           \n",
    "            tickets.append(v)\n",
    "            ans.pop()\n",
    "\n",
    "def solution(tickets):\n",
    "    global answer, ans\n",
    "    road = defaultdict(list)\n",
    "    visit = [False for i in range(len(tickets))]\n",
    "    for i in range(len(tickets)):\n",
    "        road[tickets[i][0]].append(tickets[i][1])\n",
    "        \n",
    "    ans.append('ICN')\n",
    "    dfs('ICN', 0, road, visit, tickets)\n",
    "    return answer\n",
    "\n",
    "#tickets = [['ICN', 'JFK'], ['HND', 'IAD'], ['JFK', 'HND']]\n",
    "tickets = [['ICN', 'SFO'], ['ICN', 'ATL'], ['SFO', 'ATL'], ['ATL', 'ICN'], ['ATL', 'SFO']]\n",
    "solution(tickets)"
   ]
  },
  {
   "cell_type": "markdown",
   "metadata": {},
   "source": [
    "### 다른 사람 풀이"
   ]
  },
  {
   "cell_type": "code",
   "execution_count": 46,
   "metadata": {},
   "outputs": [
    {
     "data": {
      "text/plain": [
       "['ICN', 'ATL', 'ICN', 'SFO', 'ATL', 'SFO']"
      ]
     },
     "execution_count": 46,
     "metadata": {},
     "output_type": "execute_result"
    }
   ],
   "source": [
    "from collections import defaultdict \n",
    "\n",
    "def dfs(graph, N, key, footprint):\n",
    "    if len(footprint) == N + 1:\n",
    "        return footprint\n",
    "\n",
    "    for idx, country in enumerate(graph[key]):\n",
    "        graph[key].pop(idx)\n",
    "\n",
    "        tmp = footprint[:]\n",
    "        tmp.append(country)\n",
    "\n",
    "        ret = dfs(graph, N, country, tmp)\n",
    "\n",
    "        graph[key].insert(idx, country)\n",
    "\n",
    "        if ret:\n",
    "            return ret\n",
    "\n",
    "\n",
    "def solution(tickets):\n",
    "    answer = []\n",
    "\n",
    "    graph = defaultdict(list)\n",
    "\n",
    "    N = len(tickets)\n",
    "    for ticket in tickets:\n",
    "        graph[ticket[0]].append(ticket[1])\n",
    "        graph[ticket[0]].sort()\n",
    "    answer = dfs(graph, N, \"ICN\", [\"ICN\"])\n",
    "\n",
    "    return answer\n",
    "\n",
    "#tickets = [['ICN', 'JFK'], ['HND', 'IAD'], ['JFK', 'HND']]\n",
    "tickets = [['ICN', 'SFO'], ['ICN', 'ATL'], ['SFO', 'ATL'], ['ATL', 'ICN'], ['ATL', 'SFO']]\n",
    "solution(tickets)"
   ]
  },
  {
   "cell_type": "code",
   "execution_count": 56,
   "metadata": {},
   "outputs": [
    {
     "data": {
      "text/plain": [
       "['ICN', 'ATL', 'ICN', 'SFO', 'ATL', 'SFO']"
      ]
     },
     "execution_count": 56,
     "metadata": {},
     "output_type": "execute_result"
    }
   ],
   "source": [
    "# 4/4\n",
    "\n",
    "from collections import deque, defaultdict\n",
    "import copy\n",
    "\n",
    "ans = []\n",
    "def dfs(node, road, N):\n",
    "    global ans\n",
    "    if len(ans) == N+1:\n",
    "        return ans\n",
    "    \n",
    "    for idx, city in enumerate(road[node]):    \n",
    "        ans.append(city)\n",
    "        road[node].pop(idx)\n",
    "        ret = dfs(city, road, N)           \n",
    "        road[node].insert(idx, city)\n",
    "        if ret:\n",
    "            return ret\n",
    "        ans.pop()\n",
    "\n",
    "def solution(tickets):\n",
    "    global ans\n",
    "    road = defaultdict(list)\n",
    "    for i in range(len(tickets)):\n",
    "        road[tickets[i][0]].append(tickets[i][1])\n",
    "        road[tickets[i][0]].sort() # 알파벳이 작은 것 부터\n",
    "        \n",
    "    ans.append('ICN')\n",
    "    dfs('ICN', road, len(tickets))\n",
    "    return ans\n",
    "\n",
    "#tickets = [['ICN', 'JFK'], ['HND', 'IAD'], ['JFK', 'HND']]\n",
    "tickets = [['ICN', 'SFO'], ['ICN', 'ATL'], ['SFO', 'ATL'], ['ATL', 'ICN'], ['ATL', 'SFO']]\n",
    "solution(tickets)"
   ]
  },
  {
   "cell_type": "markdown",
   "metadata": {},
   "source": [
    "### 다른 사람 풀이"
   ]
  },
  {
   "cell_type": "code",
   "execution_count": 59,
   "metadata": {},
   "outputs": [
    {
     "name": "stdout",
     "output_type": "stream",
     "text": [
      "{'ICN': ['SFO', 'ATL'], 'SFO': ['ATL'], 'ATL': ['ICN', 'SFO']}\n"
     ]
    },
    {
     "data": {
      "text/plain": [
       "['ICN', 'ATL', 'ICN', 'SFO', 'ATL', 'SFO']"
      ]
     },
     "execution_count": 59,
     "metadata": {},
     "output_type": "execute_result"
    }
   ],
   "source": [
    "def solution(tickets):\n",
    "    routes = {}\n",
    "    for t in tickets:\n",
    "        routes[t[0]] = routes.get(t[0], []) + [t[1]]\n",
    "    print(routes)\n",
    "    for r in routes:\n",
    "        routes[r].sort(reverse=True)\n",
    "    stack = [\"ICN\"]\n",
    "    path = []\n",
    "    while len(stack) > 0:\n",
    "        top = stack[-1]\n",
    "        if top not in routes or len(routes[top]) == 0:\n",
    "            path.append(stack.pop())\n",
    "        else:\n",
    "            stack.append(routes[top][-1])\n",
    "            routes[top] = routes[top][:-1]\n",
    "    return path[::-1]\n",
    "\n",
    "#tickets = [['ICN', 'JFK'], ['HND', 'IAD'], ['JFK', 'HND']]\n",
    "tickets = [['ICN', 'SFO'], ['ICN', 'ATL'], ['SFO', 'ATL'], ['ATL', 'ICN'], ['ATL', 'SFO']]\n",
    "solution(tickets)"
   ]
  },
  {
   "cell_type": "code",
   "execution_count": null,
   "metadata": {},
   "outputs": [],
   "source": []
  }
 ],
 "metadata": {
  "kernelspec": {
   "display_name": "py1",
   "language": "python",
   "name": "py1"
  },
  "language_info": {
   "codemirror_mode": {
    "name": "ipython",
    "version": 3
   },
   "file_extension": ".py",
   "mimetype": "text/x-python",
   "name": "python",
   "nbconvert_exporter": "python",
   "pygments_lexer": "ipython3",
   "version": "3.6.10"
  }
 },
 "nbformat": 4,
 "nbformat_minor": 2
}

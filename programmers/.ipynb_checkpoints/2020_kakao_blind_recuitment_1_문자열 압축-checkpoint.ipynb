{
 "cells": [
  {
   "cell_type": "markdown",
   "metadata": {},
   "source": [
    "## 1: 문자열 압축"
   ]
  },
  {
   "cell_type": "code",
   "execution_count": 120,
   "metadata": {},
   "outputs": [
    {
     "name": "stdout",
     "output_type": "stream",
     "text": [
      "abcabccc\n",
      "8\n"
     ]
    }
   ],
   "source": [
    "s = input()\n",
    "print(len(s))"
   ]
  },
  {
   "cell_type": "code",
   "execution_count": 101,
   "metadata": {},
   "outputs": [
    {
     "name": "stdout",
     "output_type": "stream",
     "text": [
      "10\n"
     ]
    }
   ],
   "source": [
    "# 믄자열을 실제로 구함\n",
    "def solution(s):\n",
    "    answer = len(s)\n",
    "    for n in range(len(s)//2, 0, -1):\n",
    "        tmp = []\n",
    "        result = ''\n",
    "        for i in range(0, len(s), n):\n",
    "            tmp.append(s[i:i+n])\n",
    "        cnt = 1\n",
    "        for t in range(len(tmp)-1): \n",
    "            if tmp[t] == tmp[t+1]:\n",
    "                cnt += 1\n",
    "                if t+1 == len(tmp)-1:\n",
    "                    result += (str(cnt)+ tmp[t-1])\n",
    "            else: # if tmp[t] != tmp[t+1]:\n",
    "                if cnt > 1:\n",
    "                    result += (str(cnt)+ tmp[t-1])\n",
    "                    cnt = 1\n",
    "                else:\n",
    "                    result += tmp[t]\n",
    "                if t+1 == len(tmp)-1:\n",
    "                    result += tmp[t+1]\n",
    "                \n",
    "        if len(result) < answer:\n",
    "            answer = len(result)\n",
    "    return answer\n",
    "\n",
    "print(solution(s))"
   ]
  },
  {
   "cell_type": "code",
   "execution_count": 148,
   "metadata": {},
   "outputs": [
    {
     "name": "stdout",
     "output_type": "stream",
     "text": [
      "11\n"
     ]
    }
   ],
   "source": [
    "# 문자열을 구하지 않고 개수만 구함\n",
    "from collections import deque\n",
    "s = 'abcabcabcdssetss'\n",
    "def solution(s):\n",
    "    ans = set()\n",
    "    if len(s) <= 1:\n",
    "        return 1\n",
    "    for n in range(len(s)//2, 0, -1):\n",
    "        tmp = deque()\n",
    "        answer = 0\n",
    "        for i in range(0, len(s), n):\n",
    "            tmp.append(s[i:i+n])\n",
    "        #print(tmp)\n",
    "        cnt = 0\n",
    "        flag = False\n",
    "        while len(tmp) > 0:  \n",
    "            if tmp.popleft() == tmp[0]:\n",
    "                cnt += 1\n",
    "                flag = True\n",
    "                if len(tmp) <= 1:\n",
    "                    cnt += 1\n",
    "                    tmp.popleft()\n",
    "                    answer += (len(str(cnt)) +n)\n",
    "                    break\n",
    "            else:\n",
    "                if flag == True:\n",
    "                    answer += (len(str(cnt)) +n)\n",
    "                    flag = False\n",
    "                else:\n",
    "                    answer += n\n",
    "                if len(tmp) <= 1:\n",
    "                    answer += (len(tmp.popleft()))\n",
    "                    break\n",
    "           \n",
    "        ans.add(answer)\n",
    "        #print(ans)\n",
    "    return min(list(ans))\n",
    "\n",
    "print(solution(s))"
   ]
  },
  {
   "cell_type": "code",
   "execution_count": 150,
   "metadata": {},
   "outputs": [
    {
     "name": "stdout",
     "output_type": "stream",
     "text": [
      "7\n"
     ]
    }
   ],
   "source": [
    "# 문자열을 구함\n",
    "s = 'aabbaccc'\n",
    "def solution(s):\n",
    "    length = []\n",
    "    result = \"\"\n",
    "    \n",
    "    if len(s) == 1:\n",
    "        return 1\n",
    "    \n",
    "    for cut in range(1, len(s) // 2 + 1): \n",
    "        count = 1\n",
    "        tempStr = s[:cut] \n",
    "        for i in range(cut, len(s), cut):\n",
    "            if s[i:i+cut] == tempStr:\n",
    "                count += 1\n",
    "            else:\n",
    "                if count == 1:\n",
    "                    count = \"\"\n",
    "                result += str(count) + tempStr\n",
    "                tempStr = s[i:i+cut]\n",
    "                count = 1\n",
    "\n",
    "        if count == 1:\n",
    "            count = \"\"\n",
    "        result += str(count) + tempStr\n",
    "        length.append(len(result))\n",
    "        result = \"\"\n",
    "    \n",
    "    return min(length)\n",
    "\n",
    "print(solution(s))"
   ]
  },
  {
   "cell_type": "code",
   "execution_count": null,
   "metadata": {},
   "outputs": [],
   "source": [
    "def compress(text, tok_len):\n",
    "    words = [text[i:i+tok_len] for i in range(0, len(text), tok_len)]\n",
    "    res = []\n",
    "    cur_word = words[0]\n",
    "    cur_cnt = 1\n",
    "    for a, b in zip(words, words[1:] + ['']):\n",
    "        if a == b:\n",
    "            cur_cnt += 1\n",
    "        else:\n",
    "            res.append([cur_word, cur_cnt])\n",
    "            cur_word = b\n",
    "            cur_cnt = 1\n",
    "    return sum(len(word) + (len(str(cnt)) if cnt > 1 else 0) for word, cnt in res)\n",
    "\n",
    "def solution(text):\n",
    "    return min(compress(text, tok_len) for tok_len in list(range(1, int(len(text)/2) + 1)) + [len(text)])\n",
    "\n",
    "a = [\n",
    "    \"aabbaccc\",\n",
    "    \"ababcdcdababcdcd\",\n",
    "    \"abcabcdede\",\n",
    "    \"abcabcabcabcdededededede\",\n",
    "    \"xababcdcdababcdcd\",\n",
    "\n",
    "    'aaaaaa',\n",
    "]\n",
    "\n",
    "for x in a:\n",
    "    print(solution(x))"
   ]
  }
 ],
 "metadata": {
  "kernelspec": {
   "display_name": "py1",
   "language": "python",
   "name": "py1"
  },
  "language_info": {
   "codemirror_mode": {
    "name": "ipython",
    "version": 3
   },
   "file_extension": ".py",
   "mimetype": "text/x-python",
   "name": "python",
   "nbconvert_exporter": "python",
   "pygments_lexer": "ipython3",
   "version": "3.6.10"
  }
 },
 "nbformat": 4,
 "nbformat_minor": 2
}

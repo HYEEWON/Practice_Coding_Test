{
 "cells": [
  {
   "cell_type": "code",
   "execution_count": 118,
   "metadata": {},
   "outputs": [],
   "source": [
    "import copy\n",
    "\n",
    "def rot(key): #시계방향 회전\n",
    "    leng = len(key)\n",
    "    tmp = [[0 for i in range(leng)] for j in range(leng)]\n",
    "    for i in range(leng):\n",
    "        for j in range(leng):\n",
    "            tmp[j][leng-1-i] = key[i][j]\n",
    "    return tmp    \n",
    "\n",
    "def solution(key, lock):\n",
    "    answer = True\n",
    "    size = 1 + len(key) + len(lock) \n",
    "    N = len(lock)\n",
    "    M = len(key)\n",
    "    tmp_lock = [[0 for i in range(size)] for j in range(size)]\n",
    "    for i in range(size):\n",
    "        for j in range(size):\n",
    "            if i < M-1 or i >  size-M or j < len(key)-1 or j > size-M:\n",
    "                tmp_lock[i][j] = 0\n",
    "            else:\n",
    "                tmp_lock[i][j] = lock[i-(M-1)][j-(M-1)]\n",
    "                    \n",
    "    for it in range(4):\n",
    "        tot = (size-2)*(size-2)\n",
    "        for n in range(tot):\n",
    "            answer = True\n",
    "            lock = copy.deepcopy(tmp_lock)\n",
    "            for i in range(M)):\n",
    "                idx = n % (size-2)\n",
    "                for j in range(len(key)):\n",
    "                    lock[i+(n//(size-2))][j+idx] += key[i][j]\n",
    "            lock = lock[M-1:size-M+1]\n",
    "            for i in range(N):\n",
    "                line = lock[i][M-1:size-M+1]\n",
    "                if line.count(1) != N:\n",
    "                    answer = False\n",
    "                    break\n",
    "                else:\n",
    "                    if i== N-1:\n",
    "                        answer = True\n",
    "                        return answer\n",
    "        key = rot(key)\n",
    "    return answer"
   ]
  },
  {
   "cell_type": "code",
   "execution_count": 119,
   "metadata": {},
   "outputs": [
    {
     "name": "stdout",
     "output_type": "stream",
     "text": [
      "[[0, 1, 0], [1, 0, 0], [1, 0, 0]]\n",
      "[[1, 1, 0], [0, 0, 1], [0, 0, 0]]\n",
      "[[0, 0, 1], [0, 0, 1], [0, 1, 0]]\n",
      "True\n"
     ]
    }
   ],
   "source": [
    "key = [[0, 0, 0], [1, 0, 0], [0, 1, 1]]\n",
    "#lock = [[1, 1, 1, 1], [1, 1, 1, 1], [1, 1, 1, 0], [1, 1, 0, 1]]\n",
    "lock = [[1, 1, 0], [1, 1, 0], [1, 0, 1]]\n",
    "#rot(key)\n",
    "print(solution(key, lock))"
   ]
  },
  {
   "cell_type": "code",
   "execution_count": 27,
   "metadata": {},
   "outputs": [
    {
     "data": {
      "text/plain": [
       "2"
      ]
     },
     "execution_count": 27,
     "metadata": {},
     "output_type": "execute_result"
    }
   ],
   "source": [
    "8%6"
   ]
  },
  {
   "cell_type": "code",
   "execution_count": 74,
   "metadata": {},
   "outputs": [
    {
     "data": {
      "text/plain": [
       "1"
      ]
     },
     "execution_count": 74,
     "metadata": {},
     "output_type": "execute_result"
    }
   ],
   "source": [
    "1%5"
   ]
  },
  {
   "cell_type": "code",
   "execution_count": null,
   "metadata": {},
   "outputs": [],
   "source": []
  }
 ],
 "metadata": {
  "kernelspec": {
   "display_name": "py1",
   "language": "python",
   "name": "py1"
  },
  "language_info": {
   "codemirror_mode": {
    "name": "ipython",
    "version": 3
   },
   "file_extension": ".py",
   "mimetype": "text/x-python",
   "name": "python",
   "nbconvert_exporter": "python",
   "pygments_lexer": "ipython3",
   "version": "3.6.10"
  }
 },
 "nbformat": 4,
 "nbformat_minor": 2
}

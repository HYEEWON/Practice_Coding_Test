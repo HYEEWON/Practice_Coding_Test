{
 "cells": [
  {
   "cell_type": "code",
   "execution_count": 21,
   "metadata": {},
   "outputs": [
    {
     "name": "stdout",
     "output_type": "stream",
     "text": [
      "()(())()\n"
     ]
    }
   ],
   "source": [
    "def isbalance(u):\n",
    "    chk = 0\n",
    "    for c in u:\n",
    "        if c == '(':\n",
    "            chk += 1\n",
    "        elif c == ')':\n",
    "            chk -= 1\n",
    "    if chk == 0:\n",
    "        return True\n",
    "    else:\n",
    "        return False\n",
    "    \n",
    "def iscorrect(v):\n",
    "    st = []\n",
    "    st.append(v[0])\n",
    "    for i in range(1, len(v)):\n",
    "        if len(st) == 0 or st[-1] == ')' or (st[-1] == '(' and v[i] == '('):\n",
    "            st.append(v[i])\n",
    "        else:\n",
    "            st.pop()\n",
    "    if len(st) == 0:\n",
    "        return True\n",
    "    else:\n",
    "        return False\n",
    "\n",
    "def solution(p): #p: 균형잡힌 괄호 문자열\n",
    "    answer = ''\n",
    "    if len(p) == 0 or iscorrect(p): \n",
    "        return p\n",
    "    u = ''\n",
    "    v = ''\n",
    "    for i in range(2, len(p)+1, 2):\n",
    "        if isbalance(p[0:i]):\n",
    "            u = p[0:i]\n",
    "            v = p[i:]\n",
    "            break\n",
    "    \n",
    "    if iscorrect(u):\n",
    "        answer += u+solution(v)\n",
    "    else:\n",
    "        answer += '(' + solution(v) + ')'\n",
    "        for i in u[1:-1]:\n",
    "            if i == '(':\n",
    "                answer += ')'\n",
    "            else:\n",
    "                answer += '('\n",
    "    return answer\n",
    "\n",
    "print(solution('()))((()'))"
   ]
  },
  {
   "cell_type": "code",
   "execution_count": 13,
   "metadata": {},
   "outputs": [
    {
     "name": "stdout",
     "output_type": "stream",
     "text": [
      "()(())()\n"
     ]
    }
   ],
   "source": [
    "# 균형잡힌 괄호 문자열인지 체크하는 함수\n",
    "def isbalanced(s):\n",
    "    chk=0\n",
    "    for c in s:\n",
    "        if c=='(': chk+=1\n",
    "        elif c==')': chk-=1\n",
    "\n",
    "    if chk==0: return True\n",
    "    else: return False\n",
    "\n",
    "# 올바른 괄호 문자열인지 체크하는 함수\n",
    "def iscorrect(s):\n",
    "    stack=[]\n",
    "    stack.append(s[0])\n",
    "    for i in range(1,len(s)):\n",
    "        if len(stack)==0 or stack[-1]==')' or (stack[-1]=='(' and s[i]=='('):\n",
    "            stack.append(s[i])\n",
    "        else:\n",
    "            stack.pop()\n",
    "    if len(stack)==0: return True\n",
    "    else: return False\n",
    "\n",
    "\n",
    "def solution(p):\n",
    "    answer = ''\n",
    "    u=\"\"\n",
    "    v=\"\"\n",
    "    #빈 문자열이나 올바른 괄호 문자열은 그대로 반환\n",
    "    if len(p)==0 or iscorrect(p): return p\n",
    "\n",
    "    #u가 균형잡힌 괄호 문자열이 될 때까지 2개씩 추가해서 u,v 나누기\n",
    "    for i in range(2,len(p)+1,2):\n",
    "        if isbalanced(p[0:i]):\n",
    "            u=p[0:i]\n",
    "            v=p[i:len(p)]\n",
    "            break\n",
    "\n",
    "    if iscorrect(u):\n",
    "        #u가 올바른 괄호 문자열일 때\n",
    "        answer+=u+solution(v)\n",
    "    else:\n",
    "        #u가 올바른 괄호 문자열이 아닐 때\n",
    "        answer+='('+solution(v)+')'\n",
    "        for c in u[1:-1]:\n",
    "            if c=='(': answer+=')'\n",
    "            else: answer+='('\n",
    "\n",
    "    return answer\n",
    "print(solution('()))((()'))"
   ]
  },
  {
   "cell_type": "code",
   "execution_count": null,
   "metadata": {},
   "outputs": [],
   "source": []
  }
 ],
 "metadata": {
  "kernelspec": {
   "display_name": "py1",
   "language": "python",
   "name": "py1"
  },
  "language_info": {
   "codemirror_mode": {
    "name": "ipython",
    "version": 3
   },
   "file_extension": ".py",
   "mimetype": "text/x-python",
   "name": "python",
   "nbconvert_exporter": "python",
   "pygments_lexer": "ipython3",
   "version": "3.6.10"
  }
 },
 "nbformat": 4,
 "nbformat_minor": 2
}

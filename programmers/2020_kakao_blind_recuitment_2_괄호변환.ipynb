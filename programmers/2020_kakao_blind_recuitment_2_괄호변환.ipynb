{
 "cells": [
  {
   "cell_type": "code",
   "execution_count": 13,
   "metadata": {},
   "outputs": [
    {
     "name": "stdout",
     "output_type": "stream",
     "text": [
      "()(())()\n"
     ]
    }
   ],
   "source": [
    "# 균형잡힌 괄호 문자열인지 체크하는 함수\n",
    "def isbalanced(s):\n",
    "    chk=0\n",
    "    for c in s:\n",
    "        if c=='(': chk+=1\n",
    "        elif c==')': chk-=1\n",
    "\n",
    "    if chk==0: return True\n",
    "    else: return False\n",
    "\n",
    "# 올바른 괄호 문자열인지 체크하는 함수\n",
    "def iscorrect(s):\n",
    "    stack=[]\n",
    "    stack.append(s[0])\n",
    "    for i in range(1,len(s)):\n",
    "        if len(stack)==0 or stack[-1]==')' or (stack[-1]=='(' and s[i]=='('):\n",
    "            stack.append(s[i])\n",
    "        else:\n",
    "            stack.pop()\n",
    "    if len(stack)==0: return True\n",
    "    else: return False\n",
    "\n",
    "\n",
    "def solution(p): #p: 균형잡힌 괄호 문자열\n",
    "    answer = ''\n",
    "    u=\"\"\n",
    "    v=\"\"\n",
    "    #빈 문자열이나 올바른 괄호 문자열은 그대로 반환\n",
    "    if len(p)==0 or iscorrect(p): return p\n",
    "\n",
    "    #u가 균형잡힌 괄호 문자열이 될 때까지 2개씩 추가해서 u,v 나누기\n",
    "    for i in range(2,len(p)+1,2):\n",
    "        if isbalanced(p[0:i]):\n",
    "            u=p[0:i]\n",
    "            v=p[i:len(p)]\n",
    "            break\n",
    "\n",
    "    if iscorrect(u):\n",
    "        #u가 올바른 괄호 문자열일 때\n",
    "        answer+=u+solution(v)\n",
    "    else:\n",
    "        #u가 올바른 괄호 문자열이 아닐 때\n",
    "        answer+='('+solution(v)+')'\n",
    "        for c in u[1:-1]:\n",
    "            if c=='(': answer+=')'\n",
    "            else: answer+='('\n",
    "\n",
    "    return answer\n",
    "print(solution('()))((()'))"
   ]
  },
  {
   "cell_type": "code",
   "execution_count": 1,
   "metadata": {},
   "outputs": [],
   "source": [
    "import numpy as np"
   ]
  },
  {
   "cell_type": "code",
   "execution_count": 2,
   "metadata": {},
   "outputs": [],
   "source": [
    "import scipy as sp"
   ]
  },
  {
   "cell_type": "code",
   "execution_count": 3,
   "metadata": {},
   "outputs": [],
   "source": [
    "import sklearn as sk"
   ]
  },
  {
   "cell_type": "code",
   "execution_count": 4,
   "metadata": {},
   "outputs": [
    {
     "ename": "ModuleNotFoundError",
     "evalue": "No module named 'statsmodels'",
     "output_type": "error",
     "traceback": [
      "\u001b[1;31m---------------------------------------------------------------------------\u001b[0m",
      "\u001b[1;31mModuleNotFoundError\u001b[0m                       Traceback (most recent call last)",
      "\u001b[1;32m<ipython-input-4-a4673a3f56bb>\u001b[0m in \u001b[0;36m<module>\u001b[1;34m\u001b[0m\n\u001b[1;32m----> 1\u001b[1;33m \u001b[1;32mimport\u001b[0m \u001b[0mstatsmodels\u001b[0m \u001b[1;32mas\u001b[0m \u001b[0msm\u001b[0m\u001b[1;33m\u001b[0m\u001b[1;33m\u001b[0m\u001b[0m\n\u001b[0m",
      "\u001b[1;31mModuleNotFoundError\u001b[0m: No module named 'statsmodels'"
     ]
    }
   ],
   "source": [
    "import statsmodels as sm"
   ]
  },
  {
   "cell_type": "code",
   "execution_count": null,
   "metadata": {},
   "outputs": [],
   "source": []
  },
  {
   "cell_type": "code",
   "execution_count": null,
   "metadata": {},
   "outputs": [],
   "source": []
  },
  {
   "cell_type": "code",
   "execution_count": null,
   "metadata": {},
   "outputs": [],
   "source": []
  },
  {
   "cell_type": "code",
   "execution_count": null,
   "metadata": {},
   "outputs": [],
   "source": []
  },
  {
   "cell_type": "code",
   "execution_count": null,
   "metadata": {},
   "outputs": [],
   "source": []
  },
  {
   "cell_type": "code",
   "execution_count": null,
   "metadata": {},
   "outputs": [],
   "source": []
  },
  {
   "cell_type": "code",
   "execution_count": null,
   "metadata": {},
   "outputs": [],
   "source": []
  },
  {
   "cell_type": "code",
   "execution_count": null,
   "metadata": {},
   "outputs": [],
   "source": []
  }
 ],
 "metadata": {
  "kernelspec": {
   "display_name": "py1",
   "language": "python",
   "name": "py1"
  },
  "language_info": {
   "codemirror_mode": {
    "name": "ipython",
    "version": 3
   },
   "file_extension": ".py",
   "mimetype": "text/x-python",
   "name": "python",
   "nbconvert_exporter": "python",
   "pygments_lexer": "ipython3",
   "version": "3.6.10"
  }
 },
 "nbformat": 4,
 "nbformat_minor": 2
}

{
 "cells": [
  {
   "cell_type": "code",
   "execution_count": 67,
   "metadata": {},
   "outputs": [],
   "source": [
    "#런타임에러 다수 발생 17/100\n",
    "import copy\n",
    "\n",
    "def rot(key): #시계방향 회전\n",
    "    leng = len(key)\n",
    "    tmp = [[0 for i in range(leng)] for j in range(leng)]\n",
    "    for i in range(leng):\n",
    "        for j in range(leng):\n",
    "            tmp[j][leng-1-i] = key[i][j]\n",
    "    return tmp    \n",
    "\n",
    "def solution(key, lock):\n",
    "    answer = False\n",
    "    size = (len(key)-1)*2 + len(lock)\n",
    "    N = len(lock)\n",
    "    M = len(key)\n",
    "    tmp_lock = [[0 for i in range(size)] for j in range(size)]\n",
    "    for i in range(size):\n",
    "        for j in range(size):\n",
    "            if i < M-1 or i >  size-M or j < len(key)-1 or j > size-M:\n",
    "                tmp_lock[i][j] = 3\n",
    "            else:\n",
    "                tmp_lock[i][j] = lock[i-(M-1)][j-(M-1)]\n",
    "                    \n",
    "    for it in range(4):\n",
    "        tot = (size-2)*(size-2)\n",
    "        for n in range(tot):\n",
    "            answer = False\n",
    "            lock = copy.deepcopy(tmp_lock)\n",
    "            for i in range(M):\n",
    "                idx = n % (size-2)\n",
    "                for j in range(len(key)):\n",
    "                    lock[i+(n//(size-2))][j+idx] += key[i][j]\n",
    "            lock = lock[M-1:size-M+1]\n",
    "            for i in range(N):\n",
    "                line = lock[i][M-1:size-M+1]\n",
    "                if line.count(1) != N:\n",
    "                    answer = False\n",
    "                    break\n",
    "                else:\n",
    "                    if i== N-1:\n",
    "                        answer = True\n",
    "                        return answer\n",
    "        key = rot(key)\n",
    "    return answer"
   ]
  },
  {
   "cell_type": "code",
   "execution_count": 68,
   "metadata": {},
   "outputs": [
    {
     "name": "stdout",
     "output_type": "stream",
     "text": [
      "True\n"
     ]
    }
   ],
   "source": [
    "key = [[0, 0, 0], [1, 0, 0], [0, 1, 1]]\n",
    "lock = [[1, 1, 1], [ 1, 1, 0], [1, 0, 1]]\n",
    "#lock = [[1, 1, 0], [1, 1, 0], [1, 0, 1]]\n",
    "#rot(key)\n",
    "print(solution(key, lock))"
   ]
  },
  {
   "cell_type": "code",
   "execution_count": 135,
   "metadata": {},
   "outputs": [],
   "source": [
    "#런타임에러 다수 발생 9/100\n",
    "import copy\n",
    "\n",
    "def rot(key): #시계방향 회전\n",
    "    leng = len(key)\n",
    "    tmp = [[0 for i in range(leng)] for j in range(leng)]\n",
    "    for i in range(leng):\n",
    "        for j in range(leng):\n",
    "            tmp[j][leng-1-i] = key[i][j]\n",
    "    return tmp    \n",
    "    \n",
    "def solution(key, lock):\n",
    "    answer = False\n",
    "    size = (len(key)-1)*2 + len(lock) \n",
    "\n",
    "    start = len(key)-1 #Lock의 시작\n",
    "    end = start + len(lock)\n",
    "    tmp_lock = [[0 for i in range(size)] for j in range(size)]\n",
    "    flag = []\n",
    "    for i in range(size):\n",
    "        for j in range(size):\n",
    "            if i < len(key)-1 or i >  size-len(key) or j < len(key)-1 or j > size-len(key):\n",
    "                tmp_lock[i][j] = 3\n",
    "            else:\n",
    "                tmp_lock[i][j] = lock[i-(len(key)-1)][j-(len(key)-1)]\n",
    "                if lock[i-(len(key)-1)][j-(len(key)-1)] == 0:\n",
    "                    flag.append([i, j])\n",
    "    lock = tmp_lock\n",
    "    \n",
    "    for it in range(4):\n",
    "        tot = (size-2)*(size-2)\n",
    "        for n in range(tot):\n",
    "            answer = True\n",
    "            for i in range(len(key)):\n",
    "                idx = n % (size-2)\n",
    "                for j in range(len(key)):\n",
    "                    if 3 > lock[i+(n//(size-2))][j+idx] + key[i][j] >= 2 or lock[i+(n//(size-2))][j+idx] + key[i][j] <= 0:\n",
    "                        answer = False\n",
    "                        break\n",
    "                    elif i in range(start, end) and j in range(start, end):\n",
    "                        if lock[i+(n//(size-2))][j+idx]==0 and key[i][j] == 1:\n",
    "                            flag.remove([i+(n//(size-2)), j+idx])\n",
    "                if answer == False:\n",
    "                    break\n",
    "            if answer == True and len(flag) == 0:\n",
    "                return answer\n",
    "            \n",
    "        key = rot(key)\n",
    "    return answer"
   ]
  },
  {
   "cell_type": "code",
   "execution_count": 136,
   "metadata": {},
   "outputs": [
    {
     "name": "stdout",
     "output_type": "stream",
     "text": [
      "True\n"
     ]
    }
   ],
   "source": [
    "key = [[0, 0, 0], [1, 0, 0], [0, 1, 1]]\n",
    "lock = [[1, 1, 1], [ 1, 1, 0], [1, 0, 1]]\n",
    "print(solution(key, lock))"
   ]
  },
  {
   "cell_type": "code",
   "execution_count": 119,
   "metadata": {},
   "outputs": [],
   "source": [
    "# 성공\n",
    "\n",
    "def rot(key): #시계방향 회전\n",
    "    leng = len(key)\n",
    "    tmp = [[0 for i in range(leng)] for j in range(leng)]\n",
    "    for i in range(leng):\n",
    "        for j in range(leng):\n",
    "            tmp[j][leng-1-i] = key[i][j]\n",
    "    return tmp   \n",
    "\n",
    "def solution(key, lock):\n",
    "    ex_len = (len(key)-1)*2 + len(lock)\n",
    "    start = len(key)-1 #Lock의 시작\n",
    "    end = start + len(lock)\n",
    "    answer = ''\n",
    "    for it in range(4):\n",
    "        for i in range(end):\n",
    "            for j in range(end):\n",
    "                answer = True\n",
    "                ex_lock = [[0 for i in range(ex_len)] for j in range(ex_len)]\n",
    "                for x in range(i, len(key)+i): #세로\n",
    "                    for y in range(j, len(key)+j): #가로\n",
    "                        ex_lock[x][y] += key[x-i][y-j]\n",
    "                for x in range(start, end):\n",
    "                    for y in range(start, end):\n",
    "                        ex_lock[x][y] += lock[x-start][y-end]\n",
    "                        if ex_lock[x][y] != 1:\n",
    "                            answer = False\n",
    "                            break\n",
    "                    if answer == False:\n",
    "                        break\n",
    "                if answer == True:\n",
    "                    return answer\n",
    "            \n",
    "        key = rot(key)\n",
    "    return answer"
   ]
  },
  {
   "cell_type": "code",
   "execution_count": 120,
   "metadata": {},
   "outputs": [
    {
     "name": "stdout",
     "output_type": "stream",
     "text": [
      "True\n"
     ]
    }
   ],
   "source": [
    "key = [[0, 0, 0], [1, 0, 0], [0, 1, 1]]\n",
    "lock = [[1, 1, 1], [ 1, 1, 0], [1, 0, 1]]\n",
    "print(solution(key, lock))"
   ]
  },
  {
   "cell_type": "code",
   "execution_count": 121,
   "metadata": {},
   "outputs": [],
   "source": [
    "# 성공\n",
    "\n",
    "def rot(key): #시계방향 회전\n",
    "    leng = len(key)\n",
    "    tmp = [[0 for i in range(leng)] for j in range(leng)]\n",
    "    for i in range(leng):\n",
    "        for j in range(leng):\n",
    "            tmp[j][leng-1-i] = key[i][j]\n",
    "    return tmp   \n",
    "\n",
    "def check(i, j, start, end, ex_len, lock, key):\n",
    "    ex_lock = [[0 for i in range(ex_len)] for j in range(ex_len)]\n",
    "    for x in range(i, len(key)+i): #세로\n",
    "        for y in range(j, len(key)+j): #가로\n",
    "            ex_lock[x][y] += key[x-i][y-j]\n",
    "    for x in range(start, end):\n",
    "        for y in range(start, end):\n",
    "            ex_lock[x][y] += lock[x-start][y-end]\n",
    "            if ex_lock[x][y] != 1:\n",
    "                return False\n",
    "    return True\n",
    "\n",
    "def solution(key, lock):\n",
    "    ex_len = (len(key)-1)*2 + len(lock)\n",
    "    start = len(key)-1 #Lock의 시작\n",
    "    end = start + len(lock) #Lock의 끝\n",
    "    for iters in range(4):\n",
    "        for i in range(end):\n",
    "            for j in range(end):\n",
    "                if check(i, j, start, end, ex_len, lock, key):\n",
    "                    return True\n",
    "        key = rot(key)\n",
    "    return False"
   ]
  },
  {
   "cell_type": "code",
   "execution_count": 122,
   "metadata": {},
   "outputs": [
    {
     "name": "stdout",
     "output_type": "stream",
     "text": [
      "True\n"
     ]
    }
   ],
   "source": [
    "key = [[0, 0, 0], [1, 0, 0], [0, 1, 1]]\n",
    "lock = [[1, 1, 1], [ 1, 1, 0], [1, 0, 1]]\n",
    "print(solution(key, lock))"
   ]
  }
 ],
 "metadata": {
  "kernelspec": {
   "display_name": "py1",
   "language": "python",
   "name": "py1"
  },
  "language_info": {
   "codemirror_mode": {
    "name": "ipython",
    "version": 3
   },
   "file_extension": ".py",
   "mimetype": "text/x-python",
   "name": "python",
   "nbconvert_exporter": "python",
   "pygments_lexer": "ipython3",
   "version": "3.6.10"
  }
 },
 "nbformat": 4,
 "nbformat_minor": 2
}

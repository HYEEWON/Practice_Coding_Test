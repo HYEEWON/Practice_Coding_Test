{
 "cells": [
  {
   "cell_type": "markdown",
   "metadata": {},
   "source": [
    "## 트라이 자료형을 사용해야 함\n",
    "1. 트라이는 트리 자료 구조의 일종\n",
    "2. 어떤 문자열을 검색하는 시간 복잡도는 O(m), m: 문자열의 최대 길이\n",
    "3. 문자열 검색에 특화된 자료 구조\n",
    "<br>\n",
    "![trie](https://user-images.githubusercontent.com/38900338/92983794-89cd3480-f4e0-11ea-96d1-ca4c901f4e8b.JPG)\n",
    "<br>\n",
    "4. 노드의 구성: 글자를 갖는 key(J, A 등) + 마지막 글자인지 알려주는 flag(Terminal)"
   ]
  },
  {
   "cell_type": "code",
   "execution_count": 46,
   "metadata": {},
   "outputs": [],
   "source": [
    "class Node(object):\n",
    "    def __init__(self, key, data=None): \n",
    "        self.key = key \n",
    "        self.data = data #마지막 글자일 경우: 단어 전체, 나머지일 경우: None\n",
    "        self.children = {}\n",
    "        \n",
    "class Trie(object):\n",
    "    def __init__(self): \n",
    "        self.head = Node(None)\n",
    "        \n",
    "    def insert(self, string): \n",
    "        curr_node = self.head \n",
    "        for char in string: \n",
    "            if char not in curr_node.children: \n",
    "                curr_node.children[char] = Node(char) \n",
    "                curr_node = curr_node.children[char]\n",
    "        curr_node.data = string\n",
    "        \n",
    "    def search(self, string): \n",
    "        curr_node = self.head \n",
    "        for char in string: \n",
    "            if char in curr_node.children: \n",
    "                curr_node = curr_node.children[char] \n",
    "            else: \n",
    "                return False\n",
    "        if (curr_node.data != None): \n",
    "            return True\n",
    "    \n",
    "    def starts_with(self, prefix): # prefix로 시작하는 단어를 BFS로 찾아 리스트로 반환\n",
    "        curr_node = self.head \n",
    "        result = [] \n",
    "        subtrie = None \n",
    "        for char in prefix: \n",
    "            if char in curr_node.children: \n",
    "                curr_node = curr_node.children[char] \n",
    "                subtrie = curr_node\n",
    "            else: \n",
    "                return None \n",
    "        queue = list(subtrie.children.values()) \n",
    "        while queue: \n",
    "            curr = queue.pop() \n",
    "            if curr.data != None: \n",
    "                result.append(curr.data) \n",
    "            queue += list(curr.children.values()) \n",
    "        return result"
   ]
  },
  {
   "cell_type": "code",
   "execution_count": 16,
   "metadata": {},
   "outputs": [
    {
     "data": {
      "text/plain": [
       "[3, 2, 4, 1, 0]"
      ]
     },
     "execution_count": 16,
     "metadata": {},
     "output_type": "execute_result"
    }
   ],
   "source": [
    "#정확성: 25.0 효율성: 30.0 합계: 55.0 / 100.0\n",
    "#런타임 에러 있음\n",
    "\n",
    "def solution(words, queries):\n",
    "    answer = []\n",
    "    for q in queries:\n",
    "        cnt = 0\n",
    "        if q[0] != '?':\n",
    "            tmp = q[:q.index('?')]\n",
    "            for w in words:\n",
    "                if w[:len(tmp)] == tmp and len(w) == len(q):\n",
    "                    cnt += 1\n",
    "        else:\n",
    "            start = 0\n",
    "            end = len(q) - 1\n",
    "            mid = 0\n",
    "            while start <= end:\n",
    "                mid = (start + end) // 2\n",
    "                if q[mid] == '?' and q[mid+1] != '?':\n",
    "                    mid = mid+1\n",
    "                    break\n",
    "                elif q[mid] != '?':\n",
    "                    end = mid -1\n",
    "                else:\n",
    "                    start = mid + 1\n",
    "            tmp = q[mid:]\n",
    "            for w in words:\n",
    "                if w[mid:] == tmp and len(w) == len(q):\n",
    "                    cnt += 1\n",
    "        answer.append(cnt)\n",
    "    return answer\n",
    "\n",
    "words = [\"frodo\", \"front\", \"frost\", \"frozen\", \"frame\", \"kakao\"]\n",
    "queries = [\"fro??\", \"????o\", \"fr???\", \"fro???\", \"pro?\"]\n",
    "solution(words, queries)"
   ]
  },
  {
   "cell_type": "code",
   "execution_count": 30,
   "metadata": {},
   "outputs": [
    {
     "data": {
      "text/plain": [
       "[3, 5, 4, 1, 0]"
      ]
     },
     "execution_count": 30,
     "metadata": {},
     "output_type": "execute_result"
    }
   ],
   "source": [
    "#정확성: 25.0 효율성: 30.0 합계: 55.0 / 100.0\n",
    "#런타임 에러 해결\n",
    "\n",
    "def solution(words, queries):\n",
    "    answer = []\n",
    "    for q in queries:\n",
    "        cnt = 0\n",
    "        if q.count('?') == len(q):\n",
    "            for w in words:\n",
    "                if len(w) == len(q):\n",
    "                    cnt += 1\n",
    "        elif q[0] != '?':\n",
    "            tmp = q.split('?')[0]\n",
    "            for w in words:\n",
    "                if w[:len(tmp)] == tmp and len(w) == len(q):\n",
    "                    cnt += 1\n",
    "        else: #처음시작이 '?'\n",
    "            start = 0\n",
    "            end = len(q) - 1\n",
    "            mid = 0\n",
    "            while start <= end:\n",
    "                mid = (start + end) // 2\n",
    "                if q[mid] == '?' and q[mid+1] != '?':\n",
    "                    mid = mid+1\n",
    "                    break\n",
    "                elif q[mid] != '?':\n",
    "                    end = mid -1\n",
    "                else:\n",
    "                    start = mid + 1\n",
    "            tmp = q[mid:]\n",
    "            for w in words:\n",
    "                if w[mid:] == tmp and len(w) == len(q):\n",
    "                    cnt += 1\n",
    "        answer.append(cnt)\n",
    "    return answer\n",
    "\n",
    "words = [\"frodo\", \"front\", \"frost\", \"frozen\", \"frame\", \"kakao\"]\n",
    "queries = [\"fro??\", \"?????\", \"fr???\", \"fro???\", \"pro?\"]\n",
    "solution(words, queries)"
   ]
  },
  {
   "cell_type": "code",
   "execution_count": 37,
   "metadata": {},
   "outputs": [
    {
     "data": {
      "text/plain": [
       "[3, 5, 4, 1, 0]"
      ]
     },
     "execution_count": 37,
     "metadata": {},
     "output_type": "execute_result"
    }
   ],
   "source": [
    "#정확성: 25.0 효율성: 30.0 합계: 55.0 / 100.0\n",
    "#시간초과 해결 안됨\n",
    "\n",
    "def solution(words, queries):\n",
    "    answer = []\n",
    "    for q in queries:\n",
    "        cnt = 0\n",
    "        if q[0] != '?':\n",
    "            tmp = q.split('?')[0]\n",
    "            for w in words:\n",
    "                if w[:len(tmp)] == tmp and len(w) == len(q):\n",
    "                    cnt += 1\n",
    "        else: #처음시작이 '?'\n",
    "            q = q[::-1] #문자열 뒤집기\n",
    "            tmp = q.split('?')[0]\n",
    "            for w in words:\n",
    "                w = w[::-1]\n",
    "                if w[:len(tmp)] == tmp and len(w) == len(q):\n",
    "                    cnt += 1\n",
    "        answer.append(cnt)\n",
    "    return answer\n",
    "\n",
    "words = [\"frodo\", \"front\", \"frost\", \"frozen\", \"frame\", \"kakao\"]\n",
    "queries = [\"fro??\", \"?????\", \"fr???\", \"fro???\", \"pro?\"]\n",
    "solution(words, queries)"
   ]
  },
  {
   "cell_type": "code",
   "execution_count": 28,
   "metadata": {},
   "outputs": [
    {
     "data": {
      "text/plain": [
       "[3, 5, 4, 1, 0]"
      ]
     },
     "execution_count": 28,
     "metadata": {},
     "output_type": "execute_result"
    }
   ],
   "source": [
    "#정확성: 25.0 효율성: 45.0 합계: 70.0 / 100.0\n",
    "#트라이 자료형 사용\n",
    "#시간이 중요할 땐, 메모리를 많이 사용\n",
    "\n",
    "from collections import defaultdict\n",
    "\n",
    "class Node:\n",
    "    def __init__(self, char, length = None, data=None): \n",
    "        self.char = char \n",
    "        self.data = None #마지막 글자일 경우: 단어 전체, 나머지일 경우: None\n",
    "        self.children = {}\n",
    "        self.length = defaultdict(int) # 초기값: 0\n",
    "        \n",
    "class Trie:\n",
    "    def __init__(self): \n",
    "        self.head = Node(None)\n",
    "        \n",
    "    def insert(self, string): \n",
    "        curr_node = self.head \n",
    "        curr_node.length[len(string)] += 1\n",
    "        for char in string: \n",
    "            if char not in curr_node.children: \n",
    "                curr_node.children[char] = Node(char) \n",
    "            curr_node.children[char].length[len(string)] += 1\n",
    "            curr_node = curr_node.children[char]\n",
    "        curr_node.data = string\n",
    "    \n",
    "    def starts_with(self, prefix, length): # prefix로 시작하는 단어를 BFS로 찾아 리스트로 반환\n",
    "        curr_node = self.head \n",
    "        for char in prefix: \n",
    "            if char in curr_node.children: \n",
    "                curr_node = curr_node.children[char] \n",
    "            else: \n",
    "                return 0 #단어 없음\n",
    "        return curr_node.length[length] #해당 노드를 거쳐간 문자열 중 길이가 length인 것의 개수 반환\n",
    "        \n",
    "    \n",
    "def solution(words, queries):\n",
    "    answer = []\n",
    "    trie = Trie()\n",
    "    rev_trie = Trie()\n",
    "    \n",
    "    for word in words:\n",
    "        trie.insert(word)\n",
    "        rev_trie.insert(word[::-1])\n",
    "        \n",
    "    for q in queries:\n",
    "        if q == '?'*len(q):#전체 '?'\n",
    "            answer.append(trie.head.length[len(q)])\n",
    "        elif q[0] == '?': #시작이 '?'\n",
    "            pre = q[::-1].split('?')[0]\n",
    "            answer.append(rev_trie.starts_with(pre, len(q)))\n",
    "        else:    \n",
    "            pre = q.split('?')[0]\n",
    "            answer.append(trie.starts_with(pre, len(q)))\n",
    "    return answer\n",
    "\n",
    "words = [\"frodo\", \"front\", \"frost\", \"frozen\", \"frame\", \"kakao\"]\n",
    "queries = [\"fro??\", \"?????\", \"fr???\", \"fro???\", \"pro?\"]\n",
    "solution(words, queries)"
   ]
  },
  {
   "cell_type": "code",
   "execution_count": 29,
   "metadata": {},
   "outputs": [
    {
     "data": {
      "text/plain": [
       "[3, 5, 4, 1, 0]"
      ]
     },
     "execution_count": 29,
     "metadata": {},
     "output_type": "execute_result"
    }
   ],
   "source": [
    "from collections import defaultdict\n",
    "\n",
    "\n",
    "def insert(trie, word):\n",
    "    curr = trie\n",
    "    while word:\n",
    "        s = word[0]\n",
    "        if s not in curr:\n",
    "            curr[s] = [0, {}]\n",
    "        curr[s][0] += 1\n",
    "        curr = curr[s][1]\n",
    "        word = word[1:]\n",
    "\n",
    "\n",
    "def find(trie, query):\n",
    "    v = 0\n",
    "    curr = trie\n",
    "    if len(trie) == 0:\n",
    "        return 0\n",
    "    \n",
    "    while query:\n",
    "        if query[0] == \"?\":\n",
    "            return v\n",
    "        else:\n",
    "            if query[0] not in curr:\n",
    "                return 0\n",
    "            v = curr[query[0]][0]\n",
    "            curr = curr[query[0]][1]\n",
    "        query = query[1:]\n",
    "    return v\n",
    "\n",
    "\n",
    "def solution(words, queries):\n",
    "    ans = []\n",
    "    trie = defaultdict(dict)\n",
    "    rev_trie = defaultdict(dict)\n",
    "    len_dict = defaultdict(int)\n",
    "\n",
    "    for word in words:\n",
    "        insert(trie[len(word)], word)\n",
    "        insert(rev_trie[len(word)], word[::-1])\n",
    "        len_dict[len(word)] += 1\n",
    "\n",
    "    for q in queries:\n",
    "        lq = len(q)\n",
    "        if q[0] == \"?\" and q[-1] == \"?\":\n",
    "            ans.append(len_dict[lq])\n",
    "        elif q[-1] == \"?\":\n",
    "            ans.append(find(trie[lq], q))\n",
    "        elif q[0] == \"?\":\n",
    "            ans.append(find(rev_trie[lq], q[::-1]))\n",
    "\n",
    "    return ans\n",
    "\n",
    "words = [\"frodo\", \"front\", \"frost\", \"frozen\", \"frame\", \"kakao\"]\n",
    "queries = [\"fro??\", \"?????\", \"fr???\", \"fro???\", \"pro?\"]\n",
    "solution(words, queries)"
   ]
  },
  {
   "cell_type": "code",
   "execution_count": null,
   "metadata": {},
   "outputs": [],
   "source": []
  }
 ],
 "metadata": {
  "kernelspec": {
   "display_name": "py1",
   "language": "python",
   "name": "py1"
  },
  "language_info": {
   "codemirror_mode": {
    "name": "ipython",
    "version": 3
   },
   "file_extension": ".py",
   "mimetype": "text/x-python",
   "name": "python",
   "nbconvert_exporter": "python",
   "pygments_lexer": "ipython3",
   "version": "3.6.10"
  }
 },
 "nbformat": 4,
 "nbformat_minor": 2
}

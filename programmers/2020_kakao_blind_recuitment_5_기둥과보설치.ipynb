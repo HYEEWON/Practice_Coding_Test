{
 "cells": [
  {
   "cell_type": "code",
   "execution_count": 65,
   "metadata": {},
   "outputs": [],
   "source": [
    "# 하드 코딩 9.6\n",
    "def solution(n, build_frame):\n",
    "    wall = [[[-1, -1, -1, -1] for i in range(n+1)] for j in range(n+1)]\n",
    "    answer = []\n",
    "    for act in build_frame:\n",
    "        #print('act: ', act)\n",
    "        if act[2] == 0 and act[3] == 1: #기둥 설치\n",
    "            if act[1] == 0 or wall[act[1]][act[0]][1] == 0 or wall[act[1]][act[0]][2] == 1 or wall[act[1]][act[0]][3] == 1:\n",
    "                wall[act[1]][act[0]][0] = 0\n",
    "                wall[act[1]+1][act[0]][1] = 0\n",
    "                answer.append([act[0], act[1], 0])\n",
    "                #print(answer)\n",
    "        elif act[2] == 0 and act[3] == 0: #기둥 삭제\n",
    "            if (wall[act[1]][act[0]][3] == 1 and wall[act[1]][act[0]+1][1] != 0) or (wall[act[1]][act[0]][3] == 1 and wall[act[1]][act[0]-1][1] != 0): #or (wall[act[1]][act[0]+1][3] == 1 and wall[act[1]][act[0]+2][2] == 1 and wall[act[1]][act[0]+1][1] != 0 and wall[act[1]][act[0]+2][1] != 0) or (wall[act[1]][act[0]-2][3] == 1 and wall[act[1]][act[0]-1][2] == 1 and wall[act[1]][act[0]-2][1] != 0 and wall[act[1]][act[0]-1][1] != 0):\n",
    "                continue\n",
    "            wall[act[1]][act[0]][0] = -1\n",
    "            wall[act[1]+1][act[0]][1] = -1\n",
    "            answer.remove([act[0], act[1], 0])\n",
    "        elif act[2] == 1 and act[3] == 1: #보 설치\n",
    "            if wall[act[1]][act[0]][1] == 0 or wall[act[1]][act[0]+1][1] == 0 or (wall[act[1]][act[0]][2] == 1 and wall[act[1]][act[0]+1][3] == 1):\n",
    "                wall[act[1]][act[0]][3] = 1\n",
    "                wall[act[1]][act[0]+1][2] = 1\n",
    "                answer.append([act[0], act[1], 1])\n",
    "                #print(answer)\n",
    "        elif act[2] == 1 and act[3] == 0: #보 삭제\n",
    "            if (wall[act[1]][act[0]+1][3] == 1 and wall[act[1]][act[0]+2][2] == 1 and wall[act[1]][act[0]+1][1] != 0 and wall[act[1]][act[0]+2][1] != 0) or (wall[act[1]][act[0]-2][3] == 1 and wall[act[1]][act[0]-1][2] == 1 and wall[act[1]][act[0]-2][1] != 0 and wall[act[1]][act[0]-1][1] != 0):\n",
    "                continue\n",
    "            wall[act[1]][act[0]][3] = -1\n",
    "            wall[act[1]][act[0]+1][2] = -1\n",
    "            answer.remove([act[0], act[1], 1])\n",
    "    answer.sort(key = lambda x: (x[0], x[1]))\n",
    "    return answer"
   ]
  },
  {
   "cell_type": "code",
   "execution_count": 66,
   "metadata": {},
   "outputs": [
    {
     "data": {
      "text/plain": [
       "[[0, 0, 0], [0, 1, 1], [1, 1, 1], [2, 1, 1], [3, 1, 1], [4, 0, 0]]"
      ]
     },
     "execution_count": 66,
     "metadata": {},
     "output_type": "execute_result"
    }
   ],
   "source": [
    "n = 5\n",
    "#가로, 세로, 기둥0 + 보1, 설치여부 \n",
    "build_frame = [[1,0,0,1],[1,1,1,1],[2,1,0,1],[2,2,1,1],[5,0,0,1],[5,1,0,1],[4,2,1,1],[3,2,1,1]]\n",
    "build_frame = [[0,0,0,1],[2,0,0,1],[4,0,0,1],[0,1,1,1],[1,1,1,1],[2,1,1,1],[3,1,1,1],[2,0,0,0], [1,1,1,0],[2,2,0,1]]\n",
    "result = [[1,0,0],[1,1,1],[2,1,0],[2,2,1],[3,2,1],[4,2,1],[5,0,0],[5,1,0]]\n",
    "solution(n, build_frame)"
   ]
  },
  {
   "cell_type": "code",
   "execution_count": 67,
   "metadata": {},
   "outputs": [],
   "source": [
    "#성공 100\n",
    "def check(ans):\n",
    "    for x, y, what in ans:\n",
    "        if what == 0:\n",
    "            if y == 0 or [x-1, y, 1] in ans or [x, y, 1] in ans or [x, y-1, 0] in ans:\n",
    "                continue\n",
    "            else:\n",
    "                return False\n",
    "        elif what == 1:\n",
    "            if [x, y-1, 0] in ans or [x+1, y-1, 0] in ans or ([x-1, y, 1] in ans and [x+1, y, 1] in ans):\n",
    "                continue\n",
    "            else:\n",
    "                return False\n",
    "    return True\n",
    "\n",
    "\n",
    "def solution(n, build_frame):\n",
    "    answer = []\n",
    "\n",
    "    for f in build_frame:\n",
    "        x, y, what, how = f\n",
    "\n",
    "        if how == 1:  # 설치\n",
    "            answer.append([x, y, what])\n",
    "            if check(answer) is False:\n",
    "                answer.remove([x, y, what])\n",
    "        else:  # 삭제\n",
    "            answer.remove([x, y, what])\n",
    "            if check(answer) is False:\n",
    "                answer.append([x, y, what])\n",
    "\n",
    "    answer.sort()\n",
    "    return answer"
   ]
  },
  {
   "cell_type": "code",
   "execution_count": 69,
   "metadata": {},
   "outputs": [
    {
     "name": "stdout",
     "output_type": "stream",
     "text": [
      "1 0 0\n",
      "1 1 1\n",
      "2 1 0\n",
      "2 2 1\n",
      "3 2 1\n",
      "4 2 1\n",
      "5 0 0\n",
      "5 1 0\n"
     ]
    }
   ],
   "source": [
    "ans = [[1,0,0],[1,1,1],[2,1,0],[2,2,1],[3,2,1],[4,2,1],[5,0,0],[5,1,0]]\n",
    "check(ans)"
   ]
  },
  {
   "cell_type": "code",
   "execution_count": null,
   "metadata": {},
   "outputs": [],
   "source": []
  },
  {
   "cell_type": "code",
   "execution_count": null,
   "metadata": {},
   "outputs": [],
   "source": []
  },
  {
   "cell_type": "code",
   "execution_count": null,
   "metadata": {},
   "outputs": [],
   "source": []
  },
  {
   "cell_type": "code",
   "execution_count": null,
   "metadata": {},
   "outputs": [],
   "source": []
  },
  {
   "cell_type": "code",
   "execution_count": null,
   "metadata": {},
   "outputs": [],
   "source": []
  },
  {
   "cell_type": "code",
   "execution_count": null,
   "metadata": {},
   "outputs": [],
   "source": []
  }
 ],
 "metadata": {
  "kernelspec": {
   "display_name": "py1",
   "language": "python",
   "name": "py1"
  },
  "language_info": {
   "codemirror_mode": {
    "name": "ipython",
    "version": 3
   },
   "file_extension": ".py",
   "mimetype": "text/x-python",
   "name": "python",
   "nbconvert_exporter": "python",
   "pygments_lexer": "ipython3",
   "version": "3.6.10"
  }
 },
 "nbformat": 4,
 "nbformat_minor": 2
}

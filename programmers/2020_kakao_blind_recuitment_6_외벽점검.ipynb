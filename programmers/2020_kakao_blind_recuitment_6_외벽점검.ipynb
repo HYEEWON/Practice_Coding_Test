{
 "cells": [
  {
   "cell_type": "markdown",
   "metadata": {},
   "source": [
    "##### 완전 탐색 문제\n",
    "순열 사용<br>\n",
    "itertools 의 permutations 사용"
   ]
  },
  {
   "cell_type": "code",
   "execution_count": 146,
   "metadata": {},
   "outputs": [],
   "source": [
    "# 52/100\n",
    "import itertools\n",
    "\n",
    "weaks = []\n",
    "def make_weaks(n, weak):\n",
    "    weaks.append(weak)\n",
    "    for w in range(1, len(weak)):\n",
    "        temp = []\n",
    "        for i in range(w, len(weak)):\n",
    "            temp.append(weak[i])\n",
    "        for i in range(w):\n",
    "            temp.append(weak[i]+n)\n",
    "        weaks.append(temp)\n",
    "\n",
    "def check(w, pos):\n",
    "    for i in range(len(w)-1, 0, -1):\n",
    "        if w[i-1] <= pos < w[i]:\n",
    "            pos = w[i]\n",
    "        return pos\n",
    "\n",
    "def solution(n, weak, dist):\n",
    "    answer = len(dist) + 1\n",
    "    make_weaks(n, weak)\n",
    "    dist.sort(reverse = True)\n",
    "\n",
    "    for w in weaks:\n",
    "        for n in range(1, len(dist)+1): #n: 사람 수\n",
    "            per = list(itertools.permutations(dist, n))\n",
    "            for i in range(len(per)):\n",
    "                pos = w[0]\n",
    "                for j in range(n):\n",
    "                    pos += per[i][j]\n",
    "                    pos = check(w, pos)\n",
    "                if pos >= w[-1]:\n",
    "                    answer = min(answer, n)\n",
    "    if answer > len(dist):\n",
    "        return -1\n",
    "    return answer"
   ]
  },
  {
   "cell_type": "code",
   "execution_count": 147,
   "metadata": {},
   "outputs": [],
   "source": [
    "# 72/100\n",
    "# 이유: for문 안에서 i를 두번 씀..\n",
    "import itertools\n",
    "\n",
    "weaks = []\n",
    "def make_weaks(n, weak):\n",
    "    weaks.append(weak)\n",
    "    for w in range(1, len(weak)):\n",
    "        temp = []\n",
    "        for i in range(w, len(weak)):\n",
    "            temp.append(weak[i])\n",
    "        for i in range(w):\n",
    "            temp.append(weak[i]+n)\n",
    "        weaks.append(temp)\n",
    "\n",
    "def solution(n, weak, dist):\n",
    "    answer = len(dist) + 1\n",
    "    make_weaks(n, weak)\n",
    "    dist.sort(reverse = True)\n",
    "    for n in range(1, len(dist)+1): #n: 사람 수\n",
    "        per = list(itertools.permutations(dist, n))\n",
    "        for w in weaks:\n",
    "            for i in range(len(per)):\n",
    "                pos = w[0]\n",
    "                for j in range(n):\n",
    "                    pos += per[i][j]\n",
    "                    if j == n-1 and pos >= w[-1]:\n",
    "                        return n\n",
    "                    for i in range(1, len(w)):\n",
    "                        if w[i-1] <= pos < w[i]:\n",
    "                            pos = w[i]\n",
    "                            break\n",
    "    return -1"
   ]
  },
  {
   "cell_type": "code",
   "execution_count": 168,
   "metadata": {},
   "outputs": [],
   "source": [
    "# 100/100\n",
    "import itertools\n",
    "\n",
    "weaks = []\n",
    "def make_weaks(n, weak):\n",
    "    weaks.append(weak)\n",
    "    for w in range(1, len(weak)):\n",
    "        temp = []\n",
    "        for i in range(w, len(weak)):\n",
    "            temp.append(weak[i])\n",
    "        for i in range(w):\n",
    "            temp.append(weak[i]+n)\n",
    "        weaks.append(temp)\n",
    "\n",
    "def solution(n, weak, dist):\n",
    "    make_weaks(n, weak)\n",
    "    dist.sort(reverse = True)\n",
    "    for n in range(1, len(dist)+1): #n: 사람 수\n",
    "        per = list(itertools.permutations(dist, n))\n",
    "        \n",
    "        for w in weaks:\n",
    "            for i in range(len(per)):\n",
    "                pos = w[0]\n",
    "                for j in range(n):\n",
    "                    pos += per[i][j]\n",
    "                    if j == n-1 and pos >= w[-1]:\n",
    "                        return n\n",
    "                    for k in range(1, len(w)):\n",
    "                        if w[k-1] <= pos < w[k]:\n",
    "                            pos = w[k]\n",
    "                            break                     \n",
    "    return -1"
   ]
  },
  {
   "cell_type": "code",
   "execution_count": 169,
   "metadata": {},
   "outputs": [
    {
     "data": {
      "text/plain": [
       "2"
      ]
     },
     "execution_count": 169,
     "metadata": {},
     "output_type": "execute_result"
    }
   ],
   "source": [
    "solution(12, [1, 5, 6, 10], [1, 2, 3, 4])"
   ]
  },
  {
   "cell_type": "code",
   "execution_count": null,
   "metadata": {},
   "outputs": [],
   "source": []
  }
 ],
 "metadata": {
  "kernelspec": {
   "display_name": "py1",
   "language": "python",
   "name": "py1"
  },
  "language_info": {
   "codemirror_mode": {
    "name": "ipython",
    "version": 3
   },
   "file_extension": ".py",
   "mimetype": "text/x-python",
   "name": "python",
   "nbconvert_exporter": "python",
   "pygments_lexer": "ipython3",
   "version": "3.6.10"
  }
 },
 "nbformat": 4,
 "nbformat_minor": 2
}

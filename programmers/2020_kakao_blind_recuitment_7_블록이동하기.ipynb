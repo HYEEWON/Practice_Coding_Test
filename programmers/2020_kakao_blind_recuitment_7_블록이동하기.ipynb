{
 "cells": [
  {
   "cell_type": "markdown",
   "metadata": {},
   "source": [
    "### BFS 사용"
   ]
  },
  {
   "cell_type": "code",
   "execution_count": 46,
   "metadata": {},
   "outputs": [
    {
     "data": {
      "text/plain": [
       "7"
      ]
     },
     "execution_count": 46,
     "metadata": {},
     "output_type": "execute_result"
    }
   ],
   "source": [
    "from collections import deque\n",
    "\n",
    "def solution(board):\n",
    "    N = len(board) #가로 기준: 왼쪽, 세로 기준: 위쪽\n",
    "    v = [0, 0, '-', 0] #위치: [y, x, 방향, cnt]\n",
    "    q = deque([v])\n",
    "    visit = [[[0, 0] for i in range(N)] for j in range(N)] #idx0: 가로, idx1: 세로\n",
    "    visit[0][0][0] = 1\n",
    "    # 좌우하상\n",
    "    while len(q) > 0:\n",
    "        y, x, drt, cnt = q.popleft()\n",
    "        if (y==N-2 and x==N-1 and drt=='|') or (y==N-1 and x==N-2 and drt=='-'):\n",
    "            return cnt\n",
    "        if drt == '-':\n",
    "            if x > 0:\n",
    "                if board[y][x-1] == 0 and visit[y][x-1][0] == 0:\n",
    "                    visit[y][x-1][0] = 1\n",
    "                    q.append([y, x-1, '-', cnt+1])\n",
    "            if x < N-2:\n",
    "                if board[y][x+2] == 0 and visit[y][x+1][0] == 0:\n",
    "                    visit[y][x+1][0] = 1\n",
    "                    q.append([y, x+1, '-', cnt+1])\n",
    "            if y > 0:\n",
    "                if board[y-1][x] == 0 and board[y-1][x+1] == 0 and visit[y-1][x][0] == 0:\n",
    "                    visit[y-1][x][0] = 1\n",
    "                    q.append([y-1, x, '-', cnt+1])\n",
    "                if board[y-1][x+1] == 0 and board[y-1][x] == 0 and visit[y-1][x][1] == 0: #반시계 위\n",
    "                    visit[y-1][x][1] = 1\n",
    "                    q.append([y-1, x, '|', cnt+1])\n",
    "                if board[y-1][x] == 0 and board[y-1][x+1] == 0 and visit[y-1][x+1][1] == 0: #시계 위\n",
    "                    visit[y-1][x+1][1] = 1\n",
    "                    q.append([y-1, x+1, '|', cnt+1])    \n",
    "            if y < N-1:\n",
    "                if board[y+1][x] == 0 and board[y+1][x+1] == 0 and visit[y+1][x][0] == 0:\n",
    "                    visit[y+1][x][0] = 1\n",
    "                    q.append([y+1, x, '-', cnt+1])\n",
    "                if board[y+1][x] == 0 and board[y+1][x+1] == 0 and visit[y][x+1][1] == 0: #반시계 아래\n",
    "                    visit[y][x+1][1] = 1\n",
    "                    q.append([y, x+1, '|', cnt+1])\n",
    "                if board[y+1][x+1] == 0 and board[y+1][x] == 0 and visit[y][x][1] == 0: #시계 아래\n",
    "                    visit[y][x][1] = 1\n",
    "                    q.append([y, x, '|', cnt+1])\n",
    "            \n",
    "        else:\n",
    "            if x > 0: #왼쪽\n",
    "                if board[y][x-1] == 0 and board[y+1][x-1] == 0 and visit[y][x-1][1] == 0:\n",
    "                    visit[y][x-1][1] = 1\n",
    "                    q.append([y, x-1, '|', cnt+1])\n",
    "                if board[y][x-1] == 0 and board[y+1][x-1] == 0 and visit[y+1][x-1][0] == 0: #반시계 왼\n",
    "                    visit[y+1][x-1][0] = 1\n",
    "                    q.append([y+1, x-1, '-', cnt+1])\n",
    "                if board[y+1][x-1] == 0 and board[y][x-1] == 0 and visit[y][x-1][0] == 0: #시계 왼\n",
    "                    visit[y][x-1][0] = 1\n",
    "                    q.append([y, x-1, '-', cnt+1])\n",
    "            if x < N-1: #오른쪽\n",
    "                if board[y][x+1] == 0 and board[y+1][x+1] == 0 and visit[y][x+1][1] == 0:\n",
    "                    visit[y][x+1][1] = 1;\n",
    "                    q.append([y, x+1, '|', cnt+1])\n",
    "                if board[y+1][x+1] == 0 and board[y][x+1] == 0 and visit[y][x][0] == 0: #반시계 오른\n",
    "                    visit[y][x][0] = 1\n",
    "                    q.append([y, x, '-', cnt+1])\n",
    "                if board[y][x+1] == 0 and board[y+1][x+1] == 0 and visit[y+1][x][0] == 0: #시계 오른\n",
    "                    visit[y+1][x][0] = 1\n",
    "                    q.append([y+1, x, '-', cnt+1])\n",
    "            if y > 0: #위\n",
    "                if board[y-1][x] == 0 and visit[y-1][x][1] == 0:\n",
    "                    visit[y-1][x][1] = 1\n",
    "                    q.append([y-1, x, '|', cnt+1])\n",
    "            if y < N-2: #아래\n",
    "                if board[y+2][x] == 0 and visit[y+1][x][1] == 0:\n",
    "                    visit[y+1][x][1] = 1\n",
    "                    q.append([y+1, x, '|', cnt+1])\n",
    "            \n",
    "board = [[0, 0, 0, 1, 1],[0, 0, 0, 1, 0],[0, 1, 0, 1, 1],[1, 1, 0, 0, 1],[0, 0, 0, 0, 0]]\n",
    "solution(board)"
   ]
  },
  {
   "cell_type": "code",
   "execution_count": 17,
   "metadata": {},
   "outputs": [
    {
     "ename": "TypeError",
     "evalue": "an integer is required",
     "output_type": "error",
     "traceback": [
      "\u001b[1;31m---------------------------------------------------------------------------\u001b[0m",
      "\u001b[1;31mTypeError\u001b[0m                                 Traceback (most recent call last)",
      "\u001b[1;32m<ipython-input-17-de3724de230d>\u001b[0m in \u001b[0;36m<module>\u001b[1;34m\u001b[0m\n\u001b[0;32m      1\u001b[0m \u001b[0mloc\u001b[0m \u001b[1;33m=\u001b[0m \u001b[1;33m[\u001b[0m\u001b[1;33m[\u001b[0m\u001b[1;36m0\u001b[0m\u001b[1;33m,\u001b[0m \u001b[1;36m0\u001b[0m\u001b[1;33m]\u001b[0m\u001b[1;33m,\u001b[0m \u001b[1;33m[\u001b[0m\u001b[1;36m0\u001b[0m\u001b[1;33m,\u001b[0m \u001b[1;36m1\u001b[0m\u001b[1;33m]\u001b[0m\u001b[1;33m]\u001b[0m \u001b[1;31m#위치\u001b[0m\u001b[1;33m\u001b[0m\u001b[1;33m\u001b[0m\u001b[0m\n\u001b[1;32m----> 2\u001b[1;33m \u001b[0mvisit\u001b[0m \u001b[1;33m=\u001b[0m \u001b[0mdeque\u001b[0m\u001b[1;33m(\u001b[0m\u001b[1;33m[\u001b[0m\u001b[1;36m1\u001b[0m\u001b[1;33m]\u001b[0m\u001b[1;33m,\u001b[0m \u001b[1;33m[\u001b[0m\u001b[1;36m2\u001b[0m\u001b[1;33m]\u001b[0m\u001b[1;33m)\u001b[0m\u001b[1;33m\u001b[0m\u001b[1;33m\u001b[0m\u001b[0m\n\u001b[0m\u001b[0;32m      3\u001b[0m \u001b[0mprint\u001b[0m\u001b[1;33m(\u001b[0m\u001b[0mvisit\u001b[0m\u001b[1;33m)\u001b[0m\u001b[1;33m\u001b[0m\u001b[1;33m\u001b[0m\u001b[0m\n",
      "\u001b[1;31mTypeError\u001b[0m: an integer is required"
     ]
    }
   ],
   "source": [
    "loc = [[0, 0], [0, 1]] #위치\n",
    "visit = deque([1], [2])\n",
    "print(visit)"
   ]
  },
  {
   "cell_type": "code",
   "execution_count": 5,
   "metadata": {},
   "outputs": [
    {
     "name": "stdout",
     "output_type": "stream",
     "text": [
      "[[0, 0], [0, 0], [0, 0], [0, 0], [0, 0], [0, 0], [0, 0], [0, 0], [0, 0]]\n"
     ]
    }
   ],
   "source": [
    "visit = [[0, 0] for i in range(3) for j in range(3)]\n",
    "visit[0][0]\n",
    "print(visit)"
   ]
  },
  {
   "cell_type": "code",
   "execution_count": 34,
   "metadata": {},
   "outputs": [
    {
     "name": "stdout",
     "output_type": "stream",
     "text": [
      "[[[1, 0], [0, 0], [0, 0], [0, 0], [0, 0]], [[0, 0], [0, 0], [0, 0], [0, 0], [0, 0]], [[0, 0], [0, 0], [0, 0], [0, 0], [0, 0]], [[0, 0], [0, 0], [0, 0], [0, 0], [0, 0]], [[0, 0], [0, 0], [0, 0], [0, 0], [0, 0]]]\n",
      "[[1, 0], [0, 0], [0, 0], [0, 0], [0, 0]]\n",
      "[[0, 0], [0, 0], [0, 0], [0, 0], [0, 0]]\n",
      "[[0, 0], [0, 0], [0, 0], [0, 0], [0, 0]]\n",
      "[[0, 0], [0, 0], [0, 0], [0, 0], [0, 0]]\n",
      "[[0, 0], [0, 0], [0, 0], [0, 0], [0, 0]]\n"
     ]
    }
   ],
   "source": [
    "N = 5\n",
    "visit = [[[0, 0] for i in range(N)] for j in range(N)]\n",
    "visit[0][0][0] = 1\n",
    "print(visit)\n",
    "for i in range(N):\n",
    "    print(visit[i])"
   ]
  },
  {
   "cell_type": "code",
   "execution_count": 35,
   "metadata": {},
   "outputs": [
    {
     "name": "stdout",
     "output_type": "stream",
     "text": [
      "[[[0, 0], [0, 0], [0, 0], [0, 0], [0, 0]], [[0, 0], [0, 0], [0, 0], [0, 0], [0, 0]], [[0, 0], [0, 0], [0, 0], [0, 0], [0, 0]], [[0, 0], [0, 0], [0, 0], [0, 0], [0, 0]], [[0, 0], [0, 0], [0, 0], [0, 0], [0, 0]]]\n"
     ]
    }
   ],
   "source": [
    "N=5\n",
    "visit = [[[0, 0] for i in range(N)] for j in range(N)]\n",
    "visit[0][0][0] == 1\n",
    "print(visit)"
   ]
  },
  {
   "cell_type": "code",
   "execution_count": null,
   "metadata": {},
   "outputs": [],
   "source": []
  },
  {
   "cell_type": "code",
   "execution_count": null,
   "metadata": {},
   "outputs": [],
   "source": []
  },
  {
   "cell_type": "code",
   "execution_count": null,
   "metadata": {},
   "outputs": [],
   "source": []
  },
  {
   "cell_type": "code",
   "execution_count": null,
   "metadata": {},
   "outputs": [],
   "source": []
  },
  {
   "cell_type": "code",
   "execution_count": 5,
   "metadata": {},
   "outputs": [
    {
     "name": "stdout",
     "output_type": "stream",
     "text": [
      "[[0, 0, 0, 0, 0], [0, 0, 0, 0, 0], [0, 0, 0, 0, 0], [0, 0, 0, 0, 0], [0, 0, 0, 0, 0]]\n"
     ]
    }
   ],
   "source": [
    "visit = [[0 for i in range(5)] for j in range(5)]\n",
    "print(visit)"
   ]
  },
  {
   "cell_type": "code",
   "execution_count": null,
   "metadata": {},
   "outputs": [],
   "source": []
  }
 ],
 "metadata": {
  "kernelspec": {
   "display_name": "py1",
   "language": "python",
   "name": "py1"
  },
  "language_info": {
   "codemirror_mode": {
    "name": "ipython",
    "version": 3
   },
   "file_extension": ".py",
   "mimetype": "text/x-python",
   "name": "python",
   "nbconvert_exporter": "python",
   "pygments_lexer": "ipython3",
   "version": "3.6.10"
  }
 },
 "nbformat": 4,
 "nbformat_minor": 2
}

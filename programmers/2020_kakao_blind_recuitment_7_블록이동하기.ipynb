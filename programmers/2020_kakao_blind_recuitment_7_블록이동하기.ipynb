{
 "cells": [
  {
   "cell_type": "markdown",
   "metadata": {},
   "source": [
    "### BFS 사용"
   ]
  },
  {
   "cell_type": "code",
   "execution_count": 46,
   "metadata": {},
   "outputs": [
    {
     "data": {
      "text/plain": [
       "7"
      ]
     },
     "execution_count": 46,
     "metadata": {},
     "output_type": "execute_result"
    }
   ],
   "source": [
    "from collections import deque\n",
    "\n",
    "def solution(board):\n",
    "    N = len(board) #가로 기준: 왼쪽, 세로 기준: 위쪽\n",
    "    v = [0, 0, '-', 0] #위치: [y, x, 방향, cnt]\n",
    "    q = deque([v])\n",
    "    visit = [[[0, 0] for i in range(N)] for j in range(N)] #idx0: 가로, idx1: 세로\n",
    "    visit[0][0][0] = 1\n",
    "    # 좌우하상\n",
    "    while len(q) > 0:\n",
    "        y, x, drt, cnt = q.popleft()\n",
    "        if (y==N-2 and x==N-1 and drt=='|') or (y==N-1 and x==N-2 and drt=='-'):\n",
    "            return cnt\n",
    "        if drt == '-':\n",
    "            if x > 0:\n",
    "                if board[y][x-1] == 0 and visit[y][x-1][0] == 0:\n",
    "                    visit[y][x-1][0] = 1\n",
    "                    q.append([y, x-1, '-', cnt+1])\n",
    "            if x < N-2:\n",
    "                if board[y][x+2] == 0 and visit[y][x+1][0] == 0:\n",
    "                    visit[y][x+1][0] = 1\n",
    "                    q.append([y, x+1, '-', cnt+1])\n",
    "            if y > 0:\n",
    "                if board[y-1][x] == 0 and board[y-1][x+1] == 0 and visit[y-1][x][0] == 0:\n",
    "                    visit[y-1][x][0] = 1\n",
    "                    q.append([y-1, x, '-', cnt+1])\n",
    "                if board[y-1][x+1] == 0 and board[y-1][x] == 0 and visit[y-1][x][1] == 0: #반시계 위\n",
    "                    visit[y-1][x][1] = 1\n",
    "                    q.append([y-1, x, '|', cnt+1])\n",
    "                if board[y-1][x] == 0 and board[y-1][x+1] == 0 and visit[y-1][x+1][1] == 0: #시계 위\n",
    "                    visit[y-1][x+1][1] = 1\n",
    "                    q.append([y-1, x+1, '|', cnt+1])    \n",
    "            if y < N-1:\n",
    "                if board[y+1][x] == 0 and board[y+1][x+1] == 0 and visit[y+1][x][0] == 0:\n",
    "                    visit[y+1][x][0] = 1\n",
    "                    q.append([y+1, x, '-', cnt+1])\n",
    "                if board[y+1][x] == 0 and board[y+1][x+1] == 0 and visit[y][x+1][1] == 0: #반시계 아래\n",
    "                    visit[y][x+1][1] = 1\n",
    "                    q.append([y, x+1, '|', cnt+1])\n",
    "                if board[y+1][x+1] == 0 and board[y+1][x] == 0 and visit[y][x][1] == 0: #시계 아래\n",
    "                    visit[y][x][1] = 1\n",
    "                    q.append([y, x, '|', cnt+1])\n",
    "            \n",
    "        else:\n",
    "            if x > 0: #왼쪽\n",
    "                if board[y][x-1] == 0 and board[y+1][x-1] == 0 and visit[y][x-1][1] == 0:\n",
    "                    visit[y][x-1][1] = 1\n",
    "                    q.append([y, x-1, '|', cnt+1])\n",
    "                if board[y][x-1] == 0 and board[y+1][x-1] == 0 and visit[y+1][x-1][0] == 0: #반시계 왼\n",
    "                    visit[y+1][x-1][0] = 1\n",
    "                    q.append([y+1, x-1, '-', cnt+1])\n",
    "                if board[y+1][x-1] == 0 and board[y][x-1] == 0 and visit[y][x-1][0] == 0: #시계 왼\n",
    "                    visit[y][x-1][0] = 1\n",
    "                    q.append([y, x-1, '-', cnt+1])\n",
    "            if x < N-1: #오른쪽\n",
    "                if board[y][x+1] == 0 and board[y+1][x+1] == 0 and visit[y][x+1][1] == 0:\n",
    "                    visit[y][x+1][1] = 1;\n",
    "                    q.append([y, x+1, '|', cnt+1])\n",
    "                if board[y+1][x+1] == 0 and board[y][x+1] == 0 and visit[y][x][0] == 0: #반시계 오른\n",
    "                    visit[y][x][0] = 1\n",
    "                    q.append([y, x, '-', cnt+1])\n",
    "                if board[y][x+1] == 0 and board[y+1][x+1] == 0 and visit[y+1][x][0] == 0: #시계 오른\n",
    "                    visit[y+1][x][0] = 1\n",
    "                    q.append([y+1, x, '-', cnt+1])\n",
    "            if y > 0: #위\n",
    "                if board[y-1][x] == 0 and visit[y-1][x][1] == 0:\n",
    "                    visit[y-1][x][1] = 1\n",
    "                    q.append([y-1, x, '|', cnt+1])\n",
    "            if y < N-2: #아래\n",
    "                if board[y+2][x] == 0 and visit[y+1][x][1] == 0:\n",
    "                    visit[y+1][x][1] = 1\n",
    "                    q.append([y+1, x, '|', cnt+1])\n",
    "            \n",
    "board = [[0, 0, 0, 1, 1],[0, 0, 0, 1, 0],[0, 1, 0, 1, 1],[1, 1, 0, 0, 1],[0, 0, 0, 0, 0]]\n",
    "solution(board)"
   ]
  }
 ],
 "metadata": {
  "kernelspec": {
   "display_name": "py1",
   "language": "python",
   "name": "py1"
  },
  "language_info": {
   "codemirror_mode": {
    "name": "ipython",
    "version": 3
   },
   "file_extension": ".py",
   "mimetype": "text/x-python",
   "name": "python",
   "nbconvert_exporter": "python",
   "pygments_lexer": "ipython3",
   "version": "3.6.10"
  }
 },
 "nbformat": 4,
 "nbformat_minor": 2
}

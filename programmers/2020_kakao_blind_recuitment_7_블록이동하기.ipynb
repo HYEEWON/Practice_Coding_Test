{
 "cells": [
  {
   "cell_type": "markdown",
   "metadata": {},
   "source": [
    "### BFS 사용"
   ]
  },
  {
   "cell_type": "code",
   "execution_count": 1,
   "metadata": {},
   "outputs": [],
   "source": [
    "from collections import deque\n",
    "    \n",
    "def solution(board):\n",
    "    N = len(board)\n",
    "    ort = True #가로 방향\n",
    "    v = [0, 0, 1, 0] #위치: [y, x, 방향, cnt]\n",
    "    q = deque(v)\n",
    "    visit = [[0 for i in range(N+1)] for j in range(N+1)]\n",
    "    \n",
    "    while len(q) > 0:\n",
    "        x, y, ort, cnt = q.popleft()\n",
    "        \n",
    "        if ort == 1: #가로\n",
    "            if y-1 >= 0: #아래로 이동 #왼쪽 이동\n",
    "                if board[y-1][x] == 0 and visit[y-1][x] == 0:\n",
    "                    visit[y-1][x] == 0\n",
    "                    q.append([y, x-, 1, cnt+1])\n",
    "            if y+1 < N: #위로 이동 #오른쪽 이동\n",
    "                if board[x][y+2] == 0 and visit[x][y+1] == 0:\n",
    "                    visit[x][y+1] == 0\n",
    "                    q.append([x, y+1, 1, cnt+1])\n",
    "            if x-1 >=0: #위로 이동\n",
    "                if board[x][y] == 0 and visit[x][y+1] == 0:\n",
    "                    visit[x][y+1] == 0\n",
    "                    q.append([x, y+1, 1, cnt+1])\n",
    "            if x+1 < N: #아래로 이동\n",
    "                \n",
    "        else: #세로\n",
    "        \n",
    "   \n",
    "\n",
    "                "
   ]
  },
  {
   "cell_type": "code",
   "execution_count": 2,
   "metadata": {},
   "outputs": [
    {
     "name": "stdout",
     "output_type": "stream",
     "text": [
      "deque([[0, 0], [0, 1]])\n"
     ]
    }
   ],
   "source": [
    "loc = [[0, 0], [0, 1]] #위치\n",
    "visit = deque(loc)\n",
    "print(visit)"
   ]
  },
  {
   "cell_type": "code",
   "execution_count": 5,
   "metadata": {},
   "outputs": [
    {
     "name": "stdout",
     "output_type": "stream",
     "text": [
      "[[0, 0, 0, 0, 0], [0, 0, 0, 0, 0], [0, 0, 0, 0, 0], [0, 0, 0, 0, 0], [0, 0, 0, 0, 0]]\n"
     ]
    }
   ],
   "source": [
    "visit = [[0 for i in range(5)] for j in range(5)]\n",
    "print(visit)"
   ]
  },
  {
   "cell_type": "code",
   "execution_count": null,
   "metadata": {},
   "outputs": [],
   "source": []
  }
 ],
 "metadata": {
  "kernelspec": {
   "display_name": "py1",
   "language": "python",
   "name": "py1"
  },
  "language_info": {
   "codemirror_mode": {
    "name": "ipython",
    "version": 3
   },
   "file_extension": ".py",
   "mimetype": "text/x-python",
   "name": "python",
   "nbconvert_exporter": "python",
   "pygments_lexer": "ipython3",
   "version": "3.6.10"
  }
 },
 "nbformat": 4,
 "nbformat_minor": 2
}

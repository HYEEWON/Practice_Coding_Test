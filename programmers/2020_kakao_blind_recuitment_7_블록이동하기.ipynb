{
 "cells": [
  {
   "cell_type": "markdown",
   "metadata": {},
   "source": [
    "### BFS 사용"
   ]
  },
  {
   "cell_type": "code",
   "execution_count": 46,
   "metadata": {},
   "outputs": [
    {
     "data": {
      "text/plain": [
       "7"
      ]
     },
     "execution_count": 46,
     "metadata": {},
     "output_type": "execute_result"
    }
   ],
   "source": [
    "#100/100\n",
    "from collections import deque\n",
    "\n",
    "def solution(board):\n",
    "    N = len(board) #가로 기준: 왼쪽, 세로 기준: 위쪽\n",
    "    v = [0, 0, '-', 0] #위치: [y, x, 방향, cnt]\n",
    "    q = deque([v])\n",
    "    visit = [[[0, 0] for i in range(N)] for j in range(N)] #idx0: 가로, idx1: 세로\n",
    "    visit[0][0][0] = 1\n",
    "    # 좌우하상\n",
    "    while len(q) > 0:\n",
    "        y, x, drt, cnt = q.popleft()\n",
    "        if (y==N-2 and x==N-1 and drt=='|') or (y==N-1 and x==N-2 and drt=='-'):\n",
    "            return cnt\n",
    "        if drt == '-':\n",
    "            if x > 0:\n",
    "                if board[y][x-1] == 0 and visit[y][x-1][0] == 0:\n",
    "                    visit[y][x-1][0] = 1\n",
    "                    q.append([y, x-1, '-', cnt+1])\n",
    "            if x < N-2:\n",
    "                if board[y][x+2] == 0 and visit[y][x+1][0] == 0:\n",
    "                    visit[y][x+1][0] = 1\n",
    "                    q.append([y, x+1, '-', cnt+1])\n",
    "            if y > 0:\n",
    "                if board[y-1][x] == 0 and board[y-1][x+1] == 0 and visit[y-1][x][0] == 0:\n",
    "                    visit[y-1][x][0] = 1\n",
    "                    q.append([y-1, x, '-', cnt+1])\n",
    "                if board[y-1][x+1] == 0 and board[y-1][x] == 0 and visit[y-1][x][1] == 0: #반시계 위\n",
    "                    visit[y-1][x][1] = 1\n",
    "                    q.append([y-1, x, '|', cnt+1])\n",
    "                if board[y-1][x] == 0 and board[y-1][x+1] == 0 and visit[y-1][x+1][1] == 0: #시계 위\n",
    "                    visit[y-1][x+1][1] = 1\n",
    "                    q.append([y-1, x+1, '|', cnt+1])    \n",
    "            if y < N-1:\n",
    "                if board[y+1][x] == 0 and board[y+1][x+1] == 0 and visit[y+1][x][0] == 0:\n",
    "                    visit[y+1][x][0] = 1\n",
    "                    q.append([y+1, x, '-', cnt+1])\n",
    "                if board[y+1][x] == 0 and board[y+1][x+1] == 0 and visit[y][x+1][1] == 0: #반시계 아래\n",
    "                    visit[y][x+1][1] = 1\n",
    "                    q.append([y, x+1, '|', cnt+1])\n",
    "                if board[y+1][x+1] == 0 and board[y+1][x] == 0 and visit[y][x][1] == 0: #시계 아래\n",
    "                    visit[y][x][1] = 1\n",
    "                    q.append([y, x, '|', cnt+1])\n",
    "            \n",
    "        else:\n",
    "            if x > 0: #왼쪽\n",
    "                if board[y][x-1] == 0 and board[y+1][x-1] == 0 and visit[y][x-1][1] == 0:\n",
    "                    visit[y][x-1][1] = 1\n",
    "                    q.append([y, x-1, '|', cnt+1])\n",
    "                if board[y][x-1] == 0 and board[y+1][x-1] == 0 and visit[y+1][x-1][0] == 0: #반시계 왼\n",
    "                    visit[y+1][x-1][0] = 1\n",
    "                    q.append([y+1, x-1, '-', cnt+1])\n",
    "                if board[y+1][x-1] == 0 and board[y][x-1] == 0 and visit[y][x-1][0] == 0: #시계 왼\n",
    "                    visit[y][x-1][0] = 1\n",
    "                    q.append([y, x-1, '-', cnt+1])\n",
    "            if x < N-1: #오른쪽\n",
    "                if board[y][x+1] == 0 and board[y+1][x+1] == 0 and visit[y][x+1][1] == 0:\n",
    "                    visit[y][x+1][1] = 1;\n",
    "                    q.append([y, x+1, '|', cnt+1])\n",
    "                if board[y+1][x+1] == 0 and board[y][x+1] == 0 and visit[y][x][0] == 0: #반시계 오른\n",
    "                    visit[y][x][0] = 1\n",
    "                    q.append([y, x, '-', cnt+1])\n",
    "                if board[y][x+1] == 0 and board[y+1][x+1] == 0 and visit[y+1][x][0] == 0: #시계 오른\n",
    "                    visit[y+1][x][0] = 1\n",
    "                    q.append([y+1, x, '-', cnt+1])\n",
    "            if y > 0: #위\n",
    "                if board[y-1][x] == 0 and visit[y-1][x][1] == 0:\n",
    "                    visit[y-1][x][1] = 1\n",
    "                    q.append([y-1, x, '|', cnt+1])\n",
    "            if y < N-2: #아래\n",
    "                if board[y+2][x] == 0 and visit[y+1][x][1] == 0:\n",
    "                    visit[y+1][x][1] = 1\n",
    "                    q.append([y+1, x, '|', cnt+1])\n",
    "            \n",
    "board = [[0, 0, 0, 1, 1],[0, 0, 0, 1, 0],[0, 1, 0, 1, 1],[1, 1, 0, 0, 1],[0, 0, 0, 0, 0]]\n",
    "solution(board)"
   ]
  },
  {
   "cell_type": "code",
   "execution_count": 73,
   "metadata": {},
   "outputs": [
    {
     "data": {
      "text/plain": [
       "7"
      ]
     },
     "execution_count": 73,
     "metadata": {},
     "output_type": "execute_result"
    }
   ],
   "source": [
    "#100/100\n",
    "from collections import deque\n",
    "def move(loc1, loc2, board):\n",
    "    move = [(1, 0), (0, 1), (-1, 0), (0, -1)]\n",
    "    ans = []\n",
    "    for m in move: #이동\n",
    "        if board[loc1[0]+m[0]][loc1[1]+m[1]] == 0 and board[loc2[0]+m[0]][loc2[1]+m[1]] == 0:\n",
    "            ans.append({(loc1[0]+m[0], loc1[1]+m[1]), (loc2[0]+m[0], loc2[1]+m[1])})\n",
    "    \n",
    "    rot = [1, -1]\n",
    "    if loc1[0] == loc2[0]: #가로 회전\n",
    "        for r in rot:\n",
    "            if board[loc1[0]+r][loc1[1]] == 0 and board[loc2[0]+r][loc2[1]] == 0:\n",
    "                ans.append({(loc1[0]+r, loc1[1]), (loc1[0], loc1[1])})\n",
    "                ans.append({(loc2[0]+r, loc2[1]), (loc2[0], loc2[1])})\n",
    "    else:\n",
    "         for r in rot: #세로 회전\n",
    "            if board[loc1[0]][loc1[1]+r] == 0 and board[loc2[0]][loc2[1]+r] == 0:\n",
    "                ans.append({(loc1[0], loc1[1]), (loc1[0], loc1[1]+r)})\n",
    "                ans.append({(loc2[0], loc2[1]), (loc2[0], loc2[1]+r)})\n",
    "    return ans\n",
    "    \n",
    "def solution(board):\n",
    "    N = len(board) \n",
    "    # 상하좌우에 패딩 추가\n",
    "    new_board = [[1 for i in range(len(board)+2)] for i in range(len(board)+2)]\n",
    "    for i in range(len(board)):\n",
    "        for j in range(len(board)):\n",
    "            new_board[i+1][j+1] = board[i][j]\n",
    "    q = deque([[{(1, 1), (1, 2)}, 0]]) #로봇 좌표, 거리\n",
    "    visit = [{(1, 1), (1, 2)}]\n",
    "    \n",
    "    while len(q) > 0:\n",
    "        loc, dist = q.popleft()\n",
    "        dist += 1\n",
    "        loc = list(loc)\n",
    "        for m in move(loc[0], loc[1], new_board):\n",
    "            if (N, N) in m:\n",
    "                return dist\n",
    "            if not m in visit:\n",
    "                q.append([m, dist])\n",
    "                visit.append(m)    \n",
    "            \n",
    "board = [[0, 0, 0, 1, 1],[0, 0, 0, 1, 0],[0, 1, 0, 1, 1],[1, 1, 0, 0, 1],[0, 0, 0, 0, 0]]\n",
    "solution(board)"
   ]
  }
 ],
 "metadata": {
  "kernelspec": {
   "display_name": "py1",
   "language": "python",
   "name": "py1"
  },
  "language_info": {
   "codemirror_mode": {
    "name": "ipython",
    "version": 3
   },
   "file_extension": ".py",
   "mimetype": "text/x-python",
   "name": "python",
   "nbconvert_exporter": "python",
   "pygments_lexer": "ipython3",
   "version": "3.6.10"
  }
 },
 "nbformat": 4,
 "nbformat_minor": 2
}

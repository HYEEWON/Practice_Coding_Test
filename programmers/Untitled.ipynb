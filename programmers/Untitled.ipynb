{
 "cells": [
  {
   "cell_type": "code",
   "execution_count": 5,
   "metadata": {},
   "outputs": [
    {
     "name": "stdout",
     "output_type": "stream",
     "text": [
      "[(2, 1), (2, 3), (2, 4), (2, 1), (1, 3), (1, 4), (1, 1), (3, 4), (3, 1), (4, 1)]\n"
     ]
    },
    {
     "data": {
      "text/plain": [
       "[2, 3, 4, 5, 6, 7]"
      ]
     },
     "execution_count": 5,
     "metadata": {},
     "output_type": "execute_result"
    }
   ],
   "source": [
    "from itertools import combinations\n",
    "\n",
    "def solution(numbers):\n",
    "    answer = set()\n",
    "    com = list(combinations(numbers, 2))\n",
    "    print(com)\n",
    "    for i in range(len(com)):\n",
    "        answer.add(com[i][0]+com[i][1])\n",
    "    answer = list(answer)\n",
    "    return answer\n",
    "\n",
    "numbers = [2,1,3,4,1]\n",
    "solution(numbers)"
   ]
  },
  {
   "cell_type": "code",
   "execution_count": null,
   "metadata": {},
   "outputs": [],
   "source": [
    "n = int(input())\n",
    "num = [[0 for i in range(n)] for j in range(n)]\n",
    "start = 2*n\n",
    "end = n * (n+1) / 2\n",
    "for i in range(1, n+1, 1):\n",
    "    num[i][0] = i\n",
    "for i in range(1, n-1, 1):\n",
    "    for j in range(n-1,)\n",
    "    num[i]"
   ]
  },
  {
   "cell_type": "code",
   "execution_count": 22,
   "metadata": {},
   "outputs": [
    {
     "name": "stdout",
     "output_type": "stream",
     "text": [
      "4\n",
      "[1,2,9,3,10,8,4,5,6,7]\n"
     ]
    }
   ],
   "source": [
    "n = int(input())\n",
    "arr = [[0 for i in range(n)] for j in range(n)]\n",
    "\n",
    "end = n\n",
    "num = 1\n",
    "w = 1\n",
    "idx_w = 0\n",
    "idx_h = 0\n",
    "\n",
    "while True:\n",
    "    for i in range(end):\n",
    "        arr[i+idx_h][idx_w] = num\n",
    "        num += 1\n",
    "    if num > n * (n+1) / 2:\n",
    "        break\n",
    "    end -= 1\n",
    "    idx_h += end\n",
    "    idx_w += 1\n",
    "    for i in range(idx_w, end+idx_w):\n",
    "        arr[idx_h][i] = num\n",
    "        num += 1\n",
    "    end -= 1\n",
    "    idx_h -= 1\n",
    "    idx_w += (end-1)\n",
    "    if num > n * (n+1) / 2:\n",
    "        break\n",
    "    for i in range(end):\n",
    "        arr[idx_h-i][idx_w-i]= num\n",
    "        num += 1\n",
    "    end -= 1\n",
    "    idx_h -= (end-1)\n",
    "    idx_w -= end\n",
    "    if num > n * (n+1) / 2:\n",
    "        break\n",
    "        \n",
    "print('[', end='')\n",
    "for i in range(n):\n",
    "    for j in range(i+1):\n",
    "        if i == n-1 and j == n-1:\n",
    "            print(str(arr[i][j]), end='')\n",
    "        else:\n",
    "            print(str(arr[i][j])+',', end='')\n",
    "print(']') "
   ]
  },
  {
   "cell_type": "code",
   "execution_count": null,
   "metadata": {},
   "outputs": [],
   "source": []
  }
 ],
 "metadata": {
  "kernelspec": {
   "display_name": "py1",
   "language": "python",
   "name": "py1"
  },
  "language_info": {
   "codemirror_mode": {
    "name": "ipython",
    "version": 3
   },
   "file_extension": ".py",
   "mimetype": "text/x-python",
   "name": "python",
   "nbconvert_exporter": "python",
   "pygments_lexer": "ipython3",
   "version": "3.6.10"
  }
 },
 "nbformat": 4,
 "nbformat_minor": 2
}

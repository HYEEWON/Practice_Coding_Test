{
 "cells": [
  {
   "cell_type": "markdown",
   "metadata": {},
   "source": [
    "## N으로 표현_Level3"
   ]
  },
  {
   "cell_type": "markdown",
   "metadata": {},
   "source": [
    "### DP 풀이"
   ]
  },
  {
   "cell_type": "markdown",
   "metadata": {},
   "source": [
    "처음에 답이 1인 경우의 리턴이 없어서 틀림"
   ]
  },
  {
   "cell_type": "code",
   "execution_count": 22,
   "metadata": {},
   "outputs": [
    {
     "name": "stdout",
     "output_type": "stream",
     "text": [
      "4\n"
     ]
    }
   ],
   "source": [
    "# 8/9 # 88.9/100\n",
    "def solution(N, number):\n",
    "    m = [[] for i in range(9)] # 수의 최대 개수는 8\n",
    "    m[1].append(N)\n",
    "    num = N*11\n",
    "    total = set()\n",
    "    for i in range(2, 9, 1):\n",
    "        tmp = set()\n",
    "        tmp.add(num)\n",
    "        for j in range(1, i, 1):\n",
    "            num1 = int(str(N)*j)\n",
    "            num2 = int(str(N)*(i-j))        \n",
    "            for x in m[j]:\n",
    "                for y in m[i-j]:                    \n",
    "                    tmp.add(x+y)                    \n",
    "                    tmp.add(x-y)\n",
    "                    tmp.add(x*y)\n",
    "                    if y != 0:\n",
    "                        tmp.add(x//y)\n",
    "        for idx in tmp:\n",
    "            if idx not in total:\n",
    "                m[i].append(idx)\n",
    "                if idx == number:\n",
    "                    return i\n",
    "        for idx in tmp:\n",
    "            total.add(idx)\n",
    "        num = num*10 + N   \n",
    "    return -1\n",
    "\n",
    "N = 5\n",
    "number = 12\n",
    "print(solution(N, number))"
   ]
  },
  {
   "cell_type": "code",
   "execution_count": 28,
   "metadata": {},
   "outputs": [
    {
     "name": "stdout",
     "output_type": "stream",
     "text": [
      "4\n"
     ]
    }
   ],
   "source": [
    "# 9/9 # 100/100\n",
    "\n",
    "def solution(N, number):\n",
    "    m = [[] for i in range(9)] # 수의 최대 개수는 8\n",
    "    m[1].append(N)\n",
    "    if number == N:\n",
    "        return 1\n",
    "    num = N*11\n",
    "    total = set()\n",
    "    for i in range(2, 9, 1):\n",
    "        tmp = set()\n",
    "        tmp.add(num)\n",
    "        for j in range(1, i, 1):       \n",
    "            for x in m[j]:\n",
    "                for y in m[i-j]:                    \n",
    "                    tmp.add(x+y)                    \n",
    "                    tmp.add(x-y)\n",
    "                    tmp.add(x*y)\n",
    "                    if y != 0:\n",
    "                        tmp.add(x//y)\n",
    "        for idx in tmp:\n",
    "            if idx not in total:\n",
    "                m[i].append(idx)\n",
    "                if idx == number:\n",
    "                    return i\n",
    "        for idx in tmp:\n",
    "            total.add(idx)\n",
    "        num = num*10 + N   \n",
    "    return -1\n",
    "\n",
    "N = 5\n",
    "number = 12\n",
    "print(solution(N, number))"
   ]
  },
  {
   "cell_type": "code",
   "execution_count": null,
   "metadata": {},
   "outputs": [],
   "source": [
    "# 9/9 # 100/100\n",
    "\n",
    "def solution(N, number):\n",
    "    m = [[] for i in range(9)] # 수의 최대 개수는 8\n",
    "    m[1].append(N)\n",
    "    if number == N:\n",
    "        return 1\n",
    "    for i in range(2, 9):\n",
    "        tmp = [int(str(N)*i)]\n",
    "        for j in range(0, int(i/2)):       \n",
    "            for x in m[j]:\n",
    "                for y in m[i-j]:                    \n",
    "                    tmp.add(x+y)                    \n",
    "                    tmp.add(x-y)\n",
    "                    tmp.add(x*y)\n",
    "                    if y != 0:\n",
    "                        tmp.add(x//y)\n",
    "        for idx in tmp:\n",
    "            if idx not in total:\n",
    "                m[i].append(idx)\n",
    "                if idx == number:\n",
    "                    return i\n",
    "        for idx in tmp:\n",
    "            total.add(idx)\n",
    "        num = num*10 + N   \n",
    "    return -1\n",
    "\n",
    "N = 5\n",
    "number = 12\n",
    "print(solution(N, number))"
   ]
  },
  {
   "cell_type": "markdown",
   "metadata": {},
   "source": [
    "### DP풀이: 다른 사람"
   ]
  },
  {
   "cell_type": "code",
   "execution_count": 31,
   "metadata": {},
   "outputs": [
    {
     "name": "stdout",
     "output_type": "stream",
     "text": [
      "4\n"
     ]
    }
   ],
   "source": [
    "def solution(N, number):\n",
    "    S = [{N}]\n",
    "    if N == number:\n",
    "        return 1\n",
    "    for i in range(2, 9):\n",
    "        lst = [int(str(N)*i)]\n",
    "        for X_i in range(0, int(i / 2)):\n",
    "            for x in S[X_i]:\n",
    "                for y in S[i - X_i - 2]:\n",
    "                    lst.append(x + y)\n",
    "                    lst.append(x - y)\n",
    "                    lst.append(y - x)\n",
    "                    lst.append(x * y)\n",
    "                    if x != 0: lst.append(y // x)\n",
    "                    if y != 0: lst.append(x // y)\n",
    "        if number in set(lst):\n",
    "            return i\n",
    "        S.append(lst)\n",
    "    return -1\n",
    "\n",
    "N = 5\n",
    "number = 12\n",
    "print(solution(N, number))"
   ]
  },
  {
   "cell_type": "markdown",
   "metadata": {},
   "source": [
    "더하기와 곱하기에서 시간을 줄임"
   ]
  },
  {
   "cell_type": "markdown",
   "metadata": {},
   "source": [
    "### DFS 풀이"
   ]
  },
  {
   "cell_type": "code",
   "execution_count": 47,
   "metadata": {},
   "outputs": [
    {
     "name": "stdout",
     "output_type": "stream",
     "text": [
      "4\n"
     ]
    }
   ],
   "source": [
    "# 9/9 # 100/100\n",
    "ans = 9\n",
    "def dfs(N, number, cnt, num):\n",
    "    global ans\n",
    "    if cnt >= 9: \n",
    "        return\n",
    "    if num == number:\n",
    "        ans = min(ans, cnt)-1\n",
    "        return\n",
    "    tmp = 0\n",
    "    i = 0\n",
    "    for i in range(0, i+cnt < 9):\n",
    "        tmp = tmp*10 + N;\n",
    "        dfs(N, number, cnt+1+i, num+tmp)\n",
    "        dfs(N, number, cnt+1+i, num-tmp)\n",
    "        dfs(N, number, cnt+1+i, num*tmp)\n",
    "        dfs(N, number, cnt+1+i, num/tmp)\n",
    "\n",
    "def solution(N, number):\n",
    "    dfs(N, number, 0, 0)\n",
    "    if ans >= 9:\n",
    "        return -1\n",
    "    return ans\n",
    "\n",
    "N = 5\n",
    "number = 12\n",
    "print(solution(N, number))"
   ]
  },
  {
   "cell_type": "code",
   "execution_count": null,
   "metadata": {},
   "outputs": [],
   "source": []
  },
  {
   "cell_type": "code",
   "execution_count": null,
   "metadata": {},
   "outputs": [],
   "source": []
  }
 ],
 "metadata": {
  "kernelspec": {
   "display_name": "py1",
   "language": "python",
   "name": "py1"
  },
  "language_info": {
   "codemirror_mode": {
    "name": "ipython",
    "version": 3
   },
   "file_extension": ".py",
   "mimetype": "text/x-python",
   "name": "python",
   "nbconvert_exporter": "python",
   "pygments_lexer": "ipython3",
   "version": "3.6.10"
  }
 },
 "nbformat": 4,
 "nbformat_minor": 2
}

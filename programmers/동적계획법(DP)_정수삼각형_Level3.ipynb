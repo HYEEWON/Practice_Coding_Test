{
 "cells": [
  {
   "cell_type": "markdown",
   "metadata": {},
   "source": [
    "정확성과 효울성이 모두 있는 문제<br>\n",
    "소요 시간 10분!!"
   ]
  },
  {
   "cell_type": "code",
   "execution_count": 17,
   "metadata": {},
   "outputs": [
    {
     "name": "stdout",
     "output_type": "stream",
     "text": [
      "30\n"
     ]
    }
   ],
   "source": [
    "def solution(triangle):\n",
    "    m = [[] for i in range(len(triangle))]\n",
    "    m[0].append(triangle[0][0])\n",
    "    for i in range(1, len(triangle)):\n",
    "        for j in range(i+1):\n",
    "            if j == 0:\n",
    "                m[i].append(m[i-1][0]+triangle[i][0])\n",
    "          \n",
    "            elif j == i:\n",
    "                m[i].append(m[i-1][-1]+triangle[i][-1])\n",
    "            else:\n",
    "                m[i].append(max(m[i-1][j-1]+triangle[i][j], m[i-1][j]+triangle[i][j]))\n",
    "    answer = max(m[-1])\n",
    "    return answer\n",
    "\n",
    "triangle = [[7], [3, 8], [8, 1, 0], [2, 7, 4, 4], [4, 5, 2, 6, 5]]\n",
    "print(solution(triangle))"
   ]
  }
 ],
 "metadata": {
  "kernelspec": {
   "display_name": "py1",
   "language": "python",
   "name": "py1"
  },
  "language_info": {
   "codemirror_mode": {
    "name": "ipython",
    "version": 3
   },
   "file_extension": ".py",
   "mimetype": "text/x-python",
   "name": "python",
   "nbconvert_exporter": "python",
   "pygments_lexer": "ipython3",
   "version": "3.6.10"
  }
 },
 "nbformat": 4,
 "nbformat_minor": 2
}

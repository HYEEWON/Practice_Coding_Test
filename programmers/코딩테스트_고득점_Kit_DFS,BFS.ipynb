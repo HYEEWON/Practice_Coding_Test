{
 "cells": [
  {
   "cell_type": "markdown",
   "metadata": {},
   "source": [
    "## 타겟넘버_Level2"
   ]
  },
  {
   "cell_type": "code",
   "execution_count": 15,
   "metadata": {},
   "outputs": [
    {
     "data": {
      "text/plain": [
       "5"
      ]
     },
     "execution_count": 15,
     "metadata": {},
     "output_type": "execute_result"
    }
   ],
   "source": [
    "answer = 0\n",
    "def dfs(cnt, s, numbers, target):\n",
    "    global answer\n",
    "    if cnt == len(numbers):\n",
    "        if s == target:\n",
    "            answer += 1\n",
    "        return\n",
    "    dfs(cnt+1, s+numbers[cnt], numbers, target)\n",
    "    dfs(cnt+1, s-numbers[cnt], numbers, target)\n",
    "    \n",
    "    \n",
    "def solution(numbers, target):\n",
    "    global answer\n",
    "    dfs(0, 0, numbers, target)\n",
    "    return answer\n",
    "\n",
    "numbers = [1, 1, 1, 1, 1]  \n",
    "target = 3\n",
    "solution(numbers, target)"
   ]
  },
  {
   "cell_type": "markdown",
   "metadata": {},
   "source": [
    "## 네트워크"
   ]
  },
  {
   "cell_type": "code",
   "execution_count": 28,
   "metadata": {},
   "outputs": [
    {
     "data": {
      "text/plain": [
       "1"
      ]
     },
     "execution_count": 28,
     "metadata": {},
     "output_type": "execute_result"
    }
   ],
   "source": [
    "## BFS ##\n",
    "from collections import deque\n",
    "\n",
    "def solution(n, computers):\n",
    "    answer = 0\n",
    "    visit = [0 for i in range(n)]\n",
    "\n",
    "    for i in range(n):\n",
    "        if visit[i] == 1:\n",
    "            continue\n",
    "        q = deque([i])\n",
    "        visit[i] = 0\n",
    "        answer += 1\n",
    "        while len(q) > 0:\n",
    "            v = q.popleft()\n",
    "            for j in range(n):\n",
    "                if v == j:\n",
    "                    continue\n",
    "                if visit[j] == 0 and computers[v][j] == 1:\n",
    "                    q.append(j)\n",
    "                    visit[j] = 1\n",
    "    return answer\n",
    "\n",
    "\n",
    "#computers = [[1, 1, 0], [1, 1, 0], [0, 0, 1]] \n",
    "computers = [[1, 1, 0], [1, 1, 1], [0, 1, 1]]\n",
    "n = 3\n",
    "solution(n, computers)"
   ]
  },
  {
   "cell_type": "code",
   "execution_count": 35,
   "metadata": {},
   "outputs": [
    {
     "data": {
      "text/plain": [
       "1"
      ]
     },
     "execution_count": 35,
     "metadata": {},
     "output_type": "execute_result"
    }
   ],
   "source": [
    "##  DFS ##\n",
    "answer = 0\n",
    "def dfs(cnt, start, n, computers):\n",
    "    global answer\n",
    "    if cnt == n:\n",
    "        return\n",
    "    \n",
    "    for i in range(n):\n",
    "        if visit[i] == 0 and start != i and computers[start][i] == 1:\n",
    "            visit[i] = 1\n",
    "            dfs(cnt+1, i, n, computers)\n",
    "    \n",
    "def solution(n, computers):\n",
    "    global answer\n",
    "    visit = [0 for i in range(n)]\n",
    "    for i in range(n):\n",
    "        if visit[i] == 0:\n",
    "            answer += 1\n",
    "            dfs(0, i, n, computers, vis)\n",
    "    return answer\n",
    "\n",
    "\n",
    "#computers = [[1, 1, 0], [1, 1, 0], [0, 0, 1]] \n",
    "computers = [[1, 1, 0], [1, 1, 1], [0, 1, 1]]\n",
    "n = 3\n",
    "solution(n, computers)"
   ]
  },
  {
   "cell_type": "code",
   "execution_count": null,
   "metadata": {},
   "outputs": [],
   "source": []
  },
  {
   "cell_type": "code",
   "execution_count": null,
   "metadata": {},
   "outputs": [],
   "source": []
  },
  {
   "cell_type": "code",
   "execution_count": null,
   "metadata": {},
   "outputs": [],
   "source": []
  },
  {
   "cell_type": "code",
   "execution_count": null,
   "metadata": {},
   "outputs": [],
   "source": []
  },
  {
   "cell_type": "code",
   "execution_count": null,
   "metadata": {},
   "outputs": [],
   "source": []
  },
  {
   "cell_type": "code",
   "execution_count": null,
   "metadata": {},
   "outputs": [],
   "source": []
  }
 ],
 "metadata": {
  "kernelspec": {
   "display_name": "py1",
   "language": "python",
   "name": "py1"
  },
  "language_info": {
   "codemirror_mode": {
    "name": "ipython",
    "version": 3
   },
   "file_extension": ".py",
   "mimetype": "text/x-python",
   "name": "python",
   "nbconvert_exporter": "python",
   "pygments_lexer": "ipython3",
   "version": "3.6.10"
  }
 },
 "nbformat": 4,
 "nbformat_minor": 2
}
